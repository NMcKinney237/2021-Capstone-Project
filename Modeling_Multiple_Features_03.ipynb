{
  "nbformat": 4,
  "nbformat_minor": 0,
  "metadata": {
    "colab": {
      "name": "Modeling_Multiple_Features.ipynb",
      "provenance": [],
      "collapsed_sections": []
    },
    "kernelspec": {
      "name": "python3",
      "display_name": "Python 3"
    },
    "language_info": {
      "name": "python"
    }
  },
  "cells": [
    {
      "cell_type": "markdown",
      "metadata": {
        "id": "J6QQ3HPf3itz"
      },
      "source": [
        "<img src=\"http://imgur.com/1ZcRyrc.png\" style=\"float: left; margin: 20px; height: 55px\">\n",
        "\n",
        "# **Capstone Project: Audio Classification Of Emotions**\n",
        "\n",
        "# Modeling On Multiple Features\n",
        "\n"
      ]
    },
    {
      "cell_type": "code",
      "metadata": {
        "id": "MJiHH4RU1SDe",
        "colab": {
          "base_uri": "https://localhost:8080/"
        },
        "outputId": "6408f702-6231-422b-ef5f-2d639f41bb29"
      },
      "source": [
        "#Mount Drive\n",
        "\n",
        "from google.colab import drive\n",
        "drive.mount('/content/My_Drive/')"
      ],
      "execution_count": 6,
      "outputs": [
        {
          "output_type": "stream",
          "name": "stdout",
          "text": [
            "Drive already mounted at /content/My_Drive/; to attempt to forcibly remount, call drive.mount(\"/content/My_Drive/\", force_remount=True).\n"
          ]
        }
      ]
    },
    {
      "cell_type": "markdown",
      "metadata": {
        "id": "fc3rv51rN-eY"
      },
      "source": [
        "## Imports"
      ]
    },
    {
      "cell_type": "code",
      "metadata": {
        "id": "E26fikvM1Soh"
      },
      "source": [
        "#Import basic, plotting libraries\n",
        "import matplotlib.pyplot as plt\n",
        "import pandas as pd\n",
        "import numpy as np\n",
        "import seaborn as sns\n",
        "\n",
        "\n",
        "%matplotlib inline\n",
        "\n",
        "#Import SK-Learn Libraries\n",
        "from sklearn.metrics import confusion_matrix, classification_report\n",
        "from sklearn.model_selection import train_test_split\n",
        "from sklearn.ensemble import RandomForestClassifier as R_Forest\n",
        "from sklearn.tree import DecisionTreeClassifier\n",
        "from sklearn.neighbors import KNeighborsClassifier as KNNClassifier\n",
        "from sklearn import svm\n",
        "from sklearn.preprocessing import LabelEncoder, StandardScaler, RobustScaler\n",
        "\n",
        "#Import Keras Layers\n",
        "import keras\n",
        "from keras import layers\n",
        "from keras import models\n",
        "from keras.layers import GlobalAveragePooling1D, Dense, MaxPooling1D, Conv1D, Flatten, Dropout\n",
        "from keras.models import Sequential\n",
        "from keras.layers.core import Activation, Dense \n",
        "from keras.layers import BatchNormalization\n",
        "from tensorflow.keras.optimizers import RMSprop\n",
        "from keras.layers import GaussianNoise\n"
      ],
      "execution_count": 59,
      "outputs": []
    },
    {
      "cell_type": "markdown",
      "metadata": {
        "id": "8oO4mxwhNFhF"
      },
      "source": [
        "## Functions"
      ]
    },
    {
      "cell_type": "code",
      "metadata": {
        "id": "4TI15bRKCYf9"
      },
      "source": [
        "def cf_matrix(y_preds, y_test):\n",
        "  '''This function creates a confusion matrix on our data'''\n",
        "  cf_matrix = confusion_matrix(y_preds, y_test)\n",
        "  labels = ['Angry', 'Calm', 'Disgust', 'Fearful', 'Happy', 'Neutral', 'Sad', 'Suprised']\n",
        "\n",
        "\n",
        "  fig, ax = plt.subplots(figsize=(15,10)) \n",
        "  sns.heatmap(cf_matrix, linewidths=1, annot=True, ax=ax, fmt='g', cmap=\"OrRd\")\n",
        "  ax.set_xlabel('Predicted labels');ax.set_ylabel('True labels')\n",
        "  ax.set_title('Confusion Matrix')\n",
        "  ax.xaxis.set_ticklabels(labels); ax.yaxis.set_ticklabels(labels);"
      ],
      "execution_count": 53,
      "outputs": []
    },
    {
      "cell_type": "code",
      "metadata": {
        "id": "trzzaYzA2RxR"
      },
      "source": [
        "#Set a random seed for reproducibility.\n",
        "np.random.seed(42)"
      ],
      "execution_count": 9,
      "outputs": []
    },
    {
      "cell_type": "code",
      "metadata": {
        "id": "OseSlgnO2cIg"
      },
      "source": [
        "#Read_CSV\n",
        "df = pd.read_csv('RAVDESS_Data.csv')"
      ],
      "execution_count": 10,
      "outputs": []
    },
    {
      "cell_type": "code",
      "metadata": {
        "colab": {
          "base_uri": "https://localhost:8080/",
          "height": 262
        },
        "id": "q9_PMagDfalQ",
        "outputId": "8001a6dc-bc27-4b72-d84b-65dbd6ffc7af"
      },
      "source": [
        "#encoded_key\n",
        "levels = ['Angry', 'Calm', 'Disgust', 'Fearful', 'Happy', 'Neutral', 'Sad', 'Suprised']\n",
        "\n",
        "#Show dataframe\n",
        "df.head(2)\n",
        "\n"
      ],
      "execution_count": 11,
      "outputs": [
        {
          "output_type": "execute_result",
          "data": {
            "text/html": [
              "<div>\n",
              "<style scoped>\n",
              "    .dataframe tbody tr th:only-of-type {\n",
              "        vertical-align: middle;\n",
              "    }\n",
              "\n",
              "    .dataframe tbody tr th {\n",
              "        vertical-align: top;\n",
              "    }\n",
              "\n",
              "    .dataframe thead th {\n",
              "        text-align: right;\n",
              "    }\n",
              "</style>\n",
              "<table border=\"1\" class=\"dataframe\">\n",
              "  <thead>\n",
              "    <tr style=\"text-align: right;\">\n",
              "      <th></th>\n",
              "      <th>path</th>\n",
              "      <th>actor</th>\n",
              "      <th>emotion_id</th>\n",
              "      <th>intensity</th>\n",
              "      <th>stated_text</th>\n",
              "      <th>gender</th>\n",
              "      <th>source</th>\n",
              "      <th>emotion</th>\n",
              "      <th>label</th>\n",
              "      <th>encoded_label</th>\n",
              "      <th>0</th>\n",
              "      <th>1</th>\n",
              "      <th>2</th>\n",
              "      <th>3</th>\n",
              "      <th>4</th>\n",
              "      <th>5</th>\n",
              "      <th>6</th>\n",
              "      <th>7</th>\n",
              "      <th>8</th>\n",
              "      <th>9</th>\n",
              "      <th>10</th>\n",
              "      <th>11</th>\n",
              "      <th>12</th>\n",
              "      <th>13</th>\n",
              "      <th>14</th>\n",
              "      <th>15</th>\n",
              "      <th>16</th>\n",
              "      <th>17</th>\n",
              "      <th>18</th>\n",
              "      <th>19</th>\n",
              "      <th>20</th>\n",
              "      <th>21</th>\n",
              "      <th>22</th>\n",
              "      <th>23</th>\n",
              "      <th>24</th>\n",
              "      <th>25</th>\n",
              "      <th>26</th>\n",
              "      <th>27</th>\n",
              "      <th>28</th>\n",
              "      <th>29</th>\n",
              "      <th>...</th>\n",
              "      <th>141</th>\n",
              "      <th>142</th>\n",
              "      <th>143</th>\n",
              "      <th>144</th>\n",
              "      <th>145</th>\n",
              "      <th>146</th>\n",
              "      <th>147</th>\n",
              "      <th>148</th>\n",
              "      <th>149</th>\n",
              "      <th>150</th>\n",
              "      <th>151</th>\n",
              "      <th>152</th>\n",
              "      <th>153</th>\n",
              "      <th>154</th>\n",
              "      <th>155</th>\n",
              "      <th>156</th>\n",
              "      <th>157</th>\n",
              "      <th>158</th>\n",
              "      <th>159</th>\n",
              "      <th>160</th>\n",
              "      <th>161</th>\n",
              "      <th>162</th>\n",
              "      <th>163</th>\n",
              "      <th>164</th>\n",
              "      <th>165</th>\n",
              "      <th>166</th>\n",
              "      <th>167</th>\n",
              "      <th>168</th>\n",
              "      <th>169</th>\n",
              "      <th>170</th>\n",
              "      <th>171</th>\n",
              "      <th>172</th>\n",
              "      <th>173</th>\n",
              "      <th>174</th>\n",
              "      <th>175</th>\n",
              "      <th>176</th>\n",
              "      <th>177</th>\n",
              "      <th>178</th>\n",
              "      <th>179</th>\n",
              "      <th>180</th>\n",
              "    </tr>\n",
              "  </thead>\n",
              "  <tbody>\n",
              "    <tr>\n",
              "      <th>0</th>\n",
              "      <td>03-01-05-01-02-01-16.wav</td>\n",
              "      <td>16</td>\n",
              "      <td>5</td>\n",
              "      <td>Normal</td>\n",
              "      <td>Dogs are sitting by the door</td>\n",
              "      <td>Female</td>\n",
              "      <td>RAVDESS</td>\n",
              "      <td>Angry</td>\n",
              "      <td>Angry</td>\n",
              "      <td>0</td>\n",
              "      <td>0.206235</td>\n",
              "      <td>-493.219055</td>\n",
              "      <td>49.73700</td>\n",
              "      <td>-10.452538</td>\n",
              "      <td>9.418360</td>\n",
              "      <td>-18.108517</td>\n",
              "      <td>-2.562056</td>\n",
              "      <td>-15.887474</td>\n",
              "      <td>-10.313912</td>\n",
              "      <td>-19.508406</td>\n",
              "      <td>2.387971</td>\n",
              "      <td>-13.172427</td>\n",
              "      <td>-4.483107</td>\n",
              "      <td>-7.110461</td>\n",
              "      <td>-4.474319</td>\n",
              "      <td>-10.150778</td>\n",
              "      <td>-4.960736</td>\n",
              "      <td>-4.617444</td>\n",
              "      <td>-7.545546</td>\n",
              "      <td>-8.921757</td>\n",
              "      <td>-2.188476</td>\n",
              "      <td>-6.765614</td>\n",
              "      <td>0.304586</td>\n",
              "      <td>-3.479743</td>\n",
              "      <td>0.658508</td>\n",
              "      <td>-4.971695</td>\n",
              "      <td>-1.568901</td>\n",
              "      <td>-1.941403</td>\n",
              "      <td>-2.932507</td>\n",
              "      <td>2.131908</td>\n",
              "      <td>...</td>\n",
              "      <td>0.019860</td>\n",
              "      <td>0.015898</td>\n",
              "      <td>0.009946</td>\n",
              "      <td>0.008634</td>\n",
              "      <td>0.004398</td>\n",
              "      <td>0.003770</td>\n",
              "      <td>0.001965</td>\n",
              "      <td>0.001701</td>\n",
              "      <td>0.003053</td>\n",
              "      <td>0.002275</td>\n",
              "      <td>0.003123</td>\n",
              "      <td>0.002102</td>\n",
              "      <td>0.001637</td>\n",
              "      <td>0.001332</td>\n",
              "      <td>0.001229</td>\n",
              "      <td>0.002464</td>\n",
              "      <td>0.001237</td>\n",
              "      <td>0.001474</td>\n",
              "      <td>0.002601</td>\n",
              "      <td>0.003817</td>\n",
              "      <td>0.006698</td>\n",
              "      <td>0.010140</td>\n",
              "      <td>0.009425</td>\n",
              "      <td>0.007438</td>\n",
              "      <td>0.004239</td>\n",
              "      <td>0.005060</td>\n",
              "      <td>0.005636</td>\n",
              "      <td>0.008725</td>\n",
              "      <td>0.010372</td>\n",
              "      <td>0.013555</td>\n",
              "      <td>0.009122</td>\n",
              "      <td>0.004178</td>\n",
              "      <td>0.001950</td>\n",
              "      <td>0.001536</td>\n",
              "      <td>0.000905</td>\n",
              "      <td>0.000521</td>\n",
              "      <td>0.000219</td>\n",
              "      <td>0.000050</td>\n",
              "      <td>0.000016</td>\n",
              "      <td>8.843753e-07</td>\n",
              "    </tr>\n",
              "    <tr>\n",
              "      <th>1</th>\n",
              "      <td>03-01-06-01-02-02-16.wav</td>\n",
              "      <td>16</td>\n",
              "      <td>6</td>\n",
              "      <td>Normal</td>\n",
              "      <td>Dogs are sitting by the door</td>\n",
              "      <td>Female</td>\n",
              "      <td>RAVDESS</td>\n",
              "      <td>Fearful</td>\n",
              "      <td>Fearful</td>\n",
              "      <td>3</td>\n",
              "      <td>0.198561</td>\n",
              "      <td>-524.782166</td>\n",
              "      <td>48.70853</td>\n",
              "      <td>-11.586839</td>\n",
              "      <td>9.986774</td>\n",
              "      <td>-6.686351</td>\n",
              "      <td>-6.897908</td>\n",
              "      <td>-21.218477</td>\n",
              "      <td>-13.014283</td>\n",
              "      <td>-13.422829</td>\n",
              "      <td>4.108604</td>\n",
              "      <td>-17.836227</td>\n",
              "      <td>-6.692956</td>\n",
              "      <td>-0.580142</td>\n",
              "      <td>-5.878499</td>\n",
              "      <td>-8.971943</td>\n",
              "      <td>-3.641211</td>\n",
              "      <td>-7.910971</td>\n",
              "      <td>-2.756809</td>\n",
              "      <td>-5.727985</td>\n",
              "      <td>-4.638661</td>\n",
              "      <td>-0.558540</td>\n",
              "      <td>1.017308</td>\n",
              "      <td>2.308388</td>\n",
              "      <td>4.668447</td>\n",
              "      <td>1.556933</td>\n",
              "      <td>6.395074</td>\n",
              "      <td>0.865194</td>\n",
              "      <td>1.460632</td>\n",
              "      <td>0.454776</td>\n",
              "      <td>...</td>\n",
              "      <td>0.000639</td>\n",
              "      <td>0.000527</td>\n",
              "      <td>0.000755</td>\n",
              "      <td>0.001117</td>\n",
              "      <td>0.001851</td>\n",
              "      <td>0.001446</td>\n",
              "      <td>0.000802</td>\n",
              "      <td>0.000330</td>\n",
              "      <td>0.000187</td>\n",
              "      <td>0.000174</td>\n",
              "      <td>0.000124</td>\n",
              "      <td>0.000189</td>\n",
              "      <td>0.000318</td>\n",
              "      <td>0.000454</td>\n",
              "      <td>0.000682</td>\n",
              "      <td>0.000926</td>\n",
              "      <td>0.001078</td>\n",
              "      <td>0.001136</td>\n",
              "      <td>0.000973</td>\n",
              "      <td>0.001075</td>\n",
              "      <td>0.001204</td>\n",
              "      <td>0.001567</td>\n",
              "      <td>0.001267</td>\n",
              "      <td>0.001245</td>\n",
              "      <td>0.001831</td>\n",
              "      <td>0.003744</td>\n",
              "      <td>0.003411</td>\n",
              "      <td>0.004850</td>\n",
              "      <td>0.006413</td>\n",
              "      <td>0.004445</td>\n",
              "      <td>0.002589</td>\n",
              "      <td>0.001590</td>\n",
              "      <td>0.001378</td>\n",
              "      <td>0.001258</td>\n",
              "      <td>0.000637</td>\n",
              "      <td>0.000272</td>\n",
              "      <td>0.000092</td>\n",
              "      <td>0.000026</td>\n",
              "      <td>0.000005</td>\n",
              "      <td>4.393639e-07</td>\n",
              "    </tr>\n",
              "  </tbody>\n",
              "</table>\n",
              "<p>2 rows × 191 columns</p>\n",
              "</div>"
            ],
            "text/plain": [
              "                       path  actor  ...       179           180\n",
              "0  03-01-05-01-02-01-16.wav     16  ...  0.000016  8.843753e-07\n",
              "1  03-01-06-01-02-02-16.wav     16  ...  0.000005  4.393639e-07\n",
              "\n",
              "[2 rows x 191 columns]"
            ]
          },
          "metadata": {},
          "execution_count": 11
        }
      ]
    },
    {
      "cell_type": "code",
      "metadata": {
        "id": "CuOFromjFcpM"
      },
      "source": [
        "le = LabelEncoder()\n",
        "df['encoded_label']= le.fit_transform(df['label'])"
      ],
      "execution_count": 12,
      "outputs": []
    },
    {
      "cell_type": "code",
      "metadata": {
        "id": "ag6mekZB2jpH",
        "colab": {
          "base_uri": "https://localhost:8080/"
        },
        "outputId": "17262470-6028-4557-db73-bb877c388c32"
      },
      "source": [
        "#Select X and y features\n",
        "X = df.iloc[:, 10:].values\n",
        "y = df['encoded_label'].values\n",
        "\n",
        "print(X.shape)\n",
        "print(y.shape)"
      ],
      "execution_count": 13,
      "outputs": [
        {
          "output_type": "stream",
          "name": "stdout",
          "text": [
            "(1440, 181)\n",
            "(1440,)\n"
          ]
        }
      ]
    },
    {
      "cell_type": "code",
      "metadata": {
        "colab": {
          "base_uri": "https://localhost:8080/"
        },
        "id": "f80bnKjhtSDP",
        "outputId": "0f9d3c64-7615-4748-8df3-0edffaf81fa9"
      },
      "source": [
        "#Add as array\n",
        "X = np.asarray(X)\n",
        "y = np.asarray(y)\n",
        "\n",
        "\n",
        "X.shape, y.shape"
      ],
      "execution_count": 14,
      "outputs": [
        {
          "output_type": "execute_result",
          "data": {
            "text/plain": [
              "((1440, 181), (1440,))"
            ]
          },
          "metadata": {},
          "execution_count": 14
        }
      ]
    },
    {
      "cell_type": "code",
      "metadata": {
        "id": "4w5QIZLzv_Dn",
        "colab": {
          "base_uri": "https://localhost:8080/"
        },
        "outputId": "83a0421b-3480-4e83-b3f4-2752305db08d"
      },
      "source": [
        "#Create train-test split\n",
        "X_train, X_test, y_train, y_test = train_test_split(X, y, random_state=42, shuffle = True)\n",
        "\n",
        "X_train.shape, y_train.shape, X_test.shape, y_test.shape"
      ],
      "execution_count": 15,
      "outputs": [
        {
          "output_type": "execute_result",
          "data": {
            "text/plain": [
              "((1080, 181), (1080,), (360, 181), (360,))"
            ]
          },
          "metadata": {},
          "execution_count": 15
        }
      ]
    },
    {
      "cell_type": "code",
      "metadata": {
        "id": "roHJSSx1f_fA"
      },
      "source": [
        "#Scale X_training Data\n",
        "sc = StandardScaler()\n",
        "\n",
        "X_train_sc = sc.fit_transform(X_train)\n",
        "X_test_sc = sc.transform(X_test)"
      ],
      "execution_count": 16,
      "outputs": []
    },
    {
      "cell_type": "code",
      "metadata": {
        "colab": {
          "base_uri": "https://localhost:8080/"
        },
        "id": "g8kffn-GYjON",
        "outputId": "305a9c9e-5510-4ae6-fb24-e913b6bd2dd2"
      },
      "source": [
        "#Expand dimensions for nueral net\n",
        "X_train_sc_1 = np.expand_dims(X_train_sc, axis=2)\n",
        "X_test_sc_1 = np.expand_dims(X_test_sc, axis=2)\n",
        "\n",
        "X_train_sc_1.shape, X_test_sc_1.shape"
      ],
      "execution_count": 17,
      "outputs": [
        {
          "output_type": "execute_result",
          "data": {
            "text/plain": [
              "((1080, 181, 1), (360, 181, 1))"
            ]
          },
          "metadata": {},
          "execution_count": 17
        }
      ]
    },
    {
      "cell_type": "markdown",
      "metadata": {
        "id": "CrvvZhATOl3K"
      },
      "source": [
        "## Models"
      ]
    },
    {
      "cell_type": "code",
      "metadata": {
        "id": "CPGMgVXa8Oxe"
      },
      "source": [
        "SVM = svm.SVC()"
      ],
      "execution_count": 18,
      "outputs": []
    },
    {
      "cell_type": "code",
      "metadata": {
        "colab": {
          "base_uri": "https://localhost:8080/"
        },
        "id": "MOiWyoaJ8Oz0",
        "outputId": "57588d20-b0f1-4921-dcf8-79849d2db5aa"
      },
      "source": [
        "SVM.fit(X_train_sc, y_train)"
      ],
      "execution_count": 19,
      "outputs": [
        {
          "output_type": "execute_result",
          "data": {
            "text/plain": [
              "SVC(C=1.0, break_ties=False, cache_size=200, class_weight=None, coef0=0.0,\n",
              "    decision_function_shape='ovr', degree=3, gamma='scale', kernel='rbf',\n",
              "    max_iter=-1, probability=False, random_state=None, shrinking=True,\n",
              "    tol=0.001, verbose=False)"
            ]
          },
          "metadata": {},
          "execution_count": 19
        }
      ]
    },
    {
      "cell_type": "code",
      "metadata": {
        "id": "7jFQJIECLclw"
      },
      "source": [
        "y_predSVM = SVM.predict(X_test_sc)"
      ],
      "execution_count": 20,
      "outputs": []
    },
    {
      "cell_type": "code",
      "metadata": {
        "colab": {
          "base_uri": "https://localhost:8080/"
        },
        "id": "V6inuKSK7iEu",
        "outputId": "496ffb89-0194-4cf4-e0a3-8ba41e4fd783"
      },
      "source": [
        "print(classification_report(y_test,y_predSVM,target_names=levels))"
      ],
      "execution_count": 21,
      "outputs": [
        {
          "output_type": "stream",
          "name": "stdout",
          "text": [
            "              precision    recall  f1-score   support\n",
            "\n",
            "       Angry       0.69      0.52      0.60        48\n",
            "        Calm       0.63      0.76      0.69        51\n",
            "     Disgust       0.53      0.58      0.55        48\n",
            "     Fearful       0.76      0.40      0.53        47\n",
            "       Happy       0.42      0.31      0.35        49\n",
            "     Neutral       0.00      0.00      0.00        26\n",
            "         Sad       0.29      0.63      0.40        41\n",
            "    Suprised       0.59      0.68      0.63        50\n",
            "\n",
            "    accuracy                           0.52       360\n",
            "   macro avg       0.49      0.49      0.47       360\n",
            "weighted avg       0.52      0.52      0.50       360\n",
            "\n"
          ]
        },
        {
          "output_type": "stream",
          "name": "stderr",
          "text": [
            "/usr/local/lib/python3.7/dist-packages/sklearn/metrics/_classification.py:1272: UndefinedMetricWarning: Precision and F-score are ill-defined and being set to 0.0 in labels with no predicted samples. Use `zero_division` parameter to control this behavior.\n",
            "  _warn_prf(average, modifier, msg_start, len(result))\n"
          ]
        }
      ]
    },
    {
      "cell_type": "code",
      "metadata": {
        "colab": {
          "base_uri": "https://localhost:8080/",
          "height": 621
        },
        "id": "CKRWa5dZWdG1",
        "outputId": "3e275547-a3a0-4393-be34-3156cf062135"
      },
      "source": [
        "cf_matrix(y_predSVM,y_test)"
      ],
      "execution_count": 22,
      "outputs": [
        {
          "output_type": "display_data",
          "data": {
            "image/png": "[encoded data removed]",
            "text/plain": [
              "<Figure size 1080x720 with 2 Axes>"
            ]
          },
          "metadata": {
            "needs_background": "light"
          }
        }
      ]
    },
    {
      "cell_type": "markdown",
      "metadata": {
        "id": "MXBShlkV68si"
      },
      "source": [
        "#### K-Nearest Neighbors"
      ]
    },
    {
      "cell_type": "code",
      "metadata": {
        "colab": {
          "base_uri": "https://localhost:8080/"
        },
        "id": "c5rN2zhg67M3",
        "outputId": "04bae6fb-43ca-47d0-c8e5-4fb198d5af7c"
      },
      "source": [
        "clf = KNNClassifier()\n",
        "clf.fit(X_train_sc, y_train)"
      ],
      "execution_count": 23,
      "outputs": [
        {
          "output_type": "execute_result",
          "data": {
            "text/plain": [
              "KNeighborsClassifier(algorithm='auto', leaf_size=30, metric='minkowski',\n",
              "                     metric_params=None, n_jobs=None, n_neighbors=5, p=2,\n",
              "                     weights='uniform')"
            ]
          },
          "metadata": {},
          "execution_count": 23
        }
      ]
    },
    {
      "cell_type": "code",
      "metadata": {
        "id": "Usqz4RRV67Py"
      },
      "source": [
        "y_predKNN = clf.predict(X_test_sc)"
      ],
      "execution_count": 24,
      "outputs": []
    },
    {
      "cell_type": "code",
      "metadata": {
        "colab": {
          "base_uri": "https://localhost:8080/"
        },
        "id": "Ya0O7syD67Sv",
        "outputId": "c832a305-ed97-4a15-97e3-3bd960297d7c"
      },
      "source": [
        "print(classification_report(y_test,y_predKNN,target_names=levels))"
      ],
      "execution_count": 25,
      "outputs": [
        {
          "output_type": "stream",
          "name": "stdout",
          "text": [
            "              precision    recall  f1-score   support\n",
            "\n",
            "       Angry       0.58      0.62      0.60        48\n",
            "        Calm       0.66      0.84      0.74        51\n",
            "     Disgust       0.60      0.60      0.60        48\n",
            "     Fearful       0.49      0.45      0.47        47\n",
            "       Happy       0.45      0.35      0.39        49\n",
            "     Neutral       0.39      0.42      0.41        26\n",
            "         Sad       0.52      0.34      0.41        41\n",
            "    Suprised       0.59      0.70      0.64        50\n",
            "\n",
            "    accuracy                           0.56       360\n",
            "   macro avg       0.54      0.54      0.53       360\n",
            "weighted avg       0.55      0.56      0.55       360\n",
            "\n"
          ]
        }
      ]
    },
    {
      "cell_type": "code",
      "metadata": {
        "colab": {
          "base_uri": "https://localhost:8080/",
          "height": 621
        },
        "id": "5BbbwDQTWpTY",
        "outputId": "731c0a67-f922-4eeb-c136-211cd7c3ce55"
      },
      "source": [
        "cf_matrix(y_predKNN,y_test)"
      ],
      "execution_count": 26,
      "outputs": [
        {
          "output_type": "display_data",
          "data": {
            "image/png": "[encoded data removed]",
            "text/plain": [
              "<Figure size 1080x720 with 2 Axes>"
            ]
          },
          "metadata": {
            "needs_background": "light"
          }
        }
      ]
    },
    {
      "cell_type": "markdown",
      "metadata": {
        "id": "eEP1vPEZ9fi3"
      },
      "source": [
        "#### Random Forest Classifier"
      ]
    },
    {
      "cell_type": "code",
      "metadata": {
        "id": "VbCxZIFu9SF9"
      },
      "source": [
        "rforest = R_Forest(criterion=\"gini\", \n",
        "                   max_depth=5, \n",
        "                   max_features=\"log2\",  \n",
        "                   min_samples_leaf = 3, \n",
        "                   min_samples_split = 20, \n",
        "                   n_estimators= 22000, \n",
        "                   )"
      ],
      "execution_count": 27,
      "outputs": []
    },
    {
      "cell_type": "code",
      "metadata": {
        "colab": {
          "base_uri": "https://localhost:8080/"
        },
        "id": "UcRdc9SN9SQz",
        "outputId": "da38abe0-a5e7-4615-c079-7c2ae625af7e"
      },
      "source": [
        "#Fit Random forest\n",
        "rforest.fit(X_train_sc, y_train)"
      ],
      "execution_count": 28,
      "outputs": [
        {
          "output_type": "execute_result",
          "data": {
            "text/plain": [
              "RandomForestClassifier(bootstrap=True, ccp_alpha=0.0, class_weight=None,\n",
              "                       criterion='gini', max_depth=5, max_features='log2',\n",
              "                       max_leaf_nodes=None, max_samples=None,\n",
              "                       min_impurity_decrease=0.0, min_impurity_split=None,\n",
              "                       min_samples_leaf=3, min_samples_split=20,\n",
              "                       min_weight_fraction_leaf=0.0, n_estimators=22000,\n",
              "                       n_jobs=None, oob_score=False, random_state=None,\n",
              "                       verbose=0, warm_start=False)"
            ]
          },
          "metadata": {},
          "execution_count": 28
        }
      ]
    },
    {
      "cell_type": "code",
      "metadata": {
        "id": "fnhVDCYC9pZ5"
      },
      "source": [
        "#Get predictions\n",
        "y_pred = rforest.predict(X_test_sc)\n"
      ],
      "execution_count": 29,
      "outputs": []
    },
    {
      "cell_type": "code",
      "metadata": {
        "colab": {
          "base_uri": "https://localhost:8080/"
        },
        "id": "7SOAPuSL9uB5",
        "outputId": "95909d36-d30a-49a3-8b6c-7a5407e4a70e"
      },
      "source": [
        "#Print classification report\n",
        "print(classification_report(y_test,y_pred,target_names=levels))"
      ],
      "execution_count": 30,
      "outputs": [
        {
          "output_type": "stream",
          "name": "stdout",
          "text": [
            "              precision    recall  f1-score   support\n",
            "\n",
            "       Angry       0.80      0.50      0.62        48\n",
            "        Calm       0.47      0.84      0.61        51\n",
            "     Disgust       0.39      0.54      0.46        48\n",
            "     Fearful       0.66      0.45      0.53        47\n",
            "       Happy       0.36      0.29      0.32        49\n",
            "     Neutral       0.00      0.00      0.00        26\n",
            "         Sad       0.28      0.29      0.29        41\n",
            "    Suprised       0.46      0.54      0.50        50\n",
            "\n",
            "    accuracy                           0.46       360\n",
            "   macro avg       0.43      0.43      0.41       360\n",
            "weighted avg       0.46      0.46      0.44       360\n",
            "\n"
          ]
        },
        {
          "output_type": "stream",
          "name": "stderr",
          "text": [
            "/usr/local/lib/python3.7/dist-packages/sklearn/metrics/_classification.py:1272: UndefinedMetricWarning: Precision and F-score are ill-defined and being set to 0.0 in labels with no predicted samples. Use `zero_division` parameter to control this behavior.\n",
            "  _warn_prf(average, modifier, msg_start, len(result))\n"
          ]
        }
      ]
    },
    {
      "cell_type": "code",
      "metadata": {
        "colab": {
          "base_uri": "https://localhost:8080/",
          "height": 621
        },
        "id": "MqrjMpCONtdZ",
        "outputId": "cff17684-e84d-45b3-e045-28c67ec92b65"
      },
      "source": [
        "#Plot confusion matrix\n",
        "cf_matrix(y_pred,y_test)"
      ],
      "execution_count": 31,
      "outputs": [
        {
          "output_type": "display_data",
          "data": {
            "image/png": "[encoded data removed]",
            "text/plain": [
              "<Figure size 1080x720 with 2 Axes>"
            ]
          },
          "metadata": {
            "needs_background": "light"
          }
        }
      ]
    },
    {
      "cell_type": "markdown",
      "metadata": {
        "id": "MGTasf-O9kzS"
      },
      "source": [
        "#### Decision Tree Classifier\n"
      ]
    },
    {
      "cell_type": "code",
      "metadata": {
        "id": "6LBP_bQtt2vh"
      },
      "source": [
        "#Instantiate decision tree \n",
        "dtree = DecisionTreeClassifier()"
      ],
      "execution_count": 32,
      "outputs": []
    },
    {
      "cell_type": "code",
      "metadata": {
        "colab": {
          "base_uri": "https://localhost:8080/"
        },
        "id": "vahlWBeot2yB",
        "outputId": "9547e74e-77cb-4243-c439-fcdc42575f90"
      },
      "source": [
        "#Fit decision tree\n",
        "dtree.fit(X_train_sc, y_train)"
      ],
      "execution_count": 33,
      "outputs": [
        {
          "output_type": "execute_result",
          "data": {
            "text/plain": [
              "DecisionTreeClassifier(ccp_alpha=0.0, class_weight=None, criterion='gini',\n",
              "                       max_depth=None, max_features=None, max_leaf_nodes=None,\n",
              "                       min_impurity_decrease=0.0, min_impurity_split=None,\n",
              "                       min_samples_leaf=1, min_samples_split=2,\n",
              "                       min_weight_fraction_leaf=0.0, presort='deprecated',\n",
              "                       random_state=None, splitter='best')"
            ]
          },
          "metadata": {},
          "execution_count": 33
        }
      ]
    },
    {
      "cell_type": "code",
      "metadata": {
        "id": "rgCRqDQAuBlV"
      },
      "source": [
        "#Predict data\n",
        "y_preds = dtree.predict(X_test_sc)\n",
        "\n"
      ],
      "execution_count": 34,
      "outputs": []
    },
    {
      "cell_type": "code",
      "metadata": {
        "colab": {
          "base_uri": "https://localhost:8080/"
        },
        "id": "e7FQBAVct22R",
        "outputId": "7da8d12f-53cc-4baa-9b94-976931e3dd8b"
      },
      "source": [
        "#Print classification report\n",
        "print(classification_report(y_test,y_preds,target_names=levels))"
      ],
      "execution_count": 35,
      "outputs": [
        {
          "output_type": "stream",
          "name": "stdout",
          "text": [
            "              precision    recall  f1-score   support\n",
            "\n",
            "       Angry       0.53      0.58      0.55        48\n",
            "        Calm       0.50      0.45      0.47        51\n",
            "     Disgust       0.38      0.33      0.36        48\n",
            "     Fearful       0.45      0.43      0.44        47\n",
            "       Happy       0.39      0.37      0.38        49\n",
            "     Neutral       0.21      0.23      0.22        26\n",
            "         Sad       0.28      0.34      0.31        41\n",
            "    Suprised       0.42      0.42      0.42        50\n",
            "\n",
            "    accuracy                           0.41       360\n",
            "   macro avg       0.40      0.39      0.39       360\n",
            "weighted avg       0.41      0.41      0.41       360\n",
            "\n"
          ]
        }
      ]
    },
    {
      "cell_type": "code",
      "metadata": {
        "colab": {
          "base_uri": "https://localhost:8080/",
          "height": 621
        },
        "id": "Q4rtehybN0f6",
        "outputId": "e10b1083-1465-4bdc-f774-ef4c270321a5"
      },
      "source": [
        "#Plot confusion matrix\n",
        "cf_matrix(y_preds,y_test)"
      ],
      "execution_count": 36,
      "outputs": [
        {
          "output_type": "display_data",
          "data": {
            "image/png": "[encoded data removed]",
            "text/plain": [
              "<Figure size 1080x720 with 2 Axes>"
            ]
          },
          "metadata": {
            "needs_background": "light"
          }
        }
      ]
    },
    {
      "cell_type": "markdown",
      "metadata": {
        "id": "N22iaZwz9x54"
      },
      "source": [
        "#### Convolutional Nueral Net (CNN)"
      ]
    },
    {
      "cell_type": "code",
      "metadata": {
        "colab": {
          "base_uri": "https://localhost:8080/"
        },
        "id": "AswiqOVD3hLP",
        "outputId": "fb0aa184-d916-4a0a-b806-f052c6a5641c"
      },
      "source": [
        "#Develop model\n",
        "model = models.Sequential()\n",
        "model.add(Conv1D(264, kernel_size=5, strides=1,  activation='relu', input_shape=(X_train.shape[1], 1)))\n",
        "model.add(Dropout(0.2))\n",
        "model.add(MaxPooling1D(pool_size=5, strides = 2))\n",
        "model.add(GaussianNoise(0.1))\n",
        "model.add(Conv1D(128, kernel_size=5, strides=1, activation='relu'))\n",
        "model.add(Dropout(0.2))\n",
        "model.add(layers.Flatten())\n",
        "model.add(layers.Dense(64, activation='relu'))\n",
        "model.add(layers.Dense(8, activation='softmax'))\n",
        "\n",
        "\n",
        " # Select loss function and optimizer\n",
        "model.compile(loss='sparse_categorical_crossentropy', \n",
        "              optimizer='rmsprop', \n",
        "              metrics=['accuracy'])\n",
        "\n",
        "model.summary()"
      ],
      "execution_count": 37,
      "outputs": [
        {
          "output_type": "stream",
          "name": "stdout",
          "text": [
            "Model: \"sequential\"\n",
            "_________________________________________________________________\n",
            "Layer (type)                 Output Shape              Param #   \n",
            "=================================================================\n",
            "conv1d (Conv1D)              (None, 177, 264)          1584      \n",
            "_________________________________________________________________\n",
            "dropout (Dropout)            (None, 177, 264)          0         \n",
            "_________________________________________________________________\n",
            "max_pooling1d (MaxPooling1D) (None, 87, 264)           0         \n",
            "_________________________________________________________________\n",
            "gaussian_noise (GaussianNois (None, 87, 264)           0         \n",
            "_________________________________________________________________\n",
            "conv1d_1 (Conv1D)            (None, 83, 128)           169088    \n",
            "_________________________________________________________________\n",
            "dropout_1 (Dropout)          (None, 83, 128)           0         \n",
            "_________________________________________________________________\n",
            "flatten (Flatten)            (None, 10624)             0         \n",
            "_________________________________________________________________\n",
            "dense (Dense)                (None, 64)                680000    \n",
            "_________________________________________________________________\n",
            "dense_1 (Dense)              (None, 8)                 520       \n",
            "=================================================================\n",
            "Total params: 851,192\n",
            "Trainable params: 851,192\n",
            "Non-trainable params: 0\n",
            "_________________________________________________________________\n"
          ]
        }
      ]
    },
    {
      "cell_type": "code",
      "metadata": {
        "colab": {
          "base_uri": "https://localhost:8080/"
        },
        "id": "vjud8R_6dKg_",
        "outputId": "cbfa609c-639c-43ed-f465-08fd155fb663"
      },
      "source": [
        "#fit and train model\n",
        "history = model.fit(\n",
        "    X_train_sc_1,\n",
        "    y_train,\n",
        "    epochs=60,\n",
        "    batch_size=15,\n",
        "    validation_data=(X_test_sc_1, y_test)\n",
        "  )\n"
      ],
      "execution_count": 38,
      "outputs": [
        {
          "output_type": "stream",
          "name": "stdout",
          "text": [
            "Epoch 1/60\n",
            "72/72 [==============================] - 7s 87ms/step - loss: 1.9020 - accuracy: 0.2778 - val_loss: 1.7009 - val_accuracy: 0.3806\n",
            "Epoch 2/60\n",
            "72/72 [==============================] - 6s 85ms/step - loss: 1.6561 - accuracy: 0.3620 - val_loss: 1.6825 - val_accuracy: 0.4111\n",
            "Epoch 3/60\n",
            "72/72 [==============================] - 6s 85ms/step - loss: 1.5727 - accuracy: 0.4056 - val_loss: 1.6132 - val_accuracy: 0.4222\n",
            "Epoch 4/60\n",
            "72/72 [==============================] - 6s 85ms/step - loss: 1.4575 - accuracy: 0.4491 - val_loss: 1.6880 - val_accuracy: 0.4083\n",
            "Epoch 5/60\n",
            "72/72 [==============================] - 6s 86ms/step - loss: 1.4144 - accuracy: 0.4750 - val_loss: 1.6219 - val_accuracy: 0.4306\n",
            "Epoch 6/60\n",
            "72/72 [==============================] - 6s 85ms/step - loss: 1.3461 - accuracy: 0.4954 - val_loss: 1.5886 - val_accuracy: 0.4333\n",
            "Epoch 7/60\n",
            "72/72 [==============================] - 6s 86ms/step - loss: 1.2877 - accuracy: 0.5130 - val_loss: 1.6181 - val_accuracy: 0.4333\n",
            "Epoch 8/60\n",
            "72/72 [==============================] - 6s 85ms/step - loss: 1.2247 - accuracy: 0.5704 - val_loss: 1.5712 - val_accuracy: 0.4417\n",
            "Epoch 9/60\n",
            "72/72 [==============================] - 6s 85ms/step - loss: 1.1769 - accuracy: 0.5565 - val_loss: 1.5477 - val_accuracy: 0.4694\n",
            "Epoch 10/60\n",
            "72/72 [==============================] - 6s 86ms/step - loss: 1.1223 - accuracy: 0.5676 - val_loss: 1.6745 - val_accuracy: 0.4417\n",
            "Epoch 11/60\n",
            "72/72 [==============================] - 6s 86ms/step - loss: 1.0668 - accuracy: 0.6120 - val_loss: 1.8025 - val_accuracy: 0.4583\n",
            "Epoch 12/60\n",
            "72/72 [==============================] - 6s 87ms/step - loss: 0.9981 - accuracy: 0.6343 - val_loss: 1.5571 - val_accuracy: 0.4861\n",
            "Epoch 13/60\n",
            "72/72 [==============================] - 6s 85ms/step - loss: 0.9723 - accuracy: 0.6463 - val_loss: 1.5521 - val_accuracy: 0.4944\n",
            "Epoch 14/60\n",
            "72/72 [==============================] - 6s 86ms/step - loss: 0.9071 - accuracy: 0.6731 - val_loss: 1.7147 - val_accuracy: 0.4972\n",
            "Epoch 15/60\n",
            "72/72 [==============================] - 6s 85ms/step - loss: 0.8849 - accuracy: 0.6657 - val_loss: 1.6676 - val_accuracy: 0.4667\n",
            "Epoch 16/60\n",
            "72/72 [==============================] - 6s 87ms/step - loss: 0.8579 - accuracy: 0.6833 - val_loss: 1.6440 - val_accuracy: 0.5056\n",
            "Epoch 17/60\n",
            "72/72 [==============================] - 6s 87ms/step - loss: 0.7638 - accuracy: 0.7278 - val_loss: 1.7103 - val_accuracy: 0.5111\n",
            "Epoch 18/60\n",
            "72/72 [==============================] - 6s 86ms/step - loss: 0.7239 - accuracy: 0.7537 - val_loss: 1.7659 - val_accuracy: 0.5194\n",
            "Epoch 19/60\n",
            "72/72 [==============================] - 6s 87ms/step - loss: 0.7188 - accuracy: 0.7324 - val_loss: 1.9581 - val_accuracy: 0.5333\n",
            "Epoch 20/60\n",
            "72/72 [==============================] - 6s 86ms/step - loss: 0.6463 - accuracy: 0.7620 - val_loss: 1.7074 - val_accuracy: 0.5306\n",
            "Epoch 21/60\n",
            "72/72 [==============================] - 6s 85ms/step - loss: 0.6040 - accuracy: 0.7880 - val_loss: 1.6261 - val_accuracy: 0.5306\n",
            "Epoch 22/60\n",
            "72/72 [==============================] - 6s 87ms/step - loss: 0.5925 - accuracy: 0.7926 - val_loss: 1.7139 - val_accuracy: 0.5306\n",
            "Epoch 23/60\n",
            "72/72 [==============================] - 6s 84ms/step - loss: 0.5104 - accuracy: 0.8176 - val_loss: 1.9247 - val_accuracy: 0.5333\n",
            "Epoch 24/60\n",
            "72/72 [==============================] - 6s 86ms/step - loss: 0.5171 - accuracy: 0.8194 - val_loss: 1.8276 - val_accuracy: 0.5528\n",
            "Epoch 25/60\n",
            "72/72 [==============================] - 6s 86ms/step - loss: 0.4832 - accuracy: 0.8352 - val_loss: 1.8520 - val_accuracy: 0.5500\n",
            "Epoch 26/60\n",
            "72/72 [==============================] - 6s 85ms/step - loss: 0.4218 - accuracy: 0.8694 - val_loss: 2.2825 - val_accuracy: 0.5083\n",
            "Epoch 27/60\n",
            "72/72 [==============================] - 6s 85ms/step - loss: 0.3951 - accuracy: 0.8630 - val_loss: 2.3696 - val_accuracy: 0.5500\n",
            "Epoch 28/60\n",
            "72/72 [==============================] - 6s 85ms/step - loss: 0.3886 - accuracy: 0.8694 - val_loss: 2.1479 - val_accuracy: 0.5583\n",
            "Epoch 29/60\n",
            "72/72 [==============================] - 6s 86ms/step - loss: 0.3611 - accuracy: 0.8741 - val_loss: 2.2542 - val_accuracy: 0.5361\n",
            "Epoch 30/60\n",
            "72/72 [==============================] - 6s 86ms/step - loss: 0.3327 - accuracy: 0.8861 - val_loss: 2.2644 - val_accuracy: 0.5250\n",
            "Epoch 31/60\n",
            "72/72 [==============================] - 6s 87ms/step - loss: 0.3156 - accuracy: 0.8972 - val_loss: 2.1344 - val_accuracy: 0.5417\n",
            "Epoch 32/60\n",
            "72/72 [==============================] - 6s 86ms/step - loss: 0.2779 - accuracy: 0.9009 - val_loss: 2.1558 - val_accuracy: 0.5944\n",
            "Epoch 33/60\n",
            "72/72 [==============================] - 6s 84ms/step - loss: 0.2604 - accuracy: 0.8954 - val_loss: 2.5594 - val_accuracy: 0.5528\n",
            "Epoch 34/60\n",
            "72/72 [==============================] - 6s 85ms/step - loss: 0.2702 - accuracy: 0.9102 - val_loss: 2.5913 - val_accuracy: 0.5389\n",
            "Epoch 35/60\n",
            "72/72 [==============================] - 6s 85ms/step - loss: 0.2511 - accuracy: 0.9259 - val_loss: 2.7817 - val_accuracy: 0.5472\n",
            "Epoch 36/60\n",
            "72/72 [==============================] - 6s 85ms/step - loss: 0.2394 - accuracy: 0.9167 - val_loss: 3.0946 - val_accuracy: 0.5694\n",
            "Epoch 37/60\n",
            "72/72 [==============================] - 6s 85ms/step - loss: 0.2341 - accuracy: 0.9148 - val_loss: 2.7264 - val_accuracy: 0.5806\n",
            "Epoch 38/60\n",
            "72/72 [==============================] - 6s 84ms/step - loss: 0.1937 - accuracy: 0.9287 - val_loss: 2.8441 - val_accuracy: 0.5250\n",
            "Epoch 39/60\n",
            "72/72 [==============================] - 6s 85ms/step - loss: 0.2111 - accuracy: 0.9287 - val_loss: 2.7962 - val_accuracy: 0.5722\n",
            "Epoch 40/60\n",
            "72/72 [==============================] - 6s 86ms/step - loss: 0.1933 - accuracy: 0.9352 - val_loss: 3.0341 - val_accuracy: 0.5639\n",
            "Epoch 41/60\n",
            "72/72 [==============================] - 6s 86ms/step - loss: 0.1704 - accuracy: 0.9398 - val_loss: 3.1546 - val_accuracy: 0.5694\n",
            "Epoch 42/60\n",
            "72/72 [==============================] - 6s 88ms/step - loss: 0.1691 - accuracy: 0.9380 - val_loss: 2.9403 - val_accuracy: 0.5278\n",
            "Epoch 43/60\n",
            "72/72 [==============================] - 6s 86ms/step - loss: 0.1688 - accuracy: 0.9519 - val_loss: 3.6004 - val_accuracy: 0.5278\n",
            "Epoch 44/60\n",
            "72/72 [==============================] - 6s 86ms/step - loss: 0.1765 - accuracy: 0.9537 - val_loss: 2.8888 - val_accuracy: 0.5583\n",
            "Epoch 45/60\n",
            "72/72 [==============================] - 6s 85ms/step - loss: 0.1250 - accuracy: 0.9639 - val_loss: 2.7831 - val_accuracy: 0.5444\n",
            "Epoch 46/60\n",
            "72/72 [==============================] - 6s 86ms/step - loss: 0.1579 - accuracy: 0.9537 - val_loss: 2.9808 - val_accuracy: 0.5778\n",
            "Epoch 47/60\n",
            "72/72 [==============================] - 6s 87ms/step - loss: 0.1243 - accuracy: 0.9593 - val_loss: 3.5078 - val_accuracy: 0.5667\n",
            "Epoch 48/60\n",
            "72/72 [==============================] - 6s 87ms/step - loss: 0.1450 - accuracy: 0.9481 - val_loss: 3.1609 - val_accuracy: 0.5861\n",
            "Epoch 49/60\n",
            "72/72 [==============================] - 6s 87ms/step - loss: 0.1071 - accuracy: 0.9620 - val_loss: 3.4715 - val_accuracy: 0.5611\n",
            "Epoch 50/60\n",
            "72/72 [==============================] - 6s 86ms/step - loss: 0.1215 - accuracy: 0.9583 - val_loss: 3.0643 - val_accuracy: 0.5694\n",
            "Epoch 51/60\n",
            "72/72 [==============================] - 6s 89ms/step - loss: 0.1098 - accuracy: 0.9639 - val_loss: 3.1067 - val_accuracy: 0.5639\n",
            "Epoch 52/60\n",
            "72/72 [==============================] - 6s 89ms/step - loss: 0.1009 - accuracy: 0.9676 - val_loss: 3.2773 - val_accuracy: 0.5806\n",
            "Epoch 53/60\n",
            "72/72 [==============================] - 6s 87ms/step - loss: 0.0705 - accuracy: 0.9741 - val_loss: 3.3586 - val_accuracy: 0.5694\n",
            "Epoch 54/60\n",
            "72/72 [==============================] - 6s 88ms/step - loss: 0.1307 - accuracy: 0.9630 - val_loss: 3.8135 - val_accuracy: 0.5472\n",
            "Epoch 55/60\n",
            "72/72 [==============================] - 6s 86ms/step - loss: 0.0983 - accuracy: 0.9694 - val_loss: 3.3197 - val_accuracy: 0.5833\n",
            "Epoch 56/60\n",
            "72/72 [==============================] - 6s 87ms/step - loss: 0.0665 - accuracy: 0.9769 - val_loss: 4.2546 - val_accuracy: 0.5389\n",
            "Epoch 57/60\n",
            "72/72 [==============================] - 6s 87ms/step - loss: 0.0887 - accuracy: 0.9731 - val_loss: 4.7114 - val_accuracy: 0.5833\n",
            "Epoch 58/60\n",
            "72/72 [==============================] - 6s 86ms/step - loss: 0.1183 - accuracy: 0.9722 - val_loss: 4.0135 - val_accuracy: 0.5889\n",
            "Epoch 59/60\n",
            "72/72 [==============================] - 6s 87ms/step - loss: 0.0795 - accuracy: 0.9750 - val_loss: 3.9789 - val_accuracy: 0.5806\n",
            "Epoch 60/60\n",
            "72/72 [==============================] - 6s 87ms/step - loss: 0.0744 - accuracy: 0.9750 - val_loss: 3.4709 - val_accuracy: 0.5639\n"
          ]
        }
      ]
    },
    {
      "cell_type": "code",
      "metadata": {
        "colab": {
          "base_uri": "https://localhost:8080/",
          "height": 465
        },
        "id": "MqTSVY4KRlAu",
        "outputId": "d8a16fe5-4c62-409f-91cf-4dc3533fbd16"
      },
      "source": [
        "#Show nueral net performance\n",
        "print(\"Train Accuracy : \" , model.evaluate(X_train_sc_1,y_train)[1]*100 , \"%\")\n",
        "print(\"Test Accuracy : \" , model.evaluate(X_test_sc_1,y_test)[1]*100 , \"%\")\n",
        "\n",
        "epochs = [i for i in range(60)]\n",
        "fig , ax = plt.subplots(1,2)\n",
        "train_acc = history.history['accuracy']\n",
        "train_loss = history.history['loss']\n",
        "test_acc = history.history['val_accuracy']\n",
        "test_loss = history.history['val_loss']\n",
        "\n",
        "fig.set_size_inches(20,6)\n",
        "ax[0].plot(epochs , train_loss , label = 'Training Loss')\n",
        "ax[0].plot(epochs , test_loss , label = 'Testing Loss')\n",
        "ax[0].set_title('Training & Testing Loss')\n",
        "ax[0].legend()\n",
        "ax[0].set_xlabel(\"Epochs\")\n",
        "\n",
        "ax[1].plot(epochs , train_acc , label = 'Training Accuracy')\n",
        "ax[1].plot(epochs , test_acc , label = 'Testing Accuracy')\n",
        "ax[1].set_title('Training & Testing Accuracy')\n",
        "ax[1].legend()\n",
        "ax[1].set_xlabel(\"Epochs\")\n",
        "plt.show()"
      ],
      "execution_count": 44,
      "outputs": [
        {
          "output_type": "stream",
          "name": "stdout",
          "text": [
            "34/34 [==============================] - 1s 27ms/step - loss: 0.0340 - accuracy: 0.9935\n",
            "Train Accuracy :  99.35185313224792 %\n",
            "12/12 [==============================] - 0s 26ms/step - loss: 3.4709 - accuracy: 0.5639\n",
            "Test Accuracy :  56.388890743255615 %\n"
          ]
        },
        {
          "output_type": "display_data",
          "data": {
            "image/png": "[encoded data removed]",
            "text/plain": [
              "<Figure size 1440x432 with 2 Axes>"
            ]
          },
          "metadata": {
            "needs_background": "light"
          }
        }
      ]
    },
    {
      "cell_type": "code",
      "metadata": {
        "colab": {
          "base_uri": "https://localhost:8080/"
        },
        "id": "_sokCk7NRlDP",
        "outputId": "0ed14828-9b9c-480b-e52c-9e4dad408b8b"
      },
      "source": [
        "#Predict on test data\n",
        "y_predictions = model.predict(X_test_sc_1).argmax(axis=1)\n",
        "\n",
        "#Print classification report\n",
        "print(classification_report(y_test,y_predictions, target_names=levels))\n"
      ],
      "execution_count": 63,
      "outputs": [
        {
          "output_type": "stream",
          "name": "stdout",
          "text": [
            "              precision    recall  f1-score   support\n",
            "\n",
            "       Angry       0.67      0.58      0.62        48\n",
            "        Calm       0.61      0.78      0.68        51\n",
            "     Disgust       0.64      0.52      0.57        48\n",
            "     Fearful       0.50      0.49      0.49        47\n",
            "       Happy       0.44      0.37      0.40        49\n",
            "     Neutral       0.44      0.62      0.52        26\n",
            "         Sad       0.48      0.56      0.52        41\n",
            "    Suprised       0.71      0.60      0.65        50\n",
            "\n",
            "    accuracy                           0.56       360\n",
            "   macro avg       0.56      0.57      0.56       360\n",
            "weighted avg       0.57      0.56      0.56       360\n",
            "\n"
          ]
        }
      ]
    },
    {
      "cell_type": "code",
      "metadata": {
        "colab": {
          "base_uri": "https://localhost:8080/",
          "height": 621
        },
        "id": "TirnP3iWGwzs",
        "outputId": "78c6c3f1-a1eb-423e-a914-35f571f98d7e"
      },
      "source": [
        "#Plot confusion matrix\n",
        "\n",
        "cf_matrix(y_predictions,y_test)"
      ],
      "execution_count": 52,
      "outputs": [
        {
          "output_type": "display_data",
          "data": {
            "image/png": "[encoded data removed]",
            "text/plain": [
              "<Figure size 1080x720 with 2 Axes>"
            ]
          },
          "metadata": {
            "needs_background": "light"
          }
        }
      ]
    },
    {
      "cell_type": "code",
      "metadata": {
        "id": "FxjDvwhARlFQ"
      },
      "source": [
        "#Save Model\n",
        "\n",
        "save_format='h5'\n",
        "model.save(\"Chosen_Model.h5\")"
      ],
      "execution_count": 42,
      "outputs": []
    }
  ]
}