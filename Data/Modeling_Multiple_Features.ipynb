{
  "nbformat": 4,
  "nbformat_minor": 0,
  "metadata": {
    "colab": {
      "name": "Modeling_Multiple_Features.ipynb",
      "provenance": [],
      "collapsed_sections": []
    },
    "kernelspec": {
      "name": "python3",
      "display_name": "Python 3"
    },
    "language_info": {
      "name": "python"
    }
  },
  "cells": [
    {
      "cell_type": "code",
      "metadata": {
        "id": "MJiHH4RU1SDe",
        "colab": {
          "base_uri": "https://localhost:8080/"
        },
        "outputId": "b0095862-ab69-453f-d679-e2bae45b7844"
      },
      "source": [
        "#Mount Drive\n",
        "\n",
        "from google.colab import drive\n",
        "drive.mount('/content/My_Drive/')"
      ],
      "execution_count": 181,
      "outputs": [
        {
          "output_type": "stream",
          "name": "stdout",
          "text": [
            "Drive already mounted at /content/My_Drive/; to attempt to forcibly remount, call drive.mount(\"/content/My_Drive/\", force_remount=True).\n"
          ]
        }
      ]
    },
    {
      "cell_type": "markdown",
      "metadata": {
        "id": "fc3rv51rN-eY"
      },
      "source": [
        "## Imports"
      ]
    },
    {
      "cell_type": "code",
      "metadata": {
        "id": "E26fikvM1Soh"
      },
      "source": [
        "#Import basic, plotting libraries\n",
        "import matplotlib.pyplot as plt\n",
        "import pandas as pd\n",
        "import numpy as np\n",
        "import seaborn as sns\n",
        "\n",
        "%matplotlib inline\n",
        "\n",
        "#Import SK-Learn Libraries\n",
        "from sklearn.preprocessing import StandardScaler\n",
        "from sklearn.metrics import confusion_matrix, classification_report\n",
        "from sklearn.model_selection import train_test_split\n",
        "from sklearn.ensemble import RandomForestClassifier as R_Forest\n",
        "from sklearn.tree import DecisionTreeClassifier\n",
        "\n",
        "#Import Keras Layers\n",
        "import keras\n",
        "from keras import layers\n",
        "from keras import models\n",
        "from keras.layers import GlobalAveragePooling1D, Dense, MaxPooling1D, Conv1D, Flatten, Dropout\n",
        "from keras.models import Sequential\n",
        "from keras.layers.core import Activation, Dense \n",
        "from keras.layers import BatchNormalization\n",
        "from tensorflow.keras.optimizers import RMSprop\n",
        "from keras.layers import GaussianNoise"
      ],
      "execution_count": 168,
      "outputs": []
    },
    {
      "cell_type": "markdown",
      "metadata": {
        "id": "8oO4mxwhNFhF"
      },
      "source": [
        "## Functions"
      ]
    },
    {
      "cell_type": "code",
      "metadata": {
        "id": "4TI15bRKCYf9"
      },
      "source": [
        "def cf_matrix(y_preds, y_test):\n",
        "  '''This function creates a confusion matrix on our data'''\n",
        "  \n",
        "  cf_matrix = confusion_matrix(y_preds, y_test)\n",
        "  labels = ['Angry', 'Fearful', 'Disgust', 'Sad', 'Suprised', 'Happy', 'Calm', 'Neutral']\n",
        "  fig, ax = plt.subplots(figsize=(15,10)) \n",
        "  sns.heatmap(cf_matrix, linewidths=1, annot=True, ax=ax, fmt='g', cmap=\"OrRd\")\n",
        "  ax.set_xlabel('Predicted labels');ax.set_ylabel('True labels')\n",
        "  ax.set_title('Confusion Matrix')\n",
        "  ax.xaxis.set_ticklabels(labels); ax.yaxis.set_ticklabels(labels);"
      ],
      "execution_count": 169,
      "outputs": []
    },
    {
      "cell_type": "code",
      "metadata": {
        "id": "trzzaYzA2RxR"
      },
      "source": [
        "#Set a random seed for reproducibility.\n",
        "np.random.seed(42)"
      ],
      "execution_count": 56,
      "outputs": []
    },
    {
      "cell_type": "code",
      "metadata": {
        "id": "OseSlgnO2cIg",
        "colab": {
          "base_uri": "https://localhost:8080/"
        },
        "outputId": "b698932d-92c8-4e31-adf8-8bbc0dd8130d"
      },
      "source": [
        "#Read_CSV\n",
        "df = pd.read_csv('RAVDESS_Data.csv')\n",
        "\n",
        "#Show labels\n",
        "y,levels = pd.factorize(df['label'])\n",
        "\n",
        "y, levels"
      ],
      "execution_count": 121,
      "outputs": [
        {
          "output_type": "execute_result",
          "data": {
            "text/plain": [
              "(array([0, 1, 1, ..., 6, 6, 7]),\n",
              " Index(['Angry', 'Fearful', 'Disgust', 'Sad', 'Suprised', 'Happy', 'Calm',\n",
              "        'Neutral'],\n",
              "       dtype='object'))"
            ]
          },
          "metadata": {},
          "execution_count": 121
        }
      ]
    },
    {
      "cell_type": "code",
      "metadata": {
        "colab": {
          "base_uri": "https://localhost:8080/",
          "height": 262
        },
        "id": "q9_PMagDfalQ",
        "outputId": "56ae9ccc-8c6d-4565-caba-01c78bf0ccce"
      },
      "source": [
        "#Show dataframe\n",
        "df.head(2)"
      ],
      "execution_count": 58,
      "outputs": [
        {
          "output_type": "execute_result",
          "data": {
            "text/html": [
              "<div>\n",
              "<style scoped>\n",
              "    .dataframe tbody tr th:only-of-type {\n",
              "        vertical-align: middle;\n",
              "    }\n",
              "\n",
              "    .dataframe tbody tr th {\n",
              "        vertical-align: top;\n",
              "    }\n",
              "\n",
              "    .dataframe thead th {\n",
              "        text-align: right;\n",
              "    }\n",
              "</style>\n",
              "<table border=\"1\" class=\"dataframe\">\n",
              "  <thead>\n",
              "    <tr style=\"text-align: right;\">\n",
              "      <th></th>\n",
              "      <th>path</th>\n",
              "      <th>actor</th>\n",
              "      <th>emotion_id</th>\n",
              "      <th>intensity</th>\n",
              "      <th>stated_text</th>\n",
              "      <th>gender</th>\n",
              "      <th>source</th>\n",
              "      <th>emotion</th>\n",
              "      <th>label</th>\n",
              "      <th>encoded_label</th>\n",
              "      <th>0</th>\n",
              "      <th>1</th>\n",
              "      <th>2</th>\n",
              "      <th>3</th>\n",
              "      <th>4</th>\n",
              "      <th>5</th>\n",
              "      <th>6</th>\n",
              "      <th>7</th>\n",
              "      <th>8</th>\n",
              "      <th>9</th>\n",
              "      <th>10</th>\n",
              "      <th>11</th>\n",
              "      <th>12</th>\n",
              "      <th>13</th>\n",
              "      <th>14</th>\n",
              "      <th>15</th>\n",
              "      <th>16</th>\n",
              "      <th>17</th>\n",
              "      <th>18</th>\n",
              "      <th>19</th>\n",
              "      <th>20</th>\n",
              "      <th>21</th>\n",
              "      <th>22</th>\n",
              "      <th>23</th>\n",
              "      <th>24</th>\n",
              "      <th>25</th>\n",
              "      <th>26</th>\n",
              "      <th>27</th>\n",
              "      <th>28</th>\n",
              "      <th>29</th>\n",
              "      <th>...</th>\n",
              "      <th>141</th>\n",
              "      <th>142</th>\n",
              "      <th>143</th>\n",
              "      <th>144</th>\n",
              "      <th>145</th>\n",
              "      <th>146</th>\n",
              "      <th>147</th>\n",
              "      <th>148</th>\n",
              "      <th>149</th>\n",
              "      <th>150</th>\n",
              "      <th>151</th>\n",
              "      <th>152</th>\n",
              "      <th>153</th>\n",
              "      <th>154</th>\n",
              "      <th>155</th>\n",
              "      <th>156</th>\n",
              "      <th>157</th>\n",
              "      <th>158</th>\n",
              "      <th>159</th>\n",
              "      <th>160</th>\n",
              "      <th>161</th>\n",
              "      <th>162</th>\n",
              "      <th>163</th>\n",
              "      <th>164</th>\n",
              "      <th>165</th>\n",
              "      <th>166</th>\n",
              "      <th>167</th>\n",
              "      <th>168</th>\n",
              "      <th>169</th>\n",
              "      <th>170</th>\n",
              "      <th>171</th>\n",
              "      <th>172</th>\n",
              "      <th>173</th>\n",
              "      <th>174</th>\n",
              "      <th>175</th>\n",
              "      <th>176</th>\n",
              "      <th>177</th>\n",
              "      <th>178</th>\n",
              "      <th>179</th>\n",
              "      <th>180</th>\n",
              "    </tr>\n",
              "  </thead>\n",
              "  <tbody>\n",
              "    <tr>\n",
              "      <th>0</th>\n",
              "      <td>03-01-05-01-02-01-16.wav</td>\n",
              "      <td>16</td>\n",
              "      <td>5</td>\n",
              "      <td>Normal</td>\n",
              "      <td>Dogs are sitting by the door</td>\n",
              "      <td>Female</td>\n",
              "      <td>RAVDESS</td>\n",
              "      <td>Angry</td>\n",
              "      <td>Angry</td>\n",
              "      <td>0</td>\n",
              "      <td>0.147776</td>\n",
              "      <td>-492.303162</td>\n",
              "      <td>48.244617</td>\n",
              "      <td>-11.563274</td>\n",
              "      <td>8.428556</td>\n",
              "      <td>-18.633396</td>\n",
              "      <td>-3.536547</td>\n",
              "      <td>-16.646790</td>\n",
              "      <td>-10.850655</td>\n",
              "      <td>-19.685450</td>\n",
              "      <td>2.004293</td>\n",
              "      <td>-13.139478</td>\n",
              "      <td>-4.566517</td>\n",
              "      <td>-7.071860</td>\n",
              "      <td>-4.468623</td>\n",
              "      <td>-10.126769</td>\n",
              "      <td>-5.000964</td>\n",
              "      <td>-4.436759</td>\n",
              "      <td>-7.424410</td>\n",
              "      <td>-8.632842</td>\n",
              "      <td>-1.921761</td>\n",
              "      <td>-6.399706</td>\n",
              "      <td>0.583062</td>\n",
              "      <td>-2.989238</td>\n",
              "      <td>1.025813</td>\n",
              "      <td>-4.582524</td>\n",
              "      <td>-1.336567</td>\n",
              "      <td>-1.687910</td>\n",
              "      <td>-2.755145</td>\n",
              "      <td>2.318296</td>\n",
              "      <td>...</td>\n",
              "      <td>0.019860</td>\n",
              "      <td>0.015899</td>\n",
              "      <td>0.009946</td>\n",
              "      <td>0.008633</td>\n",
              "      <td>0.004399</td>\n",
              "      <td>0.003770</td>\n",
              "      <td>0.001965</td>\n",
              "      <td>0.001701</td>\n",
              "      <td>0.003053</td>\n",
              "      <td>0.002275</td>\n",
              "      <td>0.003123</td>\n",
              "      <td>0.002103</td>\n",
              "      <td>0.001637</td>\n",
              "      <td>0.001332</td>\n",
              "      <td>0.001229</td>\n",
              "      <td>0.002464</td>\n",
              "      <td>0.001237</td>\n",
              "      <td>0.001474</td>\n",
              "      <td>0.002601</td>\n",
              "      <td>0.003817</td>\n",
              "      <td>0.006698</td>\n",
              "      <td>0.010140</td>\n",
              "      <td>0.009425</td>\n",
              "      <td>0.007438</td>\n",
              "      <td>0.004239</td>\n",
              "      <td>0.005059</td>\n",
              "      <td>0.005636</td>\n",
              "      <td>0.008725</td>\n",
              "      <td>0.010372</td>\n",
              "      <td>0.013556</td>\n",
              "      <td>0.009121</td>\n",
              "      <td>0.004178</td>\n",
              "      <td>0.001950</td>\n",
              "      <td>0.001536</td>\n",
              "      <td>0.000905</td>\n",
              "      <td>0.000521</td>\n",
              "      <td>0.000219</td>\n",
              "      <td>0.000050</td>\n",
              "      <td>0.000016</td>\n",
              "      <td>8.843612e-07</td>\n",
              "    </tr>\n",
              "    <tr>\n",
              "      <th>1</th>\n",
              "      <td>03-01-06-01-02-02-16.wav</td>\n",
              "      <td>16</td>\n",
              "      <td>6</td>\n",
              "      <td>Normal</td>\n",
              "      <td>Dogs are sitting by the door</td>\n",
              "      <td>Female</td>\n",
              "      <td>RAVDESS</td>\n",
              "      <td>Fearful</td>\n",
              "      <td>Fearful</td>\n",
              "      <td>3</td>\n",
              "      <td>0.137646</td>\n",
              "      <td>-526.881592</td>\n",
              "      <td>47.681541</td>\n",
              "      <td>-11.682929</td>\n",
              "      <td>9.506297</td>\n",
              "      <td>-7.458522</td>\n",
              "      <td>-7.143914</td>\n",
              "      <td>-20.867807</td>\n",
              "      <td>-12.582794</td>\n",
              "      <td>-13.779608</td>\n",
              "      <td>3.609588</td>\n",
              "      <td>-17.376276</td>\n",
              "      <td>-6.417352</td>\n",
              "      <td>-1.007339</td>\n",
              "      <td>-6.172153</td>\n",
              "      <td>-8.585570</td>\n",
              "      <td>-3.344661</td>\n",
              "      <td>-7.687840</td>\n",
              "      <td>-2.753872</td>\n",
              "      <td>-5.505090</td>\n",
              "      <td>-4.178447</td>\n",
              "      <td>-0.278652</td>\n",
              "      <td>1.022352</td>\n",
              "      <td>2.457421</td>\n",
              "      <td>5.019859</td>\n",
              "      <td>1.674353</td>\n",
              "      <td>6.542419</td>\n",
              "      <td>1.088597</td>\n",
              "      <td>1.551029</td>\n",
              "      <td>0.504667</td>\n",
              "      <td>...</td>\n",
              "      <td>0.000639</td>\n",
              "      <td>0.000527</td>\n",
              "      <td>0.000755</td>\n",
              "      <td>0.001117</td>\n",
              "      <td>0.001851</td>\n",
              "      <td>0.001446</td>\n",
              "      <td>0.000802</td>\n",
              "      <td>0.000330</td>\n",
              "      <td>0.000187</td>\n",
              "      <td>0.000174</td>\n",
              "      <td>0.000124</td>\n",
              "      <td>0.000189</td>\n",
              "      <td>0.000318</td>\n",
              "      <td>0.000454</td>\n",
              "      <td>0.000682</td>\n",
              "      <td>0.000926</td>\n",
              "      <td>0.001078</td>\n",
              "      <td>0.001136</td>\n",
              "      <td>0.000973</td>\n",
              "      <td>0.001075</td>\n",
              "      <td>0.001204</td>\n",
              "      <td>0.001567</td>\n",
              "      <td>0.001267</td>\n",
              "      <td>0.001245</td>\n",
              "      <td>0.001831</td>\n",
              "      <td>0.003744</td>\n",
              "      <td>0.003411</td>\n",
              "      <td>0.004850</td>\n",
              "      <td>0.006413</td>\n",
              "      <td>0.004445</td>\n",
              "      <td>0.002589</td>\n",
              "      <td>0.001590</td>\n",
              "      <td>0.001378</td>\n",
              "      <td>0.001258</td>\n",
              "      <td>0.000637</td>\n",
              "      <td>0.000272</td>\n",
              "      <td>0.000092</td>\n",
              "      <td>0.000026</td>\n",
              "      <td>0.000005</td>\n",
              "      <td>4.393682e-07</td>\n",
              "    </tr>\n",
              "  </tbody>\n",
              "</table>\n",
              "<p>2 rows × 191 columns</p>\n",
              "</div>"
            ],
            "text/plain": [
              "                       path  actor  ...       179           180\n",
              "0  03-01-05-01-02-01-16.wav     16  ...  0.000016  8.843612e-07\n",
              "1  03-01-06-01-02-02-16.wav     16  ...  0.000005  4.393682e-07\n",
              "\n",
              "[2 rows x 191 columns]"
            ]
          },
          "metadata": {},
          "execution_count": 58
        }
      ]
    },
    {
      "cell_type": "code",
      "metadata": {
        "id": "ag6mekZB2jpH",
        "colab": {
          "base_uri": "https://localhost:8080/"
        },
        "outputId": "f4d13073-3b99-4918-ae4d-b69e3223f58a"
      },
      "source": [
        "#Select X and y features\n",
        "X = df.iloc[:, 10:].values\n",
        "y = df['encoded_label'].values\n",
        "\n",
        "print(X.shape)\n",
        "print(y.shape)"
      ],
      "execution_count": 59,
      "outputs": [
        {
          "output_type": "stream",
          "name": "stdout",
          "text": [
            "(1440, 181)\n",
            "(1440,)\n"
          ]
        }
      ]
    },
    {
      "cell_type": "code",
      "metadata": {
        "colab": {
          "base_uri": "https://localhost:8080/"
        },
        "id": "f80bnKjhtSDP",
        "outputId": "7f9fa198-fd88-48ab-bef4-edafbbc315bb"
      },
      "source": [
        "#Add as array\n",
        "X = np.asarray(X)\n",
        "y = np.asarray(y)\n",
        "\n",
        "\n",
        "X.shape, y.shape"
      ],
      "execution_count": 60,
      "outputs": [
        {
          "output_type": "execute_result",
          "data": {
            "text/plain": [
              "((1440, 181), (1440,))"
            ]
          },
          "metadata": {},
          "execution_count": 60
        }
      ]
    },
    {
      "cell_type": "code",
      "metadata": {
        "id": "4w5QIZLzv_Dn",
        "colab": {
          "base_uri": "https://localhost:8080/"
        },
        "outputId": "8e89653f-d8f4-4df9-93ef-85a71aaea017"
      },
      "source": [
        "#Create train-test split\n",
        "X_train, X_test, y_train, y_test = train_test_split(X, y, random_state=42, shuffle = True)\n",
        "\n",
        "X_train.shape, y_train.shape, X_test.shape, y_test.shape"
      ],
      "execution_count": 61,
      "outputs": [
        {
          "output_type": "execute_result",
          "data": {
            "text/plain": [
              "((1080, 181), (1080,), (360, 181), (360,))"
            ]
          },
          "metadata": {},
          "execution_count": 61
        }
      ]
    },
    {
      "cell_type": "code",
      "metadata": {
        "id": "roHJSSx1f_fA"
      },
      "source": [
        "#Scale X_training Data\n",
        "sc = StandardScaler()\n",
        "\n",
        "X_train_sc = sc.fit_transform(X_train)\n",
        "X_test_sc = sc.transform(X_test)"
      ],
      "execution_count": 62,
      "outputs": []
    },
    {
      "cell_type": "code",
      "metadata": {
        "colab": {
          "base_uri": "https://localhost:8080/"
        },
        "id": "g8kffn-GYjON",
        "outputId": "b441015c-6e61-42d6-e96c-7e04f107fa71"
      },
      "source": [
        "#Expand dimensions for nueral net\n",
        "X_train_sc_1 = np.expand_dims(X_train_sc, axis=2)\n",
        "X_test_sc_1 = np.expand_dims(X_test_sc, axis=2)\n",
        "\n",
        "X_train_sc_1.shape, X_test_sc_1.shape"
      ],
      "execution_count": 182,
      "outputs": [
        {
          "output_type": "execute_result",
          "data": {
            "text/plain": [
              "((1080, 181, 1), (360, 181, 1))"
            ]
          },
          "metadata": {},
          "execution_count": 182
        }
      ]
    },
    {
      "cell_type": "markdown",
      "metadata": {
        "id": "CrvvZhATOl3K"
      },
      "source": [
        "## Models"
      ]
    },
    {
      "cell_type": "markdown",
      "metadata": {
        "id": "eEP1vPEZ9fi3"
      },
      "source": [
        "#### Random Forest Classifier"
      ]
    },
    {
      "cell_type": "code",
      "metadata": {
        "id": "VbCxZIFu9SF9"
      },
      "source": [
        "rforest = R_Forest(criterion=\"gini\", \n",
        "                   max_depth=10, \n",
        "                   max_features=\"log2\", \n",
        "                   max_leaf_nodes = 100, \n",
        "                   min_samples_leaf = 3, \n",
        "                   min_samples_split = 20, \n",
        "                   n_estimators= 22000, \n",
        "                   )"
      ],
      "execution_count": 64,
      "outputs": []
    },
    {
      "cell_type": "code",
      "metadata": {
        "colab": {
          "base_uri": "https://localhost:8080/"
        },
        "id": "UcRdc9SN9SQz",
        "outputId": "e6056955-f8e4-42ac-8d4d-1f82360e45c5"
      },
      "source": [
        "#Fit Random forest\n",
        "rforest.fit(X_train_sc, y_train)"
      ],
      "execution_count": 65,
      "outputs": [
        {
          "output_type": "execute_result",
          "data": {
            "text/plain": [
              "RandomForestClassifier(bootstrap=True, ccp_alpha=0.0, class_weight=None,\n",
              "                       criterion='gini', max_depth=10, max_features='log2',\n",
              "                       max_leaf_nodes=100, max_samples=None,\n",
              "                       min_impurity_decrease=0.0, min_impurity_split=None,\n",
              "                       min_samples_leaf=3, min_samples_split=20,\n",
              "                       min_weight_fraction_leaf=0.0, n_estimators=22000,\n",
              "                       n_jobs=None, oob_score=False, random_state=5, verbose=0,\n",
              "                       warm_start=False)"
            ]
          },
          "metadata": {},
          "execution_count": 65
        }
      ]
    },
    {
      "cell_type": "code",
      "metadata": {
        "id": "fnhVDCYC9pZ5"
      },
      "source": [
        "#Get predictions\n",
        "y_pred = rforest.predict(X_test_sc)\n"
      ],
      "execution_count": 174,
      "outputs": []
    },
    {
      "cell_type": "code",
      "metadata": {
        "colab": {
          "base_uri": "https://localhost:8080/"
        },
        "id": "7SOAPuSL9uB5",
        "outputId": "6e5ca967-0f23-47a4-bcca-cf8e44eea2a4"
      },
      "source": [
        "#Print classification report\n",
        "print(classification_report(y_test,y_pred,target_names=levels))"
      ],
      "execution_count": 175,
      "outputs": [
        {
          "output_type": "stream",
          "name": "stdout",
          "text": [
            "              precision    recall  f1-score   support\n",
            "\n",
            "       Angry       0.83      0.62      0.71        48\n",
            "     Fearful       0.51      0.86      0.64        51\n",
            "     Disgust       0.44      0.56      0.50        48\n",
            "         Sad       0.67      0.43      0.52        47\n",
            "    Suprised       0.45      0.45      0.45        49\n",
            "       Happy       0.75      0.12      0.20        26\n",
            "        Calm       0.32      0.29      0.31        41\n",
            "     Neutral       0.54      0.62      0.58        50\n",
            "\n",
            "    accuracy                           0.53       360\n",
            "   macro avg       0.57      0.49      0.49       360\n",
            "weighted avg       0.56      0.53      0.51       360\n",
            "\n"
          ]
        }
      ]
    },
    {
      "cell_type": "code",
      "metadata": {
        "colab": {
          "base_uri": "https://localhost:8080/",
          "height": 621
        },
        "id": "MqrjMpCONtdZ",
        "outputId": "c51ba9c7-0936-4378-c399-e8959029ee22"
      },
      "source": [
        "#Plot confusion matrix\n",
        "cf_matrix(y_pred,y_test)"
      ],
      "execution_count": 176,
      "outputs": [
        {
          "output_type": "display_data",
          "data": {
            "image/png": "[encoded data removed]",
            "text/plain": [
              "<Figure size 1080x720 with 2 Axes>"
            ]
          },
          "metadata": {
            "needs_background": "light"
          }
        }
      ]
    },
    {
      "cell_type": "markdown",
      "metadata": {
        "id": "MGTasf-O9kzS"
      },
      "source": [
        "#### Decision Tree Classifier\n"
      ]
    },
    {
      "cell_type": "code",
      "metadata": {
        "id": "6LBP_bQtt2vh"
      },
      "source": [
        "#Instantiate decision tree \n",
        "dtree = DecisionTreeClassifier()"
      ],
      "execution_count": 68,
      "outputs": []
    },
    {
      "cell_type": "code",
      "metadata": {
        "colab": {
          "base_uri": "https://localhost:8080/"
        },
        "id": "vahlWBeot2yB",
        "outputId": "8a6bd349-9d7f-4d8c-ce3b-68dbcdc75782"
      },
      "source": [
        "#Fit decision tree\n",
        "dtree.fit(X_train_sc, y_train)"
      ],
      "execution_count": 69,
      "outputs": [
        {
          "output_type": "execute_result",
          "data": {
            "text/plain": [
              "DecisionTreeClassifier(ccp_alpha=0.0, class_weight=None, criterion='gini',\n",
              "                       max_depth=None, max_features=None, max_leaf_nodes=None,\n",
              "                       min_impurity_decrease=0.0, min_impurity_split=None,\n",
              "                       min_samples_leaf=1, min_samples_split=2,\n",
              "                       min_weight_fraction_leaf=0.0, presort='deprecated',\n",
              "                       random_state=None, splitter='best')"
            ]
          },
          "metadata": {},
          "execution_count": 69
        }
      ]
    },
    {
      "cell_type": "code",
      "metadata": {
        "id": "rgCRqDQAuBlV"
      },
      "source": [
        "#Predict data\n",
        "y_preds = dtree.predict(X_test_sc)"
      ],
      "execution_count": 178,
      "outputs": []
    },
    {
      "cell_type": "code",
      "metadata": {
        "colab": {
          "base_uri": "https://localhost:8080/"
        },
        "id": "e7FQBAVct22R",
        "outputId": "c125f103-8578-41ee-837b-ed0c983b2f48"
      },
      "source": [
        "#Print classification report\n",
        "print(classification_report(y_test,y_preds,target_names=levels))"
      ],
      "execution_count": 179,
      "outputs": [
        {
          "output_type": "stream",
          "name": "stdout",
          "text": [
            "              precision    recall  f1-score   support\n",
            "\n",
            "       Angry       0.58      0.71      0.64        48\n",
            "     Fearful       0.57      0.63      0.60        51\n",
            "     Disgust       0.25      0.21      0.23        48\n",
            "         Sad       0.42      0.49      0.45        47\n",
            "    Suprised       0.35      0.29      0.31        49\n",
            "       Happy       0.14      0.15      0.15        26\n",
            "        Calm       0.41      0.34      0.37        41\n",
            "     Neutral       0.43      0.40      0.41        50\n",
            "\n",
            "    accuracy                           0.42       360\n",
            "   macro avg       0.39      0.40      0.39       360\n",
            "weighted avg       0.41      0.42      0.41       360\n",
            "\n"
          ]
        }
      ]
    },
    {
      "cell_type": "code",
      "metadata": {
        "colab": {
          "base_uri": "https://localhost:8080/",
          "height": 621
        },
        "id": "Q4rtehybN0f6",
        "outputId": "d6831896-108e-411c-fe32-069b73f51eab"
      },
      "source": [
        "#Plot confusion matrix\n",
        "cf_matrix(y_preds,y_test)"
      ],
      "execution_count": 180,
      "outputs": [
        {
          "output_type": "display_data",
          "data": {
            "image/png": "[encoded data removed]",
            "text/plain": [
              "<Figure size 1080x720 with 2 Axes>"
            ]
          },
          "metadata": {
            "needs_background": "light"
          }
        }
      ]
    },
    {
      "cell_type": "markdown",
      "metadata": {
        "id": "N22iaZwz9x54"
      },
      "source": [
        "#### Convolutional Nueral Net (CNN)"
      ]
    },
    {
      "cell_type": "code",
      "metadata": {
        "colab": {
          "base_uri": "https://localhost:8080/"
        },
        "id": "AswiqOVD3hLP",
        "outputId": "728bb7b7-6d7c-43af-9039-4b7f2097ce0c"
      },
      "source": [
        "#Develop model\n",
        "model = models.Sequential()\n",
        "model.add(Conv1D(128, kernel_size=5, strides=1,  activation='relu', input_shape=(X_train.shape[1], 1)))\n",
        "model.add(Dropout(0.2))\n",
        "model.add(MaxPooling1D(pool_size=5, strides = 2))\n",
        "model.add(GaussianNoise(0.1))\n",
        "model.add(Conv1D(64, kernel_size=5, strides=1, activation='relu'))\n",
        "model.add(Dropout(0.2))\n",
        "model.add(layers.Flatten())\n",
        "model.add(layers.Dense(32, activation='relu'))\n",
        "model.add(layers.Dense(8, activation='softmax'))\n",
        "\n",
        "\n",
        " # Select loss function and optimizer\n",
        "model.compile(loss='sparse_categorical_crossentropy', \n",
        "              optimizer='adam', \n",
        "              metrics=['accuracy'])\n",
        "\n",
        "model.summary()"
      ],
      "execution_count": 104,
      "outputs": [
        {
          "output_type": "stream",
          "name": "stdout",
          "text": [
            "Model: \"sequential_24\"\n",
            "_________________________________________________________________\n",
            "Layer (type)                 Output Shape              Param #   \n",
            "=================================================================\n",
            "conv1d_34 (Conv1D)           (None, 177, 128)          768       \n",
            "_________________________________________________________________\n",
            "dropout_32 (Dropout)         (None, 177, 128)          0         \n",
            "_________________________________________________________________\n",
            "max_pooling1d_20 (MaxPooling (None, 87, 128)           0         \n",
            "_________________________________________________________________\n",
            "gaussian_noise_16 (GaussianN (None, 87, 128)           0         \n",
            "_________________________________________________________________\n",
            "conv1d_35 (Conv1D)           (None, 83, 64)            41024     \n",
            "_________________________________________________________________\n",
            "dropout_33 (Dropout)         (None, 83, 64)            0         \n",
            "_________________________________________________________________\n",
            "flatten_16 (Flatten)         (None, 5312)              0         \n",
            "_________________________________________________________________\n",
            "dense_32 (Dense)             (None, 32)                170016    \n",
            "_________________________________________________________________\n",
            "dense_33 (Dense)             (None, 8)                 264       \n",
            "=================================================================\n",
            "Total params: 212,072\n",
            "Trainable params: 212,072\n",
            "Non-trainable params: 0\n",
            "_________________________________________________________________\n"
          ]
        }
      ]
    },
    {
      "cell_type": "code",
      "metadata": {
        "colab": {
          "base_uri": "https://localhost:8080/"
        },
        "id": "vjud8R_6dKg_",
        "outputId": "bdc4f4df-bbf3-485e-abaa-da6b4cf0b331"
      },
      "source": [
        "#fit and train model\n",
        "history = model.fit(\n",
        "    X_train_sc_1,\n",
        "    y_train,\n",
        "    epochs=60,\n",
        "    batch_size=15,\n",
        "    validation_data=(X_test_sc_1, y_test)\n",
        "  )\n"
      ],
      "execution_count": 105,
      "outputs": [
        {
          "output_type": "stream",
          "name": "stdout",
          "text": [
            "Epoch 1/60\n",
            "72/72 [==============================] - 3s 34ms/step - loss: 1.9042 - accuracy: 0.2167 - val_loss: 1.8574 - val_accuracy: 0.2806\n",
            "Epoch 2/60\n",
            "72/72 [==============================] - 2s 32ms/step - loss: 1.7655 - accuracy: 0.2796 - val_loss: 1.7636 - val_accuracy: 0.3333\n",
            "Epoch 3/60\n",
            "72/72 [==============================] - 2s 31ms/step - loss: 1.6864 - accuracy: 0.3352 - val_loss: 1.7361 - val_accuracy: 0.3556\n",
            "Epoch 4/60\n",
            "72/72 [==============================] - 2s 31ms/step - loss: 1.6180 - accuracy: 0.3704 - val_loss: 1.7028 - val_accuracy: 0.3722\n",
            "Epoch 5/60\n",
            "72/72 [==============================] - 2s 32ms/step - loss: 1.5513 - accuracy: 0.4037 - val_loss: 1.7573 - val_accuracy: 0.3722\n",
            "Epoch 6/60\n",
            "72/72 [==============================] - 2s 32ms/step - loss: 1.5148 - accuracy: 0.4148 - val_loss: 1.6312 - val_accuracy: 0.3972\n",
            "Epoch 7/60\n",
            "72/72 [==============================] - 2s 31ms/step - loss: 1.4448 - accuracy: 0.4593 - val_loss: 1.6352 - val_accuracy: 0.4250\n",
            "Epoch 8/60\n",
            "72/72 [==============================] - 2s 31ms/step - loss: 1.3832 - accuracy: 0.4880 - val_loss: 1.6412 - val_accuracy: 0.4528\n",
            "Epoch 9/60\n",
            "72/72 [==============================] - 2s 31ms/step - loss: 1.3452 - accuracy: 0.4880 - val_loss: 1.5748 - val_accuracy: 0.4333\n",
            "Epoch 10/60\n",
            "72/72 [==============================] - 2s 31ms/step - loss: 1.2611 - accuracy: 0.5370 - val_loss: 1.7236 - val_accuracy: 0.4028\n",
            "Epoch 11/60\n",
            "72/72 [==============================] - 2s 31ms/step - loss: 1.2401 - accuracy: 0.5417 - val_loss: 1.6339 - val_accuracy: 0.4833\n",
            "Epoch 12/60\n",
            "72/72 [==============================] - 2s 31ms/step - loss: 1.1887 - accuracy: 0.5528 - val_loss: 1.5892 - val_accuracy: 0.4528\n",
            "Epoch 13/60\n",
            "72/72 [==============================] - 2s 31ms/step - loss: 1.1372 - accuracy: 0.5639 - val_loss: 1.6486 - val_accuracy: 0.4917\n",
            "Epoch 14/60\n",
            "72/72 [==============================] - 2s 31ms/step - loss: 1.1002 - accuracy: 0.5907 - val_loss: 1.6887 - val_accuracy: 0.4639\n",
            "Epoch 15/60\n",
            "72/72 [==============================] - 2s 31ms/step - loss: 1.0384 - accuracy: 0.6130 - val_loss: 1.6147 - val_accuracy: 0.4667\n",
            "Epoch 16/60\n",
            "72/72 [==============================] - 2s 31ms/step - loss: 0.9834 - accuracy: 0.6537 - val_loss: 1.6578 - val_accuracy: 0.4944\n",
            "Epoch 17/60\n",
            "72/72 [==============================] - 2s 31ms/step - loss: 0.9774 - accuracy: 0.6250 - val_loss: 1.6811 - val_accuracy: 0.4722\n",
            "Epoch 18/60\n",
            "72/72 [==============================] - 2s 31ms/step - loss: 0.8952 - accuracy: 0.6796 - val_loss: 1.6380 - val_accuracy: 0.4806\n",
            "Epoch 19/60\n",
            "72/72 [==============================] - 2s 31ms/step - loss: 0.8893 - accuracy: 0.6676 - val_loss: 1.7602 - val_accuracy: 0.4583\n",
            "Epoch 20/60\n",
            "72/72 [==============================] - 2s 31ms/step - loss: 0.9020 - accuracy: 0.6694 - val_loss: 1.6515 - val_accuracy: 0.5222\n",
            "Epoch 21/60\n",
            "72/72 [==============================] - 2s 31ms/step - loss: 0.8516 - accuracy: 0.6889 - val_loss: 1.8292 - val_accuracy: 0.4917\n",
            "Epoch 22/60\n",
            "72/72 [==============================] - 2s 31ms/step - loss: 0.8269 - accuracy: 0.6880 - val_loss: 1.6495 - val_accuracy: 0.5111\n",
            "Epoch 23/60\n",
            "72/72 [==============================] - 2s 31ms/step - loss: 0.7362 - accuracy: 0.7343 - val_loss: 1.8372 - val_accuracy: 0.4917\n",
            "Epoch 24/60\n",
            "72/72 [==============================] - 2s 31ms/step - loss: 0.7468 - accuracy: 0.7185 - val_loss: 1.8620 - val_accuracy: 0.4917\n",
            "Epoch 25/60\n",
            "72/72 [==============================] - 2s 31ms/step - loss: 0.7265 - accuracy: 0.7435 - val_loss: 1.9357 - val_accuracy: 0.5222\n",
            "Epoch 26/60\n",
            "72/72 [==============================] - 2s 31ms/step - loss: 0.7030 - accuracy: 0.7546 - val_loss: 1.8756 - val_accuracy: 0.5306\n",
            "Epoch 27/60\n",
            "72/72 [==============================] - 2s 31ms/step - loss: 0.6513 - accuracy: 0.7380 - val_loss: 1.9213 - val_accuracy: 0.5417\n",
            "Epoch 28/60\n",
            "72/72 [==============================] - 2s 31ms/step - loss: 0.6011 - accuracy: 0.7741 - val_loss: 2.1856 - val_accuracy: 0.5306\n",
            "Epoch 29/60\n",
            "72/72 [==============================] - 2s 31ms/step - loss: 0.5800 - accuracy: 0.8028 - val_loss: 2.0482 - val_accuracy: 0.5250\n",
            "Epoch 30/60\n",
            "72/72 [==============================] - 2s 31ms/step - loss: 0.6036 - accuracy: 0.7833 - val_loss: 2.0091 - val_accuracy: 0.5111\n",
            "Epoch 31/60\n",
            "72/72 [==============================] - 2s 32ms/step - loss: 0.5328 - accuracy: 0.8019 - val_loss: 2.0622 - val_accuracy: 0.5222\n",
            "Epoch 32/60\n",
            "72/72 [==============================] - 2s 32ms/step - loss: 0.5382 - accuracy: 0.8130 - val_loss: 2.0539 - val_accuracy: 0.5417\n",
            "Epoch 33/60\n",
            "72/72 [==============================] - 2s 31ms/step - loss: 0.4654 - accuracy: 0.8454 - val_loss: 2.3838 - val_accuracy: 0.5056\n",
            "Epoch 34/60\n",
            "72/72 [==============================] - 2s 31ms/step - loss: 0.4983 - accuracy: 0.8204 - val_loss: 2.2305 - val_accuracy: 0.5222\n",
            "Epoch 35/60\n",
            "72/72 [==============================] - 2s 31ms/step - loss: 0.4933 - accuracy: 0.8269 - val_loss: 2.3513 - val_accuracy: 0.5167\n",
            "Epoch 36/60\n",
            "72/72 [==============================] - 2s 31ms/step - loss: 0.4517 - accuracy: 0.8444 - val_loss: 2.2977 - val_accuracy: 0.5361\n",
            "Epoch 37/60\n",
            "72/72 [==============================] - 2s 31ms/step - loss: 0.4628 - accuracy: 0.8361 - val_loss: 2.4489 - val_accuracy: 0.5500\n",
            "Epoch 38/60\n",
            "72/72 [==============================] - 2s 31ms/step - loss: 0.4437 - accuracy: 0.8407 - val_loss: 2.5749 - val_accuracy: 0.5389\n",
            "Epoch 39/60\n",
            "72/72 [==============================] - 2s 31ms/step - loss: 0.3958 - accuracy: 0.8602 - val_loss: 2.5111 - val_accuracy: 0.5417\n",
            "Epoch 40/60\n",
            "72/72 [==============================] - 2s 31ms/step - loss: 0.3712 - accuracy: 0.8750 - val_loss: 2.8937 - val_accuracy: 0.5278\n",
            "Epoch 41/60\n",
            "72/72 [==============================] - 2s 31ms/step - loss: 0.4455 - accuracy: 0.8583 - val_loss: 2.5705 - val_accuracy: 0.5083\n",
            "Epoch 42/60\n",
            "72/72 [==============================] - 2s 31ms/step - loss: 0.3598 - accuracy: 0.8694 - val_loss: 2.5324 - val_accuracy: 0.5583\n",
            "Epoch 43/60\n",
            "72/72 [==============================] - 2s 31ms/step - loss: 0.3605 - accuracy: 0.8731 - val_loss: 2.6668 - val_accuracy: 0.5306\n",
            "Epoch 44/60\n",
            "72/72 [==============================] - 2s 31ms/step - loss: 0.3479 - accuracy: 0.8759 - val_loss: 2.7736 - val_accuracy: 0.5361\n",
            "Epoch 45/60\n",
            "72/72 [==============================] - 2s 31ms/step - loss: 0.3322 - accuracy: 0.8741 - val_loss: 2.4715 - val_accuracy: 0.5556\n",
            "Epoch 46/60\n",
            "72/72 [==============================] - 2s 32ms/step - loss: 0.2939 - accuracy: 0.9009 - val_loss: 2.6357 - val_accuracy: 0.5500\n",
            "Epoch 47/60\n",
            "72/72 [==============================] - 2s 31ms/step - loss: 0.2831 - accuracy: 0.9093 - val_loss: 2.5476 - val_accuracy: 0.5361\n",
            "Epoch 48/60\n",
            "72/72 [==============================] - 2s 32ms/step - loss: 0.2591 - accuracy: 0.9093 - val_loss: 2.8172 - val_accuracy: 0.5306\n",
            "Epoch 49/60\n",
            "72/72 [==============================] - 2s 32ms/step - loss: 0.3929 - accuracy: 0.8759 - val_loss: 2.8871 - val_accuracy: 0.5444\n",
            "Epoch 50/60\n",
            "72/72 [==============================] - 2s 31ms/step - loss: 0.4098 - accuracy: 0.8685 - val_loss: 2.8948 - val_accuracy: 0.5139\n",
            "Epoch 51/60\n",
            "72/72 [==============================] - 2s 31ms/step - loss: 0.3130 - accuracy: 0.8870 - val_loss: 2.6994 - val_accuracy: 0.5361\n",
            "Epoch 52/60\n",
            "72/72 [==============================] - 2s 31ms/step - loss: 0.2818 - accuracy: 0.8935 - val_loss: 2.8612 - val_accuracy: 0.5361\n",
            "Epoch 53/60\n",
            "72/72 [==============================] - 2s 31ms/step - loss: 0.2761 - accuracy: 0.8972 - val_loss: 2.8082 - val_accuracy: 0.5583\n",
            "Epoch 54/60\n",
            "72/72 [==============================] - 2s 31ms/step - loss: 0.2431 - accuracy: 0.9167 - val_loss: 2.9318 - val_accuracy: 0.5583\n",
            "Epoch 55/60\n",
            "72/72 [==============================] - 2s 31ms/step - loss: 0.2333 - accuracy: 0.9176 - val_loss: 2.9424 - val_accuracy: 0.5389\n",
            "Epoch 56/60\n",
            "72/72 [==============================] - 2s 31ms/step - loss: 0.2020 - accuracy: 0.9296 - val_loss: 2.7553 - val_accuracy: 0.5806\n",
            "Epoch 57/60\n",
            "72/72 [==============================] - 2s 31ms/step - loss: 0.2686 - accuracy: 0.9093 - val_loss: 2.7276 - val_accuracy: 0.5806\n",
            "Epoch 58/60\n",
            "72/72 [==============================] - 2s 32ms/step - loss: 0.3530 - accuracy: 0.8972 - val_loss: 2.8948 - val_accuracy: 0.5417\n",
            "Epoch 59/60\n",
            "72/72 [==============================] - 2s 32ms/step - loss: 0.2808 - accuracy: 0.9120 - val_loss: 2.8077 - val_accuracy: 0.5556\n",
            "Epoch 60/60\n",
            "72/72 [==============================] - 2s 31ms/step - loss: 0.2413 - accuracy: 0.9167 - val_loss: 2.8950 - val_accuracy: 0.5500\n"
          ]
        }
      ]
    },
    {
      "cell_type": "code",
      "metadata": {
        "colab": {
          "base_uri": "https://localhost:8080/",
          "height": 472
        },
        "id": "MqTSVY4KRlAu",
        "outputId": "95abbff7-bd27-4733-9dae-9ef6d35276ef"
      },
      "source": [
        "#Show nueral net performance\n",
        "print(\"Train Accuracy : \" , model.evaluate(X_train_sc_1,y_train)[1]*100 , \"%\")\n",
        "print(\"Test Accuracy : \" , model.evaluate(X_test_sc_1,y_test)[1]*100 , \"%\")\n",
        "\n",
        "epochs = [i for i in range(60)]\n",
        "fig , ax = plt.subplots(1,2)\n",
        "train_acc = history.history['accuracy']\n",
        "train_loss = history.history['loss']\n",
        "test_acc = history.history['val_accuracy']\n",
        "test_loss = history.history['val_loss']\n",
        "\n",
        "fig.set_size_inches(20,6)\n",
        "ax[0].plot(epochs , train_loss , label = 'Training Loss')\n",
        "ax[0].plot(epochs , test_loss , label = 'Testing Loss')\n",
        "ax[0].set_title('Training & Testing Loss')\n",
        "ax[0].legend()\n",
        "ax[0].set_xlabel(\"Epochs\")\n",
        "\n",
        "ax[1].plot(epochs , train_acc , label = 'Training Accuracy')\n",
        "ax[1].plot(epochs , test_acc , label = 'Testing Accuracy')\n",
        "ax[1].set_title('Training & Testing Accuracy')\n",
        "ax[1].legend()\n",
        "ax[1].set_xlabel(\"Epochs\")\n",
        "plt.show()"
      ],
      "execution_count": 90,
      "outputs": [
        {
          "output_type": "stream",
          "name": "stdout",
          "text": [
            "34/34 [==============================] - 0s 7ms/step - loss: 0.2090 - accuracy: 0.9454\n",
            "Train Accuracy :  94.53703761100769 %\n",
            "12/12 [==============================] - 0s 7ms/step - loss: 1.9033 - accuracy: 0.5611\n",
            "Test Accuracy :  56.111109256744385 %\n"
          ]
        },
        {
          "output_type": "display_data",
          "data": {
            "image/png": "[encoded data removed]",
            "text/plain": [
              "<Figure size 1440x432 with 2 Axes>"
            ]
          },
          "metadata": {
            "needs_background": "light"
          }
        }
      ]
    },
    {
      "cell_type": "code",
      "metadata": {
        "colab": {
          "base_uri": "https://localhost:8080/"
        },
        "id": "_sokCk7NRlDP",
        "outputId": "4e6de418-b067-4cc8-bd2e-16b413a1fb38"
      },
      "source": [
        "#Predict on test data\n",
        "y_predictions = model.predict(X_test_sc_1).argmax(axis=1)\n",
        "\n",
        "\n",
        "#Print classification report\n",
        "print(classification_report(y_test,y_predictions, target_names=levels))\n"
      ],
      "execution_count": 171,
      "outputs": [
        {
          "output_type": "stream",
          "name": "stdout",
          "text": [
            "              precision    recall  f1-score   support\n",
            "\n",
            "       Angry       0.61      0.58      0.60        48\n",
            "     Fearful       0.65      0.73      0.69        51\n",
            "     Disgust       0.48      0.52      0.50        48\n",
            "         Sad       0.51      0.47      0.49        47\n",
            "    Suprised       0.43      0.43      0.43        49\n",
            "       Happy       0.56      0.35      0.43        26\n",
            "        Calm       0.54      0.54      0.54        41\n",
            "     Neutral       0.61      0.68      0.64        50\n",
            "\n",
            "    accuracy                           0.55       360\n",
            "   macro avg       0.55      0.54      0.54       360\n",
            "weighted avg       0.55      0.55      0.55       360\n",
            "\n"
          ]
        }
      ]
    },
    {
      "cell_type": "code",
      "metadata": {
        "colab": {
          "base_uri": "https://localhost:8080/",
          "height": 621
        },
        "id": "TirnP3iWGwzs",
        "outputId": "37eb4a53-255d-449f-d812-d4c5d7210143"
      },
      "source": [
        "#Plot confusion matrix\n",
        "cf_matrix(y_predictions,y_test)"
      ],
      "execution_count": 172,
      "outputs": [
        {
          "output_type": "display_data",
          "data": {
            "image/png": "[encoded data removed]",
            "text/plain": [
              "<Figure size 1080x720 with 2 Axes>"
            ]
          },
          "metadata": {
            "needs_background": "light"
          }
        }
      ]
    },
    {
      "cell_type": "code",
      "metadata": {
        "id": "FxjDvwhARlFQ"
      },
      "source": [
        "#Save Model\n",
        "\n",
        "save_format='h5'\n",
        "model.save(\"Chosen_Model.h5\")"
      ],
      "execution_count": null,
      "outputs": []
    }
  ]
}