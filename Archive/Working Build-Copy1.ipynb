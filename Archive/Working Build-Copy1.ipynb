{
 "cells": [
  {
   "cell_type": "markdown",
   "id": "e6b70dca-5dc5-4614-ab7a-b56c1ae4d738",
   "metadata": {},
   "source": [
    "Problem Statement- Given stock, income_statement, balance sheet, and cash flow data, we are looking to predict a company’s future earnings, or monthly performance based on given features"
   ]
  },
  {
   "cell_type": "markdown",
   "id": "5af9681c-ccc3-42ab-b7b6-aa426f65569e",
   "metadata": {},
   "source": [
    "## Imports"
   ]
  },
  {
   "cell_type": "code",
   "execution_count": 1,
   "id": "ffc7cafa-c5cd-454a-8510-c5be7a643469",
   "metadata": {},
   "outputs": [],
   "source": [
    "\n",
    "#Import SKLearn Libraries\n",
    "from sklearn.model_selection import train_test_split\n",
    "from sklearn.neural_network import MLPClassifier\n",
    "from sklearn.metrics import accuracy_score\n",
    "\n",
    "#Import audio and plotting libraries\n",
    "\n",
    "import librosa\n",
    "import librosa.display\n",
    "import soundfile\n",
    "import wave\n",
    "import numpy as np\n",
    "import matplotlib.pyplot as plt\n",
    "import pandas as pd\n",
    "\n",
    "#Directory packages\n",
    "import os, glob, pickle\n",
    "from tqdm import tqdm\n",
    "\n",
    "%matplotlib inline\n",
    "\n",
    "#Set Default plot size\n",
    "plt.rcParams['figure.figsize'] = (12, 8)\n",
    "\n"
   ]
  },
  {
   "cell_type": "markdown",
   "id": "f1b0dd76-92b3-40b1-a36b-8a92594367cf",
   "metadata": {},
   "source": [
    "Before we get started, we replace a directory"
   ]
  },
  {
   "cell_type": "code",
   "execution_count": 2,
   "id": "952b9cee-12a4-4a4c-bfaf-52447d4cb4a2",
   "metadata": {},
   "outputs": [],
   "source": [
    "#import os\n",
    "#import shutil\n",
    "\n",
    "#for root, dirs, files in os.walk(\"./Data/Ravdess_Audio_Data\"):  # replace the . with your starting directory\n",
    " #  for file in files:\n",
    "  #    path_file = os.path.join(root,file)\n",
    "   #   shutil.copy2(path_file,'./Data/Ravdess') # change you destination dir"
   ]
  },
  {
   "cell_type": "markdown",
   "id": "2b0f4369-5acb-4b8c-a4dc-fb1655258b39",
   "metadata": {},
   "source": [
    "## Functions"
   ]
  },
  {
   "cell_type": "code",
   "execution_count": 3,
   "id": "308f5d35-0871-423a-bb29-be7fee680466",
   "metadata": {},
   "outputs": [],
   "source": [
    "def waveplot(file1, file2, title1, title2):\n",
    "    '''This function creates a waveplot that shows the time and signal of each \n",
    "    data sample. Code adapted from Librosa documentation'''\n",
    "    \n",
    "    #Set Fig Size and load file\n",
    "    fig, ax = plt.subplots(nrows=2, sharex=True)\n",
    "    \n",
    "    #Load waveform\n",
    "    y, sr = librosa.load(file1)\n",
    "    y_harm, y_perc = librosa.effects.hpss(y)\n",
    "    librosa.display.waveshow(y_harm, sr=sr, ax = ax[0], alpha=0.5,  label='Harmonic')\n",
    "    librosa.display.waveshow(y_perc, sr=sr, color='r', ax = ax[0], alpha=0.5,  label='Percussive')\n",
    "    ax[0].set(title=title1)\n",
    "    ax[0].label_outer()\n",
    "    ax[0].set_ylabel('Amplitude')\n",
    "    ax[0].legend()\n",
    "    \n",
    "    y, sr = librosa.load(file2)\n",
    "    y_harm, y_perc = librosa.effects.hpss(y)\n",
    "    librosa.display.waveshow(y_harm, sr=sr, ax = ax[1], alpha=0.5,  label='Harmonic')\n",
    "    librosa.display.waveshow(y_perc, sr=sr, color='r', ax = ax[1], alpha=0.5,  label='Percussive')\n",
    "    ax[1].set(title=title2)\n",
    "    ax[1].label_outer()\n",
    "    ax[1].set_ylabel('Amplitude')\n",
    "    ax[1].legend()\n",
    "\n",
    "\n"
   ]
  },
  {
   "cell_type": "code",
   "execution_count": 19,
   "id": "2a522e42-6f0a-4f4d-a174-601797e78350",
   "metadata": {},
   "outputs": [],
   "source": [
    "def extract_feature(file_name):\n",
    "    \"\"\"Function Extracts Features from WAV file\"\"\"\n",
    "    #for file in glob.glob(\"Data/All_Files//*.wav\"):+\n",
    "    for file in tqdm(glob.glob(\"Data/All_Files//*.wav\")):\n",
    "        X, sample_rate = librosa.load(file)\n",
    "        stft=np.abs(librosa.stft(X))\n",
    "        result=np.array([])\n",
    "        mfccs=np.mean(librosa.feature.mfcc(y=X, sr=sample_rate, n_mfcc=40).T,axis=0)\n",
    "        result=np.hstack((result, mfccs))\n",
    "        chroma=np.mean(librosa.feature.chroma_stft(S=stft, sr=sample_rate).T,axis=0)\n",
    "        result=np.hstack((result, chroma))\n",
    "        mel=np.mean(librosa.feature.melspectrogram(X, sr=sample_rate).T,axis=0)\n",
    "        result=np.hstack((result, mel))\n",
    "        \n",
    "    return result\n",
    "\n"
   ]
  },
  {
   "cell_type": "code",
   "execution_count": 21,
   "id": "8aead107-69d9-4d56-b242-2d69db8d9b2c",
   "metadata": {},
   "outputs": [
    {
     "name": "stdout",
     "output_type": "stream",
     "text": [
      "CPU times: user 6 µs, sys: 1 µs, total: 7 µs\n",
      "Wall time: 12.9 µs\n"
     ]
    },
    {
     "name": "stderr",
     "output_type": "stream",
     "text": [
      "  7%|▋         | 95/1440 [00:20<04:47,  4.68it/s]\n"
     ]
    },
    {
     "ename": "KeyboardInterrupt",
     "evalue": "",
     "output_type": "error",
     "traceback": [
      "\u001b[0;31m---------------------------------------------------------------------------\u001b[0m",
      "\u001b[0;31mKeyboardInterrupt\u001b[0m                         Traceback (most recent call last)",
      "\u001b[0;32m<ipython-input-21-12a271bd4588>\u001b[0m in \u001b[0;36m<module>\u001b[0;34m\u001b[0m\n\u001b[1;32m      5\u001b[0m         \u001b[0mfile_name\u001b[0m\u001b[0;34m=\u001b[0m\u001b[0mos\u001b[0m\u001b[0;34m.\u001b[0m\u001b[0mpath\u001b[0m\u001b[0;34m.\u001b[0m\u001b[0mbasename\u001b[0m\u001b[0;34m(\u001b[0m\u001b[0mfile\u001b[0m\u001b[0;34m)\u001b[0m\u001b[0;34m\u001b[0m\u001b[0;34m\u001b[0m\u001b[0m\n\u001b[1;32m      6\u001b[0m         \u001b[0memotion\u001b[0m\u001b[0;34m=\u001b[0m\u001b[0memotions\u001b[0m\u001b[0;34m[\u001b[0m\u001b[0mfile_name\u001b[0m\u001b[0;34m.\u001b[0m\u001b[0msplit\u001b[0m\u001b[0;34m(\u001b[0m\u001b[0;34m\"-\"\u001b[0m\u001b[0;34m)\u001b[0m\u001b[0;34m[\u001b[0m\u001b[0;36m2\u001b[0m\u001b[0;34m]\u001b[0m\u001b[0;34m]\u001b[0m \u001b[0;34m+\u001b[0m \u001b[0;34m'_'\u001b[0m \u001b[0;34m+\u001b[0m \u001b[0mgender\u001b[0m\u001b[0;34m(\u001b[0m\u001b[0mfile_name\u001b[0m\u001b[0;34m.\u001b[0m\u001b[0msplit\u001b[0m\u001b[0;34m(\u001b[0m\u001b[0;34m\"-\"\u001b[0m\u001b[0;34m)\u001b[0m\u001b[0;34m[\u001b[0m\u001b[0;34m-\u001b[0m\u001b[0;36m1\u001b[0m\u001b[0;34m]\u001b[0m\u001b[0;34m)\u001b[0m\u001b[0;34m\u001b[0m\u001b[0;34m\u001b[0m\u001b[0m\n\u001b[0;32m----> 7\u001b[0;31m         \u001b[0mfeature\u001b[0m\u001b[0;34m=\u001b[0m\u001b[0mextract_feature\u001b[0m\u001b[0;34m(\u001b[0m\u001b[0mfile\u001b[0m\u001b[0;34m)\u001b[0m\u001b[0;34m\u001b[0m\u001b[0;34m\u001b[0m\u001b[0m\n\u001b[0m\u001b[1;32m      8\u001b[0m         \u001b[0mx\u001b[0m\u001b[0;34m.\u001b[0m\u001b[0mappend\u001b[0m\u001b[0;34m(\u001b[0m\u001b[0mfeature\u001b[0m\u001b[0;34m)\u001b[0m\u001b[0;34m\u001b[0m\u001b[0;34m\u001b[0m\u001b[0m\n\u001b[1;32m      9\u001b[0m         \u001b[0my\u001b[0m\u001b[0;34m.\u001b[0m\u001b[0mappend\u001b[0m\u001b[0;34m(\u001b[0m\u001b[0memotion\u001b[0m\u001b[0;34m)\u001b[0m\u001b[0;34m\u001b[0m\u001b[0;34m\u001b[0m\u001b[0m\n",
      "\u001b[0;32m<ipython-input-19-2ddd8adc6d44>\u001b[0m in \u001b[0;36mextract_feature\u001b[0;34m(file_name)\u001b[0m\n\u001b[1;32m      3\u001b[0m     \u001b[0;31m#for file in glob.glob(\"Data/All_Files//*.wav\"):+\u001b[0m\u001b[0;34m\u001b[0m\u001b[0;34m\u001b[0m\u001b[0;34m\u001b[0m\u001b[0m\n\u001b[1;32m      4\u001b[0m     \u001b[0;32mfor\u001b[0m \u001b[0mfile\u001b[0m \u001b[0;32min\u001b[0m \u001b[0mtqdm\u001b[0m\u001b[0;34m(\u001b[0m\u001b[0mglob\u001b[0m\u001b[0;34m.\u001b[0m\u001b[0mglob\u001b[0m\u001b[0;34m(\u001b[0m\u001b[0;34m\"Data/All_Files//*.wav\"\u001b[0m\u001b[0;34m)\u001b[0m\u001b[0;34m)\u001b[0m\u001b[0;34m:\u001b[0m\u001b[0;34m\u001b[0m\u001b[0;34m\u001b[0m\u001b[0m\n\u001b[0;32m----> 5\u001b[0;31m         \u001b[0mX\u001b[0m\u001b[0;34m,\u001b[0m \u001b[0msample_rate\u001b[0m \u001b[0;34m=\u001b[0m \u001b[0mlibrosa\u001b[0m\u001b[0;34m.\u001b[0m\u001b[0mload\u001b[0m\u001b[0;34m(\u001b[0m\u001b[0mfile\u001b[0m\u001b[0;34m)\u001b[0m\u001b[0;34m\u001b[0m\u001b[0;34m\u001b[0m\u001b[0m\n\u001b[0m\u001b[1;32m      6\u001b[0m         \u001b[0mstft\u001b[0m\u001b[0;34m=\u001b[0m\u001b[0mnp\u001b[0m\u001b[0;34m.\u001b[0m\u001b[0mabs\u001b[0m\u001b[0;34m(\u001b[0m\u001b[0mlibrosa\u001b[0m\u001b[0;34m.\u001b[0m\u001b[0mstft\u001b[0m\u001b[0;34m(\u001b[0m\u001b[0mX\u001b[0m\u001b[0;34m)\u001b[0m\u001b[0;34m)\u001b[0m\u001b[0;34m\u001b[0m\u001b[0;34m\u001b[0m\u001b[0m\n\u001b[1;32m      7\u001b[0m         \u001b[0mresult\u001b[0m\u001b[0;34m=\u001b[0m\u001b[0mnp\u001b[0m\u001b[0;34m.\u001b[0m\u001b[0marray\u001b[0m\u001b[0;34m(\u001b[0m\u001b[0;34m[\u001b[0m\u001b[0;34m]\u001b[0m\u001b[0;34m)\u001b[0m\u001b[0;34m\u001b[0m\u001b[0;34m\u001b[0m\u001b[0m\n",
      "\u001b[0;32m~/opt/anaconda3/envs/dsi/lib/python3.8/site-packages/librosa/core/audio.py\u001b[0m in \u001b[0;36mload\u001b[0;34m(path, sr, mono, offset, duration, dtype, res_type)\u001b[0m\n\u001b[1;32m    173\u001b[0m \u001b[0;34m\u001b[0m\u001b[0m\n\u001b[1;32m    174\u001b[0m     \u001b[0;32mif\u001b[0m \u001b[0msr\u001b[0m \u001b[0;32mis\u001b[0m \u001b[0;32mnot\u001b[0m \u001b[0;32mNone\u001b[0m\u001b[0;34m:\u001b[0m\u001b[0;34m\u001b[0m\u001b[0;34m\u001b[0m\u001b[0m\n\u001b[0;32m--> 175\u001b[0;31m         \u001b[0my\u001b[0m \u001b[0;34m=\u001b[0m \u001b[0mresample\u001b[0m\u001b[0;34m(\u001b[0m\u001b[0my\u001b[0m\u001b[0;34m,\u001b[0m \u001b[0msr_native\u001b[0m\u001b[0;34m,\u001b[0m \u001b[0msr\u001b[0m\u001b[0;34m,\u001b[0m \u001b[0mres_type\u001b[0m\u001b[0;34m=\u001b[0m\u001b[0mres_type\u001b[0m\u001b[0;34m)\u001b[0m\u001b[0;34m\u001b[0m\u001b[0;34m\u001b[0m\u001b[0m\n\u001b[0m\u001b[1;32m    176\u001b[0m \u001b[0;34m\u001b[0m\u001b[0m\n\u001b[1;32m    177\u001b[0m     \u001b[0;32melse\u001b[0m\u001b[0;34m:\u001b[0m\u001b[0;34m\u001b[0m\u001b[0;34m\u001b[0m\u001b[0m\n",
      "\u001b[0;32m~/opt/anaconda3/envs/dsi/lib/python3.8/site-packages/librosa/core/audio.py\u001b[0m in \u001b[0;36mresample\u001b[0;34m(y, orig_sr, target_sr, res_type, fix, scale, **kwargs)\u001b[0m\n\u001b[1;32m    602\u001b[0m         \u001b[0my_hat\u001b[0m \u001b[0;34m=\u001b[0m \u001b[0msoxr\u001b[0m\u001b[0;34m.\u001b[0m\u001b[0mresample\u001b[0m\u001b[0;34m(\u001b[0m\u001b[0my\u001b[0m\u001b[0;34m.\u001b[0m\u001b[0mT\u001b[0m\u001b[0;34m,\u001b[0m \u001b[0morig_sr\u001b[0m\u001b[0;34m,\u001b[0m \u001b[0mtarget_sr\u001b[0m\u001b[0;34m,\u001b[0m \u001b[0mquality\u001b[0m\u001b[0;34m=\u001b[0m\u001b[0mres_type\u001b[0m\u001b[0;34m)\u001b[0m\u001b[0;34m.\u001b[0m\u001b[0mT\u001b[0m\u001b[0;34m\u001b[0m\u001b[0;34m\u001b[0m\u001b[0m\n\u001b[1;32m    603\u001b[0m     \u001b[0;32melse\u001b[0m\u001b[0;34m:\u001b[0m\u001b[0;34m\u001b[0m\u001b[0;34m\u001b[0m\u001b[0m\n\u001b[0;32m--> 604\u001b[0;31m         \u001b[0my_hat\u001b[0m \u001b[0;34m=\u001b[0m \u001b[0mresampy\u001b[0m\u001b[0;34m.\u001b[0m\u001b[0mresample\u001b[0m\u001b[0;34m(\u001b[0m\u001b[0my\u001b[0m\u001b[0;34m,\u001b[0m \u001b[0morig_sr\u001b[0m\u001b[0;34m,\u001b[0m \u001b[0mtarget_sr\u001b[0m\u001b[0;34m,\u001b[0m \u001b[0mfilter\u001b[0m\u001b[0;34m=\u001b[0m\u001b[0mres_type\u001b[0m\u001b[0;34m,\u001b[0m \u001b[0maxis\u001b[0m\u001b[0;34m=\u001b[0m\u001b[0;34m-\u001b[0m\u001b[0;36m1\u001b[0m\u001b[0;34m)\u001b[0m\u001b[0;34m\u001b[0m\u001b[0;34m\u001b[0m\u001b[0m\n\u001b[0m\u001b[1;32m    605\u001b[0m \u001b[0;34m\u001b[0m\u001b[0m\n\u001b[1;32m    606\u001b[0m     \u001b[0;32mif\u001b[0m \u001b[0mfix\u001b[0m\u001b[0;34m:\u001b[0m\u001b[0;34m\u001b[0m\u001b[0;34m\u001b[0m\u001b[0m\n",
      "\u001b[0;32m~/opt/anaconda3/envs/dsi/lib/python3.8/site-packages/resampy/core.py\u001b[0m in \u001b[0;36mresample\u001b[0;34m(x, sr_orig, sr_new, axis, filter, **kwargs)\u001b[0m\n\u001b[1;32m    118\u001b[0m     \u001b[0mx_2d\u001b[0m \u001b[0;34m=\u001b[0m \u001b[0mx\u001b[0m\u001b[0;34m.\u001b[0m\u001b[0mswapaxes\u001b[0m\u001b[0;34m(\u001b[0m\u001b[0;36m0\u001b[0m\u001b[0;34m,\u001b[0m \u001b[0maxis\u001b[0m\u001b[0;34m)\u001b[0m\u001b[0;34m.\u001b[0m\u001b[0mreshape\u001b[0m\u001b[0;34m(\u001b[0m\u001b[0;34m(\u001b[0m\u001b[0mx\u001b[0m\u001b[0;34m.\u001b[0m\u001b[0mshape\u001b[0m\u001b[0;34m[\u001b[0m\u001b[0maxis\u001b[0m\u001b[0;34m]\u001b[0m\u001b[0;34m,\u001b[0m \u001b[0;34m-\u001b[0m\u001b[0;36m1\u001b[0m\u001b[0;34m)\u001b[0m\u001b[0;34m)\u001b[0m\u001b[0;34m\u001b[0m\u001b[0;34m\u001b[0m\u001b[0m\n\u001b[1;32m    119\u001b[0m     \u001b[0my_2d\u001b[0m \u001b[0;34m=\u001b[0m \u001b[0my\u001b[0m\u001b[0;34m.\u001b[0m\u001b[0mswapaxes\u001b[0m\u001b[0;34m(\u001b[0m\u001b[0;36m0\u001b[0m\u001b[0;34m,\u001b[0m \u001b[0maxis\u001b[0m\u001b[0;34m)\u001b[0m\u001b[0;34m.\u001b[0m\u001b[0mreshape\u001b[0m\u001b[0;34m(\u001b[0m\u001b[0;34m(\u001b[0m\u001b[0my\u001b[0m\u001b[0;34m.\u001b[0m\u001b[0mshape\u001b[0m\u001b[0;34m[\u001b[0m\u001b[0maxis\u001b[0m\u001b[0;34m]\u001b[0m\u001b[0;34m,\u001b[0m \u001b[0;34m-\u001b[0m\u001b[0;36m1\u001b[0m\u001b[0;34m)\u001b[0m\u001b[0;34m)\u001b[0m\u001b[0;34m\u001b[0m\u001b[0;34m\u001b[0m\u001b[0m\n\u001b[0;32m--> 120\u001b[0;31m     \u001b[0mresample_f\u001b[0m\u001b[0;34m(\u001b[0m\u001b[0mx_2d\u001b[0m\u001b[0;34m,\u001b[0m \u001b[0my_2d\u001b[0m\u001b[0;34m,\u001b[0m \u001b[0msample_ratio\u001b[0m\u001b[0;34m,\u001b[0m \u001b[0minterp_win\u001b[0m\u001b[0;34m,\u001b[0m \u001b[0minterp_delta\u001b[0m\u001b[0;34m,\u001b[0m \u001b[0mprecision\u001b[0m\u001b[0;34m)\u001b[0m\u001b[0;34m\u001b[0m\u001b[0;34m\u001b[0m\u001b[0m\n\u001b[0m\u001b[1;32m    121\u001b[0m \u001b[0;34m\u001b[0m\u001b[0m\n\u001b[1;32m    122\u001b[0m     \u001b[0;32mreturn\u001b[0m \u001b[0my\u001b[0m\u001b[0;34m\u001b[0m\u001b[0;34m\u001b[0m\u001b[0m\n",
      "\u001b[0;31mKeyboardInterrupt\u001b[0m: "
     ]
    }
   ],
   "source": []
  },
  {
   "cell_type": "code",
   "execution_count": 5,
   "id": "42143ffb-a3dd-45f4-aa85-dfc3aa78c2ab",
   "metadata": {},
   "outputs": [],
   "source": [
    "def load_data(test_size=0.2):\n",
    "    x,y=[],[]\n",
    "    for file in tqdm(glob.glob(\"Data/All_Files//*.wav\")):\n",
    "        file_name=os.path.basename(file)\n",
    "        emotion=emotions[file_name.split(\"-\")[2]] + '_' + gender(file_name.split(\"-\")[-1])\n",
    "        feature=extract_feature(file)\n",
    "        x.append(feature)\n",
    "        y.append(emotion)\n",
    "    return train_test_split(np.array(x), y, test_size=test_size, random_state=9)"
   ]
  },
  {
   "cell_type": "code",
   "execution_count": 6,
   "id": "4b2bc7a9-9f38-41ef-92d4-a86639697ea7",
   "metadata": {},
   "outputs": [],
   "source": [
    "def gender(g):\n",
    "    \"\"\"Returns Gender Label\"\"\"\n",
    "    if int(g[0:2]) % 2 == 0:\n",
    "        return 'female'\n",
    "    else:\n",
    "        return 'male'"
   ]
  },
  {
   "cell_type": "markdown",
   "id": "4140ca65-6848-4028-817d-f9924058a4fc",
   "metadata": {},
   "source": [
    "## EDA"
   ]
  },
  {
   "cell_type": "code",
   "execution_count": 7,
   "id": "85ec398c-d585-40da-af15-5fa51004b6e3",
   "metadata": {},
   "outputs": [],
   "source": [
    "File_Sample = 'Data/All_Files/03-01-01-01-02-02-01.wav'"
   ]
  },
  {
   "cell_type": "markdown",
   "id": "0a2af355-5cbe-4b21-9415-391c2e6506d3",
   "metadata": {},
   "source": [
    "\n",
    "**Here is what each number in the file segment \"03-01-01-01-02-02-01\" refers to:**\n",
    "\n",
    "- Elements\n",
    "    - **1st:  Modality** (03 = audio-only)\n",
    "    - **2nd:  Vocal channel** (01 = speech)\n",
    "    - **3rd:  Emotion** (01 = neutral, 02 = calm, 03 = happy, 04 = sad, 05 = angry, 06 = fearful, 07 = disgust, 08 = surprised)\n",
    "    - **4th:  Emotional intensity** (01 = normal, 02 = strong). \n",
    "        - Note: There is no strong intensity for the 'neutral' emotion\n",
    "    - **5th:  Statement** (01 = \"Kids are talking by the door\", 02 = \"Dogs are sitting by the door\")\n",
    "    - **6th:  Repetition** (01 = 1st repetition, 02 = 2nd repetition)\n",
    "    - **7th:  Actor** (01 to 24)\n",
    "        - Odd numbered actors are male, even numbered actors are female\n"
   ]
  },
  {
   "cell_type": "code",
   "execution_count": 8,
   "id": "8c69386d-4c93-4c48-bcd0-c79c4bc233d9",
   "metadata": {},
   "outputs": [
    {
     "name": "stderr",
     "output_type": "stream",
     "text": [
      "/Users/nathanmckinney/opt/anaconda3/envs/dsi/lib/python3.8/site-packages/pydub/utils.py:170: RuntimeWarning: Couldn't find ffmpeg or avconv - defaulting to ffmpeg, but may not work\n",
      "  warn(\"Couldn't find ffmpeg or avconv - defaulting to ffmpeg, but may not work\", RuntimeWarning)\n"
     ]
    }
   ],
   "source": [
    "#Plays an audio file \n",
    "\n",
    "#Audio Text: \"Dogs are sitting by the door\"\n",
    "\n",
    "from pydub import AudioSegment\n",
    "from pydub.playback import play\n",
    "\n",
    "sample = AudioSegment.from_wav('Data/All_Files/03-01-01-01-02-02-01.wav')\n",
    "\n",
    "play(sample)"
   ]
  },
  {
   "cell_type": "code",
   "execution_count": null,
   "id": "aa7aaf2f-b23a-47d2-b3cc-11fed24b2a81",
   "metadata": {},
   "outputs": [],
   "source": []
  },
  {
   "cell_type": "markdown",
   "id": "0ed195d0-bfed-47da-8fd0-caaac6e52081",
   "metadata": {},
   "source": [
    "Our files are fairly short snippets, usually lasting a second or two long, where each actor changes tone, pitch, and inflection to carry a certain emotion. In the case below, the actor is displaying a neutral emotion with normal intensity, while the second file sample shows the same actor with an angry emotion "
   ]
  },
  {
   "cell_type": "code",
   "execution_count": 9,
   "id": "2a27781a-aeab-4307-b791-de7903153373",
   "metadata": {},
   "outputs": [
    {
     "data": {
      "image/png": "[encoded data removed]",
      "text/plain": [
       "<Figure size 864x576 with 2 Axes>"
      ]
     },
     "metadata": {
      "needs_background": "light"
     },
     "output_type": "display_data"
    }
   ],
   "source": [
    "title2 = 'Data/All_Files/03-01-05-01-02-02-01.wav'\n",
    "\n",
    "waveplot(File_Sample, title2, 'Waveforms With Neutral Emotion', 'Waveforms With Angry Emotion')"
   ]
  },
  {
   "cell_type": "code",
   "execution_count": 70,
   "id": "7f1d4feb-5c1b-4910-b3d0-6e9574200e18",
   "metadata": {},
   "outputs": [],
   "source": [
    "emotions = {'01': 'neutral', \n",
    "             '02': 'calm', \n",
    "             '03': 'happy',\n",
    "             '04': 'sad',\n",
    "             '05': 'angry',\n",
    "             '06': 'fearful',\n",
    "             '07': 'disgust',\n",
    "             '08': 'suprised'}\n",
    "\n",
    "\n",
    "emot_dict = {'1': 'neutral', \n",
    "             '2': 'calm', \n",
    "             '3': 'happy',\n",
    "             '4': 'sad',\n",
    "             '5': 'angry',\n",
    "             '6': 'fearful',\n",
    "             '7': 'disgust',\n",
    "             '8': 'suprised'}\n",
    "\n",
    "\n",
    "iten_dict = {'1': 'normal', \n",
    "             '2': 'strong', \n",
    "             }\n",
    "\n",
    "text_dict= {'1': \"Kids are talking by the door\", \n",
    "             '2': \"Dogs are sitting by the door\", \n",
    "             }\n"
   ]
  },
  {
   "cell_type": "code",
   "execution_count": 71,
   "id": "f41b9511-6ba7-40d7-a866-6c2a84d745d9",
   "metadata": {},
   "outputs": [],
   "source": [
    "dir_list = os.listdir('Data/All_Files/')\n",
    "\n",
    "path = []\n",
    "actor= []\n",
    "emotion_id= []\n",
    "intensity = []\n",
    "text = []\n",
    "gender = []\n",
    "\n",
    "for i in dir_list:\n",
    "    path.append(i)\n",
    "    actor.append(i[-6:-4])\n",
    "    emotion_id.append(i[7])\n",
    "    intensity.append(i[10:-13])\n",
    "    text.append(i[13:14])\n",
    "    gender.append(i[1:2])\n",
    "        \n",
    "    df = pd.DataFrame(path, columns = ['path'])\n",
    "    df['source'] = 'RAVIDESS'\n",
    "    df = pd.concat([df, pd.DataFrame(actor, columns = ['actor'])], axis = 1)\n",
    "    df = pd.concat([df, pd.DataFrame(emotion_id, columns = ['emotion_id'])], axis = 1)\n",
    "    df = pd.concat([df, pd.DataFrame(intensity, columns = ['intensity'])], axis = 1)\n",
    "    df = pd.concat([df, pd.DataFrame(text, columns = ['stated_text'])], axis = 1)\n",
    "    df = pd.concat([df, pd.DataFrame(gender, columns = ['gender'])], axis = 1)\n"
   ]
  },
  {
   "cell_type": "code",
   "execution_count": 74,
   "id": "1179dd94-e1f0-42a9-aa57-6bd5f5b4c4b1",
   "metadata": {},
   "outputs": [
    {
     "data": {
      "text/html": [
       "<div>\n",
       "<style scoped>\n",
       "    .dataframe tbody tr th:only-of-type {\n",
       "        vertical-align: middle;\n",
       "    }\n",
       "\n",
       "    .dataframe tbody tr th {\n",
       "        vertical-align: top;\n",
       "    }\n",
       "\n",
       "    .dataframe thead th {\n",
       "        text-align: right;\n",
       "    }\n",
       "</style>\n",
       "<table border=\"1\" class=\"dataframe\">\n",
       "  <thead>\n",
       "    <tr style=\"text-align: right;\">\n",
       "      <th></th>\n",
       "      <th>path</th>\n",
       "      <th>source</th>\n",
       "      <th>actor</th>\n",
       "      <th>emotion_id</th>\n",
       "      <th>intensity</th>\n",
       "      <th>stated_text</th>\n",
       "      <th>gender</th>\n",
       "      <th>emotion</th>\n",
       "    </tr>\n",
       "  </thead>\n",
       "  <tbody>\n",
       "    <tr>\n",
       "      <th>0</th>\n",
       "      <td>03-01-06-01-02-02-02.wav</td>\n",
       "      <td>RAVIDESS</td>\n",
       "      <td>02</td>\n",
       "      <td>6</td>\n",
       "      <td>NaN</td>\n",
       "      <td>NaN</td>\n",
       "      <td>3</td>\n",
       "      <td>fearful</td>\n",
       "    </tr>\n",
       "    <tr>\n",
       "      <th>1</th>\n",
       "      <td>03-01-05-01-02-01-16.wav</td>\n",
       "      <td>RAVIDESS</td>\n",
       "      <td>16</td>\n",
       "      <td>5</td>\n",
       "      <td>NaN</td>\n",
       "      <td>NaN</td>\n",
       "      <td>3</td>\n",
       "      <td>angry</td>\n",
       "    </tr>\n",
       "    <tr>\n",
       "      <th>2</th>\n",
       "      <td>03-01-08-01-01-01-14.wav</td>\n",
       "      <td>RAVIDESS</td>\n",
       "      <td>14</td>\n",
       "      <td>8</td>\n",
       "      <td>NaN</td>\n",
       "      <td>NaN</td>\n",
       "      <td>3</td>\n",
       "      <td>suprised</td>\n",
       "    </tr>\n",
       "    <tr>\n",
       "      <th>3</th>\n",
       "      <td>03-01-06-01-02-02-16.wav</td>\n",
       "      <td>RAVIDESS</td>\n",
       "      <td>16</td>\n",
       "      <td>6</td>\n",
       "      <td>NaN</td>\n",
       "      <td>NaN</td>\n",
       "      <td>3</td>\n",
       "      <td>fearful</td>\n",
       "    </tr>\n",
       "    <tr>\n",
       "      <th>4</th>\n",
       "      <td>03-01-05-01-02-01-02.wav</td>\n",
       "      <td>RAVIDESS</td>\n",
       "      <td>02</td>\n",
       "      <td>5</td>\n",
       "      <td>NaN</td>\n",
       "      <td>NaN</td>\n",
       "      <td>3</td>\n",
       "      <td>angry</td>\n",
       "    </tr>\n",
       "    <tr>\n",
       "      <th>...</th>\n",
       "      <td>...</td>\n",
       "      <td>...</td>\n",
       "      <td>...</td>\n",
       "      <td>...</td>\n",
       "      <td>...</td>\n",
       "      <td>...</td>\n",
       "      <td>...</td>\n",
       "      <td>...</td>\n",
       "    </tr>\n",
       "    <tr>\n",
       "      <th>1436</th>\n",
       "      <td>03-01-08-02-02-01-19.wav</td>\n",
       "      <td>RAVIDESS</td>\n",
       "      <td>19</td>\n",
       "      <td>8</td>\n",
       "      <td>NaN</td>\n",
       "      <td>NaN</td>\n",
       "      <td>3</td>\n",
       "      <td>suprised</td>\n",
       "    </tr>\n",
       "    <tr>\n",
       "      <th>1437</th>\n",
       "      <td>03-01-02-02-01-01-23.wav</td>\n",
       "      <td>RAVIDESS</td>\n",
       "      <td>23</td>\n",
       "      <td>2</td>\n",
       "      <td>NaN</td>\n",
       "      <td>NaN</td>\n",
       "      <td>3</td>\n",
       "      <td>calm</td>\n",
       "    </tr>\n",
       "    <tr>\n",
       "      <th>1438</th>\n",
       "      <td>03-01-02-01-02-01-23.wav</td>\n",
       "      <td>RAVIDESS</td>\n",
       "      <td>23</td>\n",
       "      <td>2</td>\n",
       "      <td>NaN</td>\n",
       "      <td>NaN</td>\n",
       "      <td>3</td>\n",
       "      <td>calm</td>\n",
       "    </tr>\n",
       "    <tr>\n",
       "      <th>1439</th>\n",
       "      <td>03-01-08-01-01-01-19.wav</td>\n",
       "      <td>RAVIDESS</td>\n",
       "      <td>19</td>\n",
       "      <td>8</td>\n",
       "      <td>NaN</td>\n",
       "      <td>NaN</td>\n",
       "      <td>3</td>\n",
       "      <td>suprised</td>\n",
       "    </tr>\n",
       "    <tr>\n",
       "      <th>1440</th>\n",
       "      <td>03-01-01-01-02-02-23.wav</td>\n",
       "      <td>RAVIDESS</td>\n",
       "      <td>23</td>\n",
       "      <td>1</td>\n",
       "      <td>NaN</td>\n",
       "      <td>NaN</td>\n",
       "      <td>3</td>\n",
       "      <td>neutral</td>\n",
       "    </tr>\n",
       "  </tbody>\n",
       "</table>\n",
       "<p>1441 rows × 8 columns</p>\n",
       "</div>"
      ],
      "text/plain": [
       "                          path    source actor emotion_id intensity  \\\n",
       "0     03-01-06-01-02-02-02.wav  RAVIDESS    02          6       NaN   \n",
       "1     03-01-05-01-02-01-16.wav  RAVIDESS    16          5       NaN   \n",
       "2     03-01-08-01-01-01-14.wav  RAVIDESS    14          8       NaN   \n",
       "3     03-01-06-01-02-02-16.wav  RAVIDESS    16          6       NaN   \n",
       "4     03-01-05-01-02-01-02.wav  RAVIDESS    02          5       NaN   \n",
       "...                        ...       ...   ...        ...       ...   \n",
       "1436  03-01-08-02-02-01-19.wav  RAVIDESS    19          8       NaN   \n",
       "1437  03-01-02-02-01-01-23.wav  RAVIDESS    23          2       NaN   \n",
       "1438  03-01-02-01-02-01-23.wav  RAVIDESS    23          2       NaN   \n",
       "1439  03-01-08-01-01-01-19.wav  RAVIDESS    19          8       NaN   \n",
       "1440  03-01-01-01-02-02-23.wav  RAVIDESS    23          1       NaN   \n",
       "\n",
       "     stated_text gender   emotion  \n",
       "0            NaN      3   fearful  \n",
       "1            NaN      3     angry  \n",
       "2            NaN      3  suprised  \n",
       "3            NaN      3   fearful  \n",
       "4            NaN      3     angry  \n",
       "...          ...    ...       ...  \n",
       "1436         NaN      3  suprised  \n",
       "1437         NaN      3      calm  \n",
       "1438         NaN      3      calm  \n",
       "1439         NaN      3  suprised  \n",
       "1440         NaN      3   neutral  \n",
       "\n",
       "[1441 rows x 8 columns]"
      ]
     },
     "execution_count": 74,
     "metadata": {},
     "output_type": "execute_result"
    }
   ],
   "source": [
    "df['emotion'] = df['emotion_id'].map(emot_dict)\n",
    "df['intensity'] = df['intensity'].map(iten_dict)\n",
    "df['stated_text'] = df['stated_text'].map(text_dict)\n",
    "\n",
    "df\n",
    "df"
   ]
  },
  {
   "cell_type": "code",
   "execution_count": 13,
   "id": "fb195930-eef6-4e81-8cc4-bce0d1d6b23e",
   "metadata": {},
   "outputs": [
    {
     "data": {
      "text/plain": [
       "sad         192\n",
       "disgust     192\n",
       "fearful     192\n",
       "angry       192\n",
       "suprised    192\n",
       "happy       192\n",
       "calm        192\n",
       "neutral      96\n",
       "Name: emotion, dtype: int64"
      ]
     },
     "execution_count": 13,
     "metadata": {},
     "output_type": "execute_result"
    }
   ],
   "source": [
    "df['emotion'].value_counts()"
   ]
  },
  {
   "cell_type": "code",
   "execution_count": null,
   "id": "d3de9156-f2db-4c8d-98a2-0d6e921a5b85",
   "metadata": {},
   "outputs": [],
   "source": []
  },
  {
   "cell_type": "code",
   "execution_count": 14,
   "id": "c1a28202-b977-4360-aee1-5c278372b95f",
   "metadata": {},
   "outputs": [],
   "source": [
    "# CREATE LOG MEL SPECTROGRAM\n",
    "#spectrogram = librosa.feature.melspectrogram(y=x, sr=sr, n_mels=128,fmax=8000) \n",
    "#spectrogram = librosa.power_to_db(spectrogram)\n",
    "\n",
    "#librosa.display.specshow(spectrogram, y_axis='mel', fmax=8000, x_axis='time');\n",
    "#plt.title('Mel Spectrogram - Male Calm')\n",
    "#plt.savefig('MelSpec_MaleCalm.png')\n",
    "#plt.colorbar(format='%+2.0f dB');"
   ]
  },
  {
   "cell_type": "markdown",
   "id": "5ba37d8d-3466-4304-8e18-f2cab35bc3fa",
   "metadata": {
    "tags": []
   },
   "source": [
    "## Null Model"
   ]
  },
  {
   "cell_type": "markdown",
   "id": "d64b9c3b-700a-4e9a-aed7-7a56a4485e91",
   "metadata": {
    "tags": []
   },
   "source": [
    "Given we have 8 emotions we are choosing from, the probability of correctly guessing one, without replacement, is about 13%. \n",
    "This will be our null score we will look to baseline model improvements off of."
   ]
  },
  {
   "cell_type": "markdown",
   "id": "6d7c768e-6cc8-4275-bf28-27e9bb55596f",
   "metadata": {},
   "source": [
    "## Audio Extraction"
   ]
  },
  {
   "cell_type": "markdown",
   "id": "06ab7fe6-f79f-413c-a2c1-9bfbaf02aefb",
   "metadata": {},
   "source": [
    "As we are looking to build a model for audio classification, we look extract several audio features. Our baseline will only use MFCC, While we will use MEL and Chroma later on to improve on our model's accuracy.\n",
    "\n",
    "- **MFCC (Mel-Frequency Cepstral Coefficients):** \n",
    "    - MFCC, features represent phonemes (distinct units of sound) coming off of the vocal tract\n",
    "- **MEL** \n",
    "    - THE MEL scale is a scale that relates the perceived frequency of a tone to the actual measured frequency. If we were to look at, say, a land-line dial up, the mel scale would measure the distance between these sounds. The word mel comes from \"melody\".\n",
    "    \n",
    "- **Chroma**\n",
    "    - The chroma\n",
    "    is a powerful measurement of pitch, differentiating between 12 classes of pitch\n",
    "    \n",
    "This"
   ]
  },
  {
   "cell_type": "markdown",
   "id": "5ec8658d-3d22-4246-8b17-8ce62f31978f",
   "metadata": {},
   "source": [
    "Calculate MFCC's for a given audio sample\n",
    "@Slice the signal into short frames\n",
    "compute periodogram estimate of power spectrum\n",
    "Apply filterbank"
   ]
  },
  {
   "cell_type": "code",
   "execution_count": 23,
   "id": "2d221ec0-af5c-4645-9921-371ea325149e",
   "metadata": {},
   "outputs": [
    {
     "name": "stderr",
     "output_type": "stream",
     "text": [
      "100%|██████████| 1440/1440 [05:28<00:00,  4.38it/s]\n",
      "100%|██████████| 1440/1440 [05:29<00:00,  4.37it/s]\n",
      "100%|██████████| 1440/1440 [05:30<00:00,  4.36it/s]\n",
      "100%|██████████| 1440/1440 [05:29<00:00,  4.37it/s]\n",
      "100%|██████████| 1440/1440 [37:26<00:00,  1.56s/it]    \n",
      "100%|██████████| 1440/1440 [36:24<00:00,  1.52s/it]    \n",
      "100%|██████████| 1440/1440 [37:55<00:00,  1.58s/it]    \n",
      "100%|██████████| 1440/1440 [36:32<00:00,  1.52s/it]   \n",
      "100%|██████████| 1440/1440 [37:11<00:00,  1.55s/it]    \n",
      "100%|██████████| 1440/1440 [38:23<00:00,  1.60s/it]    \n",
      "100%|██████████| 1440/1440 [37:53<00:00,  1.58s/it]    \n",
      "100%|██████████| 1440/1440 [36:54<00:00,  1.54s/it]   \n",
      "100%|██████████| 1440/1440 [36:33<00:00,  1.52s/it]   \n",
      "100%|██████████| 1440/1440 [35:10<00:00,  1.47s/it]   \n",
      "100%|██████████| 1440/1440 [21:16<00:00,  1.13it/s]   \n",
      "100%|██████████| 1440/1440 [39:07<00:00,  1.63s/it]   \n",
      "100%|██████████| 1440/1440 [37:49<00:00,  1.58s/it]    \n",
      "100%|██████████| 1440/1440 [37:24<00:00,  1.56s/it]    \n",
      "100%|██████████| 1440/1440 [19:33<00:00,  1.23it/s]   \n",
      "100%|██████████| 1440/1440 [05:03<00:00,  4.75it/s]\n",
      "  0%|          | 0/1440 [00:00<?, ?it/s]\n"
     ]
    },
    {
     "ename": "KeyboardInterrupt",
     "evalue": "",
     "output_type": "error",
     "traceback": [
      "\u001b[0;31m---------------------------------------------------------------------------\u001b[0m",
      "\u001b[0;31mKeyboardInterrupt\u001b[0m                         Traceback (most recent call last)",
      "\u001b[0;32m<ipython-input-23-84582ff69be9>\u001b[0m in \u001b[0;36m<module>\u001b[0;34m\u001b[0m\n\u001b[1;32m      3\u001b[0m         \u001b[0mfile_name\u001b[0m\u001b[0;34m=\u001b[0m\u001b[0mos\u001b[0m\u001b[0;34m.\u001b[0m\u001b[0mpath\u001b[0m\u001b[0;34m.\u001b[0m\u001b[0mbasename\u001b[0m\u001b[0;34m(\u001b[0m\u001b[0mfile\u001b[0m\u001b[0;34m)\u001b[0m\u001b[0;34m\u001b[0m\u001b[0;34m\u001b[0m\u001b[0m\n\u001b[1;32m      4\u001b[0m         \u001b[0memotion\u001b[0m\u001b[0;34m=\u001b[0m\u001b[0memotions\u001b[0m\u001b[0;34m[\u001b[0m\u001b[0mfile_name\u001b[0m\u001b[0;34m.\u001b[0m\u001b[0msplit\u001b[0m\u001b[0;34m(\u001b[0m\u001b[0;34m\"-\"\u001b[0m\u001b[0;34m)\u001b[0m\u001b[0;34m[\u001b[0m\u001b[0;36m2\u001b[0m\u001b[0;34m]\u001b[0m\u001b[0;34m]\u001b[0m \u001b[0;34m+\u001b[0m \u001b[0;34m'_'\u001b[0m \u001b[0;34m+\u001b[0m \u001b[0mgender\u001b[0m\u001b[0;34m(\u001b[0m\u001b[0mfile_name\u001b[0m\u001b[0;34m.\u001b[0m\u001b[0msplit\u001b[0m\u001b[0;34m(\u001b[0m\u001b[0;34m\"-\"\u001b[0m\u001b[0;34m)\u001b[0m\u001b[0;34m[\u001b[0m\u001b[0;34m-\u001b[0m\u001b[0;36m1\u001b[0m\u001b[0;34m]\u001b[0m\u001b[0;34m)\u001b[0m\u001b[0;34m\u001b[0m\u001b[0;34m\u001b[0m\u001b[0m\n\u001b[0;32m----> 5\u001b[0;31m         \u001b[0mfeature\u001b[0m\u001b[0;34m=\u001b[0m\u001b[0mextract_feature\u001b[0m\u001b[0;34m(\u001b[0m\u001b[0mfile\u001b[0m\u001b[0;34m)\u001b[0m\u001b[0;34m\u001b[0m\u001b[0;34m\u001b[0m\u001b[0m\n\u001b[0m\u001b[1;32m      6\u001b[0m         \u001b[0mX\u001b[0m\u001b[0;34m.\u001b[0m\u001b[0mappend\u001b[0m\u001b[0;34m(\u001b[0m\u001b[0mfeature\u001b[0m\u001b[0;34m)\u001b[0m\u001b[0;34m\u001b[0m\u001b[0;34m\u001b[0m\u001b[0m\n\u001b[1;32m      7\u001b[0m         \u001b[0my\u001b[0m\u001b[0;34m.\u001b[0m\u001b[0mappend\u001b[0m\u001b[0;34m(\u001b[0m\u001b[0memotion\u001b[0m\u001b[0;34m)\u001b[0m\u001b[0;34m\u001b[0m\u001b[0;34m\u001b[0m\u001b[0m\n",
      "\u001b[0;32m<ipython-input-19-2ddd8adc6d44>\u001b[0m in \u001b[0;36mextract_feature\u001b[0;34m(file_name)\u001b[0m\n\u001b[1;32m      3\u001b[0m     \u001b[0;31m#for file in glob.glob(\"Data/All_Files//*.wav\"):+\u001b[0m\u001b[0;34m\u001b[0m\u001b[0;34m\u001b[0m\u001b[0;34m\u001b[0m\u001b[0m\n\u001b[1;32m      4\u001b[0m     \u001b[0;32mfor\u001b[0m \u001b[0mfile\u001b[0m \u001b[0;32min\u001b[0m \u001b[0mtqdm\u001b[0m\u001b[0;34m(\u001b[0m\u001b[0mglob\u001b[0m\u001b[0;34m.\u001b[0m\u001b[0mglob\u001b[0m\u001b[0;34m(\u001b[0m\u001b[0;34m\"Data/All_Files//*.wav\"\u001b[0m\u001b[0;34m)\u001b[0m\u001b[0;34m)\u001b[0m\u001b[0;34m:\u001b[0m\u001b[0;34m\u001b[0m\u001b[0;34m\u001b[0m\u001b[0m\n\u001b[0;32m----> 5\u001b[0;31m         \u001b[0mX\u001b[0m\u001b[0;34m,\u001b[0m \u001b[0msample_rate\u001b[0m \u001b[0;34m=\u001b[0m \u001b[0mlibrosa\u001b[0m\u001b[0;34m.\u001b[0m\u001b[0mload\u001b[0m\u001b[0;34m(\u001b[0m\u001b[0mfile\u001b[0m\u001b[0;34m)\u001b[0m\u001b[0;34m\u001b[0m\u001b[0;34m\u001b[0m\u001b[0m\n\u001b[0m\u001b[1;32m      6\u001b[0m         \u001b[0mstft\u001b[0m\u001b[0;34m=\u001b[0m\u001b[0mnp\u001b[0m\u001b[0;34m.\u001b[0m\u001b[0mabs\u001b[0m\u001b[0;34m(\u001b[0m\u001b[0mlibrosa\u001b[0m\u001b[0;34m.\u001b[0m\u001b[0mstft\u001b[0m\u001b[0;34m(\u001b[0m\u001b[0mX\u001b[0m\u001b[0;34m)\u001b[0m\u001b[0;34m)\u001b[0m\u001b[0;34m\u001b[0m\u001b[0;34m\u001b[0m\u001b[0m\n\u001b[1;32m      7\u001b[0m         \u001b[0mresult\u001b[0m\u001b[0;34m=\u001b[0m\u001b[0mnp\u001b[0m\u001b[0;34m.\u001b[0m\u001b[0marray\u001b[0m\u001b[0;34m(\u001b[0m\u001b[0;34m[\u001b[0m\u001b[0;34m]\u001b[0m\u001b[0;34m)\u001b[0m\u001b[0;34m\u001b[0m\u001b[0;34m\u001b[0m\u001b[0m\n",
      "\u001b[0;32m~/opt/anaconda3/envs/dsi/lib/python3.8/site-packages/librosa/core/audio.py\u001b[0m in \u001b[0;36mload\u001b[0;34m(path, sr, mono, offset, duration, dtype, res_type)\u001b[0m\n\u001b[1;32m    173\u001b[0m \u001b[0;34m\u001b[0m\u001b[0m\n\u001b[1;32m    174\u001b[0m     \u001b[0;32mif\u001b[0m \u001b[0msr\u001b[0m \u001b[0;32mis\u001b[0m \u001b[0;32mnot\u001b[0m \u001b[0;32mNone\u001b[0m\u001b[0;34m:\u001b[0m\u001b[0;34m\u001b[0m\u001b[0;34m\u001b[0m\u001b[0m\n\u001b[0;32m--> 175\u001b[0;31m         \u001b[0my\u001b[0m \u001b[0;34m=\u001b[0m \u001b[0mresample\u001b[0m\u001b[0;34m(\u001b[0m\u001b[0my\u001b[0m\u001b[0;34m,\u001b[0m \u001b[0msr_native\u001b[0m\u001b[0;34m,\u001b[0m \u001b[0msr\u001b[0m\u001b[0;34m,\u001b[0m \u001b[0mres_type\u001b[0m\u001b[0;34m=\u001b[0m\u001b[0mres_type\u001b[0m\u001b[0;34m)\u001b[0m\u001b[0;34m\u001b[0m\u001b[0;34m\u001b[0m\u001b[0m\n\u001b[0m\u001b[1;32m    176\u001b[0m \u001b[0;34m\u001b[0m\u001b[0m\n\u001b[1;32m    177\u001b[0m     \u001b[0;32melse\u001b[0m\u001b[0;34m:\u001b[0m\u001b[0;34m\u001b[0m\u001b[0;34m\u001b[0m\u001b[0m\n",
      "\u001b[0;32m~/opt/anaconda3/envs/dsi/lib/python3.8/site-packages/librosa/core/audio.py\u001b[0m in \u001b[0;36mresample\u001b[0;34m(y, orig_sr, target_sr, res_type, fix, scale, **kwargs)\u001b[0m\n\u001b[1;32m    602\u001b[0m         \u001b[0my_hat\u001b[0m \u001b[0;34m=\u001b[0m \u001b[0msoxr\u001b[0m\u001b[0;34m.\u001b[0m\u001b[0mresample\u001b[0m\u001b[0;34m(\u001b[0m\u001b[0my\u001b[0m\u001b[0;34m.\u001b[0m\u001b[0mT\u001b[0m\u001b[0;34m,\u001b[0m \u001b[0morig_sr\u001b[0m\u001b[0;34m,\u001b[0m \u001b[0mtarget_sr\u001b[0m\u001b[0;34m,\u001b[0m \u001b[0mquality\u001b[0m\u001b[0;34m=\u001b[0m\u001b[0mres_type\u001b[0m\u001b[0;34m)\u001b[0m\u001b[0;34m.\u001b[0m\u001b[0mT\u001b[0m\u001b[0;34m\u001b[0m\u001b[0;34m\u001b[0m\u001b[0m\n\u001b[1;32m    603\u001b[0m     \u001b[0;32melse\u001b[0m\u001b[0;34m:\u001b[0m\u001b[0;34m\u001b[0m\u001b[0;34m\u001b[0m\u001b[0m\n\u001b[0;32m--> 604\u001b[0;31m         \u001b[0my_hat\u001b[0m \u001b[0;34m=\u001b[0m \u001b[0mresampy\u001b[0m\u001b[0;34m.\u001b[0m\u001b[0mresample\u001b[0m\u001b[0;34m(\u001b[0m\u001b[0my\u001b[0m\u001b[0;34m,\u001b[0m \u001b[0morig_sr\u001b[0m\u001b[0;34m,\u001b[0m \u001b[0mtarget_sr\u001b[0m\u001b[0;34m,\u001b[0m \u001b[0mfilter\u001b[0m\u001b[0;34m=\u001b[0m\u001b[0mres_type\u001b[0m\u001b[0;34m,\u001b[0m \u001b[0maxis\u001b[0m\u001b[0;34m=\u001b[0m\u001b[0;34m-\u001b[0m\u001b[0;36m1\u001b[0m\u001b[0;34m)\u001b[0m\u001b[0;34m\u001b[0m\u001b[0;34m\u001b[0m\u001b[0m\n\u001b[0m\u001b[1;32m    605\u001b[0m \u001b[0;34m\u001b[0m\u001b[0m\n\u001b[1;32m    606\u001b[0m     \u001b[0;32mif\u001b[0m \u001b[0mfix\u001b[0m\u001b[0;34m:\u001b[0m\u001b[0;34m\u001b[0m\u001b[0;34m\u001b[0m\u001b[0m\n",
      "\u001b[0;32m~/opt/anaconda3/envs/dsi/lib/python3.8/site-packages/resampy/core.py\u001b[0m in \u001b[0;36mresample\u001b[0;34m(x, sr_orig, sr_new, axis, filter, **kwargs)\u001b[0m\n\u001b[1;32m    118\u001b[0m     \u001b[0mx_2d\u001b[0m \u001b[0;34m=\u001b[0m \u001b[0mx\u001b[0m\u001b[0;34m.\u001b[0m\u001b[0mswapaxes\u001b[0m\u001b[0;34m(\u001b[0m\u001b[0;36m0\u001b[0m\u001b[0;34m,\u001b[0m \u001b[0maxis\u001b[0m\u001b[0;34m)\u001b[0m\u001b[0;34m.\u001b[0m\u001b[0mreshape\u001b[0m\u001b[0;34m(\u001b[0m\u001b[0;34m(\u001b[0m\u001b[0mx\u001b[0m\u001b[0;34m.\u001b[0m\u001b[0mshape\u001b[0m\u001b[0;34m[\u001b[0m\u001b[0maxis\u001b[0m\u001b[0;34m]\u001b[0m\u001b[0;34m,\u001b[0m \u001b[0;34m-\u001b[0m\u001b[0;36m1\u001b[0m\u001b[0;34m)\u001b[0m\u001b[0;34m)\u001b[0m\u001b[0;34m\u001b[0m\u001b[0;34m\u001b[0m\u001b[0m\n\u001b[1;32m    119\u001b[0m     \u001b[0my_2d\u001b[0m \u001b[0;34m=\u001b[0m \u001b[0my\u001b[0m\u001b[0;34m.\u001b[0m\u001b[0mswapaxes\u001b[0m\u001b[0;34m(\u001b[0m\u001b[0;36m0\u001b[0m\u001b[0;34m,\u001b[0m \u001b[0maxis\u001b[0m\u001b[0;34m)\u001b[0m\u001b[0;34m.\u001b[0m\u001b[0mreshape\u001b[0m\u001b[0;34m(\u001b[0m\u001b[0;34m(\u001b[0m\u001b[0my\u001b[0m\u001b[0;34m.\u001b[0m\u001b[0mshape\u001b[0m\u001b[0;34m[\u001b[0m\u001b[0maxis\u001b[0m\u001b[0;34m]\u001b[0m\u001b[0;34m,\u001b[0m \u001b[0;34m-\u001b[0m\u001b[0;36m1\u001b[0m\u001b[0;34m)\u001b[0m\u001b[0;34m)\u001b[0m\u001b[0;34m\u001b[0m\u001b[0;34m\u001b[0m\u001b[0m\n\u001b[0;32m--> 120\u001b[0;31m     \u001b[0mresample_f\u001b[0m\u001b[0;34m(\u001b[0m\u001b[0mx_2d\u001b[0m\u001b[0;34m,\u001b[0m \u001b[0my_2d\u001b[0m\u001b[0;34m,\u001b[0m \u001b[0msample_ratio\u001b[0m\u001b[0;34m,\u001b[0m \u001b[0minterp_win\u001b[0m\u001b[0;34m,\u001b[0m \u001b[0minterp_delta\u001b[0m\u001b[0;34m,\u001b[0m \u001b[0mprecision\u001b[0m\u001b[0;34m)\u001b[0m\u001b[0;34m\u001b[0m\u001b[0;34m\u001b[0m\u001b[0m\n\u001b[0m\u001b[1;32m    121\u001b[0m \u001b[0;34m\u001b[0m\u001b[0m\n\u001b[1;32m    122\u001b[0m     \u001b[0;32mreturn\u001b[0m \u001b[0my\u001b[0m\u001b[0;34m\u001b[0m\u001b[0;34m\u001b[0m\u001b[0m\n",
      "\u001b[0;31mKeyboardInterrupt\u001b[0m: "
     ]
    }
   ],
   "source": [
    "X, y = [], []\n",
    "for file in glob.glob(\"Data/All_Files//*.wav\"):\n",
    "        file_name=os.path.basename(file)\n",
    "        emotion=emotions[file_name.split(\"-\")[2]] + '_' + gender(file_name.split(\"-\")[-1])\n",
    "        feature=extract_feature(file)\n",
    "        X.append(feature)\n",
    "        y.append(emotion)"
   ]
  },
  {
   "cell_type": "code",
   "execution_count": 26,
   "id": "834c8d4e-f566-4e75-9949-a7c25fdaf1ed",
   "metadata": {},
   "outputs": [],
   "source": [
    "X_train, X_test, y_train, y_test = train_test_split(np.array(X), y, test_size=.20, random_state=9)\n",
    "\n",
    "#X_train, X_test, y_train, y_test = load_data()"
   ]
  },
  {
   "cell_type": "code",
   "execution_count": 28,
   "id": "09ab08d5-dfe8-488d-b727-7f7d8875f964",
   "metadata": {},
   "outputs": [
    {
     "data": {
      "text/plain": [
       "array([[-6.24230286e+02,  6.13983917e+01, -4.12491560e+00, ...,\n",
       "         1.61696313e-04,  5.35902072e-05,  2.95203790e-06],\n",
       "       [-6.24230286e+02,  6.13983917e+01, -4.12491560e+00, ...,\n",
       "         1.61696313e-04,  5.35902072e-05,  2.95203790e-06],\n",
       "       [-6.24230286e+02,  6.13983917e+01, -4.12491560e+00, ...,\n",
       "         1.61696313e-04,  5.35902072e-05,  2.95203790e-06],\n",
       "       ...,\n",
       "       [-6.24230286e+02,  6.13983917e+01, -4.12491560e+00, ...,\n",
       "         1.61696313e-04,  5.35902072e-05,  2.95203790e-06],\n",
       "       [-6.24230286e+02,  6.13983917e+01, -4.12491560e+00, ...,\n",
       "         1.61696313e-04,  5.35902072e-05,  2.95203790e-06],\n",
       "       [-6.24230286e+02,  6.13983917e+01, -4.12491560e+00, ...,\n",
       "         1.61696313e-04,  5.35902072e-05,  2.95203790e-06]])"
      ]
     },
     "execution_count": 28,
     "metadata": {},
     "output_type": "execute_result"
    }
   ],
   "source": []
  }
 ],
 "metadata": {
  "kernelspec": {
   "display_name": "Python [conda env:dsi]",
   "language": "python",
   "name": "conda-env-dsi-py"
  },
  "language_info": {
   "codemirror_mode": {
    "name": "ipython",
    "version": 3
   },
   "file_extension": ".py",
   "mimetype": "text/x-python",
   "name": "python",
   "nbconvert_exporter": "python",
   "pygments_lexer": "ipython3",
   "version": "3.8.8"
  }
 },
 "nbformat": 4,
 "nbformat_minor": 5
}
