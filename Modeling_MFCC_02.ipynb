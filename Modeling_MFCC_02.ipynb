{
 "cells": [
  {
   "cell_type": "markdown",
   "metadata": {
    "id": "J6QQ3HPf3itz"
   },
   "source": [
    "<img src=\"http://imgur.com/1ZcRyrc.png\" style=\"float: left; margin: 20px; height: 55px\">\n",
    "\n",
    "# **Capstone Project: Audio Classification Of Emotions**\n",
    "\n",
    "# Modeling on MFCC\n"
   ]
  },
  {
   "cell_type": "code",
   "execution_count": 1,
   "metadata": {
    "colab": {
     "base_uri": "https://localhost:8080/"
    },
    "id": "MJiHH4RU1SDe",
    "outputId": "dc51be12-2e79-46dc-f178-d96df4aee157"
   },
   "outputs": [
    {
     "name": "stdout",
     "output_type": "stream",
     "text": [
      "Drive already mounted at /content/My_Drive/; to attempt to forcibly remount, call drive.mount(\"/content/My_Drive/\", force_remount=True).\n"
     ]
    }
   ],
   "source": [
    "#Mount Drive\n",
    "\n",
    "from google.colab import drive\n",
    "drive.mount('/content/My_Drive/')"
   ]
  },
  {
   "cell_type": "markdown",
   "metadata": {
    "id": "fc3rv51rN-eY"
   },
   "source": [
    "## Imports"
   ]
  },
  {
   "cell_type": "code",
   "execution_count": 2,
   "metadata": {
    "id": "E26fikvM1Soh"
   },
   "outputs": [],
   "source": [
    "#Import basic, plotting libraries\n",
    "import matplotlib.pyplot as plt\n",
    "import pandas as pd\n",
    "import numpy as np\n",
    "import seaborn as sns\n",
    "\n",
    "\n",
    "%matplotlib inline\n",
    "\n",
    "#Import SK-Learn Libraries\n",
    "from sklearn.metrics import confusion_matrix, classification_report\n",
    "from sklearn.model_selection import train_test_split\n",
    "from sklearn.ensemble import RandomForestClassifier as R_Forest\n",
    "from sklearn.tree import DecisionTreeClassifier\n",
    "from sklearn.neighbors import KNeighborsClassifier as KNNClassifier\n",
    "from sklearn import svm\n",
    "from sklearn.preprocessing import LabelEncoder, StandardScaler, RobustScaler\n",
    "\n",
    "#Import Keras Layers\n",
    "import keras\n",
    "from keras import layers\n",
    "from keras import models\n",
    "from keras.layers import GlobalAveragePooling1D, Dense, MaxPooling1D, Conv1D, Flatten, Dropout\n",
    "from keras.models import Sequential\n",
    "from keras.layers.core import Activation, Dense \n",
    "from keras.layers import BatchNormalization\n",
    "from tensorflow.keras.optimizers import RMSprop\n",
    "from keras.layers import GaussianNoise\n"
   ]
  },
  {
   "cell_type": "markdown",
   "metadata": {
    "id": "8oO4mxwhNFhF"
   },
   "source": [
    "## Functions"
   ]
  },
  {
   "cell_type": "code",
   "execution_count": 3,
   "metadata": {
    "id": "4TI15bRKCYf9"
   },
   "outputs": [],
   "source": [
    "def cf_matrix(y_preds, y_test):\n",
    "  '''This function creates a confusion matrix on our data'''\n",
    "  \n",
    "  cf_matrix = confusion_matrix(y_preds, y_test)\n",
    "  labels = ['Angry', 'Calm', 'Disgust', 'Fearful', 'Happy', 'Neutral', 'Sad', 'Suprised']\n",
    "  fig, ax = plt.subplots(figsize=(15,10)) \n",
    "  sns.heatmap(cf_matrix, linewidths=1, annot=True, ax=ax, fmt='g', cmap=\"OrRd\")\n",
    "  ax.set_xlabel('Predicted labels');ax.set_ylabel('True labels')\n",
    "  ax.set_title('Confusion Matrix')\n",
    "  ax.xaxis.set_ticklabels(labels); ax.yaxis.set_ticklabels(labels);"
   ]
  },
  {
   "cell_type": "code",
   "execution_count": 4,
   "metadata": {
    "id": "trzzaYzA2RxR"
   },
   "outputs": [],
   "source": [
    "#Set a random seed for reproducibility.\n",
    "np.random.seed(42)"
   ]
  },
  {
   "cell_type": "code",
   "execution_count": 5,
   "metadata": {
    "id": "OseSlgnO2cIg"
   },
   "outputs": [],
   "source": [
    "#Read_CSV\n",
    "df = pd.read_csv('MFCC_Data.csv')"
   ]
  },
  {
   "cell_type": "code",
   "execution_count": 6,
   "metadata": {
    "colab": {
     "base_uri": "https://localhost:8080/",
     "height": 233
    },
    "id": "q9_PMagDfalQ",
    "outputId": "adf2ca6d-cfcd-48a5-fe76-84a9b6d41085"
   },
   "outputs": [
    {
     "data": {
      "text/html": [
       "<div>\n",
       "<style scoped>\n",
       "    .dataframe tbody tr th:only-of-type {\n",
       "        vertical-align: middle;\n",
       "    }\n",
       "\n",
       "    .dataframe tbody tr th {\n",
       "        vertical-align: top;\n",
       "    }\n",
       "\n",
       "    .dataframe thead th {\n",
       "        text-align: right;\n",
       "    }\n",
       "</style>\n",
       "<table border=\"1\" class=\"dataframe\">\n",
       "  <thead>\n",
       "    <tr style=\"text-align: right;\">\n",
       "      <th></th>\n",
       "      <th>path</th>\n",
       "      <th>actor</th>\n",
       "      <th>emotion_id</th>\n",
       "      <th>intensity</th>\n",
       "      <th>stated_text</th>\n",
       "      <th>gender</th>\n",
       "      <th>source</th>\n",
       "      <th>emotion</th>\n",
       "      <th>label</th>\n",
       "      <th>encoded_label</th>\n",
       "      <th>0</th>\n",
       "      <th>1</th>\n",
       "      <th>2</th>\n",
       "      <th>3</th>\n",
       "      <th>4</th>\n",
       "      <th>5</th>\n",
       "      <th>6</th>\n",
       "      <th>7</th>\n",
       "      <th>8</th>\n",
       "      <th>9</th>\n",
       "      <th>10</th>\n",
       "      <th>11</th>\n",
       "      <th>12</th>\n",
       "      <th>13</th>\n",
       "      <th>14</th>\n",
       "      <th>15</th>\n",
       "      <th>16</th>\n",
       "      <th>17</th>\n",
       "      <th>18</th>\n",
       "      <th>19</th>\n",
       "      <th>20</th>\n",
       "      <th>21</th>\n",
       "      <th>22</th>\n",
       "      <th>23</th>\n",
       "      <th>24</th>\n",
       "      <th>25</th>\n",
       "      <th>26</th>\n",
       "      <th>27</th>\n",
       "      <th>28</th>\n",
       "      <th>29</th>\n",
       "      <th>30</th>\n",
       "      <th>31</th>\n",
       "      <th>32</th>\n",
       "      <th>33</th>\n",
       "      <th>34</th>\n",
       "      <th>35</th>\n",
       "      <th>36</th>\n",
       "      <th>37</th>\n",
       "      <th>38</th>\n",
       "      <th>39</th>\n",
       "    </tr>\n",
       "  </thead>\n",
       "  <tbody>\n",
       "    <tr>\n",
       "      <th>0</th>\n",
       "      <td>03-01-05-01-02-01-16.wav</td>\n",
       "      <td>16</td>\n",
       "      <td>5</td>\n",
       "      <td>Normal</td>\n",
       "      <td>Dogs are sitting by the door</td>\n",
       "      <td>Female</td>\n",
       "      <td>RAVDESS</td>\n",
       "      <td>Angry</td>\n",
       "      <td>Angry</td>\n",
       "      <td>0</td>\n",
       "      <td>-493.219055</td>\n",
       "      <td>49.73700</td>\n",
       "      <td>-10.452538</td>\n",
       "      <td>9.418360</td>\n",
       "      <td>-18.108517</td>\n",
       "      <td>-2.562056</td>\n",
       "      <td>-15.887474</td>\n",
       "      <td>-10.313912</td>\n",
       "      <td>-19.508406</td>\n",
       "      <td>2.387971</td>\n",
       "      <td>-13.172427</td>\n",
       "      <td>-4.483107</td>\n",
       "      <td>-7.110461</td>\n",
       "      <td>-4.474319</td>\n",
       "      <td>-10.150778</td>\n",
       "      <td>-4.960736</td>\n",
       "      <td>-4.617444</td>\n",
       "      <td>-7.545546</td>\n",
       "      <td>-8.921757</td>\n",
       "      <td>-2.188476</td>\n",
       "      <td>-6.765614</td>\n",
       "      <td>0.304586</td>\n",
       "      <td>-3.479743</td>\n",
       "      <td>0.658508</td>\n",
       "      <td>-4.971695</td>\n",
       "      <td>-1.568901</td>\n",
       "      <td>-1.941403</td>\n",
       "      <td>-2.932507</td>\n",
       "      <td>2.131908</td>\n",
       "      <td>4.724022</td>\n",
       "      <td>5.060043</td>\n",
       "      <td>4.515399</td>\n",
       "      <td>-0.391671</td>\n",
       "      <td>0.927307</td>\n",
       "      <td>0.080814</td>\n",
       "      <td>3.378861</td>\n",
       "      <td>1.079824</td>\n",
       "      <td>2.299387</td>\n",
       "      <td>-0.806499</td>\n",
       "      <td>2.516651</td>\n",
       "    </tr>\n",
       "    <tr>\n",
       "      <th>1</th>\n",
       "      <td>03-01-06-01-02-02-16.wav</td>\n",
       "      <td>16</td>\n",
       "      <td>6</td>\n",
       "      <td>Normal</td>\n",
       "      <td>Dogs are sitting by the door</td>\n",
       "      <td>Female</td>\n",
       "      <td>RAVDESS</td>\n",
       "      <td>Fearful</td>\n",
       "      <td>Fearful</td>\n",
       "      <td>3</td>\n",
       "      <td>-524.782166</td>\n",
       "      <td>48.70853</td>\n",
       "      <td>-11.586839</td>\n",
       "      <td>9.986774</td>\n",
       "      <td>-6.686351</td>\n",
       "      <td>-6.897908</td>\n",
       "      <td>-21.218477</td>\n",
       "      <td>-13.014283</td>\n",
       "      <td>-13.422829</td>\n",
       "      <td>4.108604</td>\n",
       "      <td>-17.836227</td>\n",
       "      <td>-6.692956</td>\n",
       "      <td>-0.580142</td>\n",
       "      <td>-5.878499</td>\n",
       "      <td>-8.971943</td>\n",
       "      <td>-3.641211</td>\n",
       "      <td>-7.910971</td>\n",
       "      <td>-2.756809</td>\n",
       "      <td>-5.727985</td>\n",
       "      <td>-4.638661</td>\n",
       "      <td>-0.558540</td>\n",
       "      <td>1.017308</td>\n",
       "      <td>2.308388</td>\n",
       "      <td>4.668447</td>\n",
       "      <td>1.556933</td>\n",
       "      <td>6.395074</td>\n",
       "      <td>0.865194</td>\n",
       "      <td>1.460632</td>\n",
       "      <td>0.454776</td>\n",
       "      <td>-1.013651</td>\n",
       "      <td>0.145559</td>\n",
       "      <td>0.042050</td>\n",
       "      <td>-0.788098</td>\n",
       "      <td>0.209579</td>\n",
       "      <td>-0.648037</td>\n",
       "      <td>0.825450</td>\n",
       "      <td>0.246961</td>\n",
       "      <td>1.108818</td>\n",
       "      <td>0.153405</td>\n",
       "      <td>0.344702</td>\n",
       "    </tr>\n",
       "  </tbody>\n",
       "</table>\n",
       "</div>"
      ],
      "text/plain": [
       "                       path  actor  emotion_id  ...        37        38        39\n",
       "0  03-01-05-01-02-01-16.wav     16           5  ...  2.299387 -0.806499  2.516651\n",
       "1  03-01-06-01-02-02-16.wav     16           6  ...  1.108818  0.153405  0.344702\n",
       "\n",
       "[2 rows x 50 columns]"
      ]
     },
     "execution_count": 6,
     "metadata": {},
     "output_type": "execute_result"
    }
   ],
   "source": [
    "#Encoded Labels\n",
    "levels = ['Angry', 'Calm', 'Disgust', 'Fearful', 'Happy', 'Neutral', 'Sad', 'Suprised']\n",
    "\n",
    "#Show dataframe\n",
    "df.head(2)\n",
    "\n"
   ]
  },
  {
   "cell_type": "code",
   "execution_count": 7,
   "metadata": {
    "id": "CuOFromjFcpM"
   },
   "outputs": [],
   "source": [
    "le = LabelEncoder()\n",
    "df['encoded_label']= le.fit_transform(df['label'])"
   ]
  },
  {
   "cell_type": "code",
   "execution_count": 8,
   "metadata": {
    "colab": {
     "base_uri": "https://localhost:8080/"
    },
    "id": "ag6mekZB2jpH",
    "outputId": "3d18650f-6cbc-47b7-86d1-eca1179c9995"
   },
   "outputs": [
    {
     "name": "stdout",
     "output_type": "stream",
     "text": [
      "(1440, 40)\n",
      "(1440,)\n"
     ]
    }
   ],
   "source": [
    "#Select X and y features\n",
    "X = df.iloc[:, 10:].values\n",
    "y = df['encoded_label'].values\n",
    "\n",
    "print(X.shape)\n",
    "print(y.shape)"
   ]
  },
  {
   "cell_type": "code",
   "execution_count": 9,
   "metadata": {
    "colab": {
     "base_uri": "https://localhost:8080/"
    },
    "id": "f80bnKjhtSDP",
    "outputId": "4735858a-e0ee-4252-80f1-c29a9c94c40d"
   },
   "outputs": [
    {
     "data": {
      "text/plain": [
       "((1440, 40), (1440,))"
      ]
     },
     "execution_count": 9,
     "metadata": {},
     "output_type": "execute_result"
    }
   ],
   "source": [
    "#Add as array\n",
    "X = np.asarray(X)\n",
    "y = np.asarray(y)\n",
    "\n",
    "\n",
    "X.shape, y.shape"
   ]
  },
  {
   "cell_type": "code",
   "execution_count": 10,
   "metadata": {
    "colab": {
     "base_uri": "https://localhost:8080/"
    },
    "id": "4w5QIZLzv_Dn",
    "outputId": "841f1fc1-21cd-405c-c28d-3d4f76c0ebb3"
   },
   "outputs": [
    {
     "data": {
      "text/plain": [
       "((1080, 40), (1080,), (360, 40), (360,))"
      ]
     },
     "execution_count": 10,
     "metadata": {},
     "output_type": "execute_result"
    }
   ],
   "source": [
    "#Create train-test split\n",
    "X_train, X_test, y_train, y_test = train_test_split(X, y, random_state=42, shuffle = True)\n",
    "\n",
    "X_train.shape, y_train.shape, X_test.shape, y_test.shape"
   ]
  },
  {
   "cell_type": "code",
   "execution_count": 11,
   "metadata": {
    "id": "roHJSSx1f_fA"
   },
   "outputs": [],
   "source": [
    "#Scale X_training Data\n",
    "sc = StandardScaler()\n",
    "\n",
    "X_train_sc = sc.fit_transform(X_train)\n",
    "X_test_sc = sc.transform(X_test)"
   ]
  },
  {
   "cell_type": "code",
   "execution_count": 12,
   "metadata": {
    "colab": {
     "base_uri": "https://localhost:8080/"
    },
    "id": "g8kffn-GYjON",
    "outputId": "647a5ec8-c930-436d-b878-34bee99b72cb"
   },
   "outputs": [
    {
     "data": {
      "text/plain": [
       "((1080, 40, 1), (360, 40, 1))"
      ]
     },
     "execution_count": 12,
     "metadata": {},
     "output_type": "execute_result"
    }
   ],
   "source": [
    "#Expand dimensions for nueral net\n",
    "X_train_sc_1 = np.expand_dims(X_train_sc, axis=2)\n",
    "X_test_sc_1 = np.expand_dims(X_test_sc, axis=2)\n",
    "\n",
    "X_train_sc_1.shape, X_test_sc_1.shape"
   ]
  },
  {
   "cell_type": "markdown",
   "metadata": {
    "id": "CrvvZhATOl3K"
   },
   "source": [
    "## Models"
   ]
  },
  {
   "cell_type": "code",
   "execution_count": 13,
   "metadata": {
    "id": "CPGMgVXa8Oxe"
   },
   "outputs": [],
   "source": [
    "SVM = svm.SVC()"
   ]
  },
  {
   "cell_type": "code",
   "execution_count": 14,
   "metadata": {
    "colab": {
     "base_uri": "https://localhost:8080/"
    },
    "id": "MOiWyoaJ8Oz0",
    "outputId": "3eed9fe9-8833-4052-bed5-067e25b1911e"
   },
   "outputs": [
    {
     "data": {
      "text/plain": [
       "SVC(C=1.0, break_ties=False, cache_size=200, class_weight=None, coef0=0.0,\n",
       "    decision_function_shape='ovr', degree=3, gamma='scale', kernel='rbf',\n",
       "    max_iter=-1, probability=False, random_state=None, shrinking=True,\n",
       "    tol=0.001, verbose=False)"
      ]
     },
     "execution_count": 14,
     "metadata": {},
     "output_type": "execute_result"
    }
   ],
   "source": [
    "SVM.fit(X_train_sc, y_train)"
   ]
  },
  {
   "cell_type": "code",
   "execution_count": 15,
   "metadata": {
    "id": "lFP7ib6fPB_4"
   },
   "outputs": [],
   "source": [
    "y_predSVM = SVM.predict(X_test_sc)"
   ]
  },
  {
   "cell_type": "code",
   "execution_count": 16,
   "metadata": {
    "colab": {
     "base_uri": "https://localhost:8080/"
    },
    "id": "V6inuKSK7iEu",
    "outputId": "148c186e-85ef-4632-c8ec-d795099ca8c3"
   },
   "outputs": [
    {
     "name": "stdout",
     "output_type": "stream",
     "text": [
      "              precision    recall  f1-score   support\n",
      "\n",
      "       Angry       0.83      0.71      0.76        48\n",
      "        Calm       0.65      0.82      0.72        51\n",
      "     Disgust       0.62      0.62      0.62        48\n",
      "     Fearful       0.67      0.66      0.67        47\n",
      "       Happy       0.65      0.45      0.53        49\n",
      "     Neutral       0.33      0.04      0.07        26\n",
      "         Sad       0.43      0.63      0.51        41\n",
      "    Suprised       0.65      0.80      0.71        50\n",
      "\n",
      "    accuracy                           0.63       360\n",
      "   macro avg       0.60      0.59      0.58       360\n",
      "weighted avg       0.62      0.63      0.61       360\n",
      "\n"
     ]
    }
   ],
   "source": [
    "print(classification_report(y_test,y_predSVM,target_names=levels))"
   ]
  },
  {
   "cell_type": "code",
   "execution_count": 17,
   "metadata": {
    "colab": {
     "base_uri": "https://localhost:8080/",
     "height": 621
    },
    "id": "CKRWa5dZWdG1",
    "outputId": "826d44d8-bb82-4a63-89b5-8de91e7bd2ab"
   },
   "outputs": [
    {
     "data": {
      "image/png": "[encoded data removed]",
      "text/plain": [
       "<Figure size 1080x720 with 2 Axes>"
      ]
     },
     "metadata": {
      "needs_background": "light"
     },
     "output_type": "display_data"
    }
   ],
   "source": [
    "cf_matrix(y_predSVM,y_test)"
   ]
  },
  {
   "cell_type": "markdown",
   "metadata": {
    "id": "MXBShlkV68si"
   },
   "source": [
    "#### K-Nearest Neighbors"
   ]
  },
  {
   "cell_type": "code",
   "execution_count": 18,
   "metadata": {
    "colab": {
     "base_uri": "https://localhost:8080/"
    },
    "id": "c5rN2zhg67M3",
    "outputId": "19cefda8-6f61-4068-fa94-9645cfcaf203"
   },
   "outputs": [
    {
     "data": {
      "text/plain": [
       "KNeighborsClassifier(algorithm='auto', leaf_size=30, metric='minkowski',\n",
       "                     metric_params=None, n_jobs=None, n_neighbors=5, p=2,\n",
       "                     weights='uniform')"
      ]
     },
     "execution_count": 18,
     "metadata": {},
     "output_type": "execute_result"
    }
   ],
   "source": [
    "clf = KNNClassifier()\n",
    "clf.fit(X_train_sc, y_train)"
   ]
  },
  {
   "cell_type": "code",
   "execution_count": 19,
   "metadata": {
    "id": "Usqz4RRV67Py"
   },
   "outputs": [],
   "source": [
    "y_predKNN = clf.predict(X_test_sc)"
   ]
  },
  {
   "cell_type": "code",
   "execution_count": 20,
   "metadata": {
    "colab": {
     "base_uri": "https://localhost:8080/"
    },
    "id": "Ya0O7syD67Sv",
    "outputId": "7a4b0a8a-ee50-48a5-c5d6-fe693dcf0c92"
   },
   "outputs": [
    {
     "name": "stdout",
     "output_type": "stream",
     "text": [
      "              precision    recall  f1-score   support\n",
      "\n",
      "       Angry       0.61      0.58      0.60        48\n",
      "        Calm       0.63      0.90      0.74        51\n",
      "     Disgust       0.65      0.58      0.62        48\n",
      "     Fearful       0.48      0.53      0.51        47\n",
      "       Happy       0.47      0.37      0.41        49\n",
      "     Neutral       0.50      0.35      0.41        26\n",
      "         Sad       0.50      0.29      0.37        41\n",
      "    Suprised       0.62      0.82      0.71        50\n",
      "\n",
      "    accuracy                           0.57       360\n",
      "   macro avg       0.56      0.55      0.54       360\n",
      "weighted avg       0.56      0.57      0.56       360\n",
      "\n"
     ]
    }
   ],
   "source": [
    "print(classification_report(y_test,y_predKNN,target_names=levels))"
   ]
  },
  {
   "cell_type": "code",
   "execution_count": 21,
   "metadata": {
    "colab": {
     "base_uri": "https://localhost:8080/",
     "height": 621
    },
    "id": "5BbbwDQTWpTY",
    "outputId": "bdc25db0-b7a8-4e18-8081-765b3bd6f189"
   },
   "outputs": [
    {
     "data": {
      "image/png": "[encoded data removed]",
      "text/plain": [
       "<Figure size 1080x720 with 2 Axes>"
      ]
     },
     "metadata": {
      "needs_background": "light"
     },
     "output_type": "display_data"
    }
   ],
   "source": [
    "cf_matrix(y_predKNN,y_test)"
   ]
  },
  {
   "cell_type": "markdown",
   "metadata": {
    "id": "eEP1vPEZ9fi3"
   },
   "source": [
    "#### Random Forest Classifier"
   ]
  },
  {
   "cell_type": "code",
   "execution_count": 22,
   "metadata": {
    "id": "VbCxZIFu9SF9"
   },
   "outputs": [],
   "source": [
    "rforest = R_Forest(criterion=\"gini\", \n",
    "                   max_depth=5, \n",
    "                   max_features=\"log2\",  \n",
    "                   min_samples_leaf = 3, \n",
    "                   min_samples_split = 20, \n",
    "                   n_estimators= 22000, \n",
    "                   )"
   ]
  },
  {
   "cell_type": "code",
   "execution_count": 23,
   "metadata": {
    "colab": {
     "base_uri": "https://localhost:8080/"
    },
    "id": "UcRdc9SN9SQz",
    "outputId": "2fd97335-9fda-4be7-80a0-c30614e1a1d0"
   },
   "outputs": [
    {
     "data": {
      "text/plain": [
       "RandomForestClassifier(bootstrap=True, ccp_alpha=0.0, class_weight=None,\n",
       "                       criterion='gini', max_depth=5, max_features='log2',\n",
       "                       max_leaf_nodes=None, max_samples=None,\n",
       "                       min_impurity_decrease=0.0, min_impurity_split=None,\n",
       "                       min_samples_leaf=3, min_samples_split=20,\n",
       "                       min_weight_fraction_leaf=0.0, n_estimators=22000,\n",
       "                       n_jobs=None, oob_score=False, random_state=None,\n",
       "                       verbose=0, warm_start=False)"
      ]
     },
     "execution_count": 23,
     "metadata": {},
     "output_type": "execute_result"
    }
   ],
   "source": [
    "#Fit Random forest\n",
    "rforest.fit(X_train_sc, y_train)"
   ]
  },
  {
   "cell_type": "code",
   "execution_count": 24,
   "metadata": {
    "id": "fnhVDCYC9pZ5"
   },
   "outputs": [],
   "source": [
    "#Get predictions\n",
    "y_pred = rforest.predict(X_test_sc)\n"
   ]
  },
  {
   "cell_type": "code",
   "execution_count": 25,
   "metadata": {
    "colab": {
     "base_uri": "https://localhost:8080/"
    },
    "id": "7SOAPuSL9uB5",
    "outputId": "e80bf999-d771-46ed-cec0-6e17f305a62a"
   },
   "outputs": [
    {
     "name": "stdout",
     "output_type": "stream",
     "text": [
      "              precision    recall  f1-score   support\n",
      "\n",
      "       Angry       0.60      0.58      0.59        48\n",
      "        Calm       0.51      0.90      0.65        51\n",
      "     Disgust       0.46      0.48      0.47        48\n",
      "     Fearful       0.67      0.51      0.58        47\n",
      "       Happy       0.50      0.27      0.35        49\n",
      "     Neutral       0.00      0.00      0.00        26\n",
      "         Sad       0.25      0.32      0.28        41\n",
      "    Suprised       0.47      0.54      0.50        50\n",
      "\n",
      "    accuracy                           0.48       360\n",
      "   macro avg       0.43      0.45      0.43       360\n",
      "weighted avg       0.46      0.48      0.46       360\n",
      "\n"
     ]
    },
    {
     "name": "stderr",
     "output_type": "stream",
     "text": [
      "/usr/local/lib/python3.7/dist-packages/sklearn/metrics/_classification.py:1272: UndefinedMetricWarning: Precision and F-score are ill-defined and being set to 0.0 in labels with no predicted samples. Use `zero_division` parameter to control this behavior.\n",
      "  _warn_prf(average, modifier, msg_start, len(result))\n"
     ]
    }
   ],
   "source": [
    "#Print classification report\n",
    "print(classification_report(y_test,y_pred,target_names=levels))"
   ]
  },
  {
   "cell_type": "code",
   "execution_count": 26,
   "metadata": {
    "colab": {
     "base_uri": "https://localhost:8080/",
     "height": 621
    },
    "id": "MqrjMpCONtdZ",
    "outputId": "bf78fc02-80a8-4a18-bff3-2cb38d504767"
   },
   "outputs": [
    {
     "data": {
      "image/png": "[encoded data removed]",
      "text/plain": [
       "<Figure size 1080x720 with 2 Axes>"
      ]
     },
     "metadata": {
      "needs_background": "light"
     },
     "output_type": "display_data"
    }
   ],
   "source": [
    "#Plot confusion matrix\n",
    "cf_matrix(y_pred,y_test)"
   ]
  },
  {
   "cell_type": "markdown",
   "metadata": {
    "id": "MGTasf-O9kzS"
   },
   "source": [
    "#### Decision Tree Classifier\n"
   ]
  },
  {
   "cell_type": "code",
   "execution_count": 27,
   "metadata": {
    "id": "6LBP_bQtt2vh"
   },
   "outputs": [],
   "source": [
    "#Instantiate decision tree \n",
    "dtree = DecisionTreeClassifier()"
   ]
  },
  {
   "cell_type": "code",
   "execution_count": 28,
   "metadata": {
    "colab": {
     "base_uri": "https://localhost:8080/"
    },
    "id": "vahlWBeot2yB",
    "outputId": "9c998d3c-0ac4-4933-d8c3-ad11e4495846"
   },
   "outputs": [
    {
     "data": {
      "text/plain": [
       "DecisionTreeClassifier(ccp_alpha=0.0, class_weight=None, criterion='gini',\n",
       "                       max_depth=None, max_features=None, max_leaf_nodes=None,\n",
       "                       min_impurity_decrease=0.0, min_impurity_split=None,\n",
       "                       min_samples_leaf=1, min_samples_split=2,\n",
       "                       min_weight_fraction_leaf=0.0, presort='deprecated',\n",
       "                       random_state=None, splitter='best')"
      ]
     },
     "execution_count": 28,
     "metadata": {},
     "output_type": "execute_result"
    }
   ],
   "source": [
    "#Fit decision tree\n",
    "dtree.fit(X_train_sc, y_train)"
   ]
  },
  {
   "cell_type": "code",
   "execution_count": 29,
   "metadata": {
    "id": "rgCRqDQAuBlV"
   },
   "outputs": [],
   "source": [
    "#Predict data\n",
    "y_preds = dtree.predict(X_test_sc)\n",
    "\n"
   ]
  },
  {
   "cell_type": "code",
   "execution_count": 30,
   "metadata": {
    "colab": {
     "base_uri": "https://localhost:8080/"
    },
    "id": "e7FQBAVct22R",
    "outputId": "19d1fea4-2a64-470b-e9b1-e5d5bacd9e80"
   },
   "outputs": [
    {
     "name": "stdout",
     "output_type": "stream",
     "text": [
      "              precision    recall  f1-score   support\n",
      "\n",
      "       Angry       0.57      0.56      0.57        48\n",
      "        Calm       0.47      0.45      0.46        51\n",
      "     Disgust       0.35      0.38      0.36        48\n",
      "     Fearful       0.45      0.47      0.46        47\n",
      "       Happy       0.45      0.35      0.39        49\n",
      "     Neutral       0.30      0.31      0.30        26\n",
      "         Sad       0.29      0.34      0.31        41\n",
      "    Suprised       0.41      0.40      0.40        50\n",
      "\n",
      "    accuracy                           0.41       360\n",
      "   macro avg       0.41      0.41      0.41       360\n",
      "weighted avg       0.42      0.41      0.42       360\n",
      "\n"
     ]
    }
   ],
   "source": [
    "#Print classification report\n",
    "print(classification_report(y_test,y_preds,target_names=levels))"
   ]
  },
  {
   "cell_type": "code",
   "execution_count": 31,
   "metadata": {
    "colab": {
     "base_uri": "https://localhost:8080/",
     "height": 621
    },
    "id": "Q4rtehybN0f6",
    "outputId": "bc877a94-0f66-405c-bf11-92e0af4271f1"
   },
   "outputs": [
    {
     "data": {
      "image/png": "[encoded data removed]",
      "text/plain": [
       "<Figure size 1080x720 with 2 Axes>"
      ]
     },
     "metadata": {
      "needs_background": "light"
     },
     "output_type": "display_data"
    }
   ],
   "source": [
    "#Plot confusion matrix\n",
    "cf_matrix(y_preds,y_test)"
   ]
  },
  {
   "cell_type": "markdown",
   "metadata": {
    "id": "N22iaZwz9x54"
   },
   "source": [
    "#### Convolutional Nueral Net (CNN)"
   ]
  },
  {
   "cell_type": "code",
   "execution_count": 32,
   "metadata": {
    "colab": {
     "base_uri": "https://localhost:8080/"
    },
    "id": "AswiqOVD3hLP",
    "outputId": "a79a0963-fd3e-48da-bb54-789247a8a780"
   },
   "outputs": [
    {
     "name": "stdout",
     "output_type": "stream",
     "text": [
      "Model: \"sequential\"\n",
      "_________________________________________________________________\n",
      "Layer (type)                 Output Shape              Param #   \n",
      "=================================================================\n",
      "conv1d (Conv1D)              (None, 36, 264)           1584      \n",
      "_________________________________________________________________\n",
      "dropout (Dropout)            (None, 36, 264)           0         \n",
      "_________________________________________________________________\n",
      "max_pooling1d (MaxPooling1D) (None, 16, 264)           0         \n",
      "_________________________________________________________________\n",
      "gaussian_noise (GaussianNois (None, 16, 264)           0         \n",
      "_________________________________________________________________\n",
      "conv1d_1 (Conv1D)            (None, 12, 128)           169088    \n",
      "_________________________________________________________________\n",
      "dropout_1 (Dropout)          (None, 12, 128)           0         \n",
      "_________________________________________________________________\n",
      "flatten (Flatten)            (None, 1536)              0         \n",
      "_________________________________________________________________\n",
      "dense (Dense)                (None, 64)                98368     \n",
      "_________________________________________________________________\n",
      "dense_1 (Dense)              (None, 8)                 520       \n",
      "=================================================================\n",
      "Total params: 269,560\n",
      "Trainable params: 269,560\n",
      "Non-trainable params: 0\n",
      "_________________________________________________________________\n"
     ]
    }
   ],
   "source": [
    "#Develop model\n",
    "model = models.Sequential()\n",
    "model.add(Conv1D(264, kernel_size=5, strides=1,  activation='relu', input_shape=(X_train.shape[1], 1)))\n",
    "model.add(Dropout(0.2))\n",
    "model.add(MaxPooling1D(pool_size=5, strides = 2))\n",
    "model.add(GaussianNoise(0.1))\n",
    "model.add(Conv1D(128, kernel_size=5, strides=1, activation='relu'))\n",
    "model.add(Dropout(0.2))\n",
    "model.add(layers.Flatten())\n",
    "model.add(layers.Dense(64, activation='relu'))\n",
    "model.add(layers.Dense(8, activation='softmax'))\n",
    "\n",
    "\n",
    " # Select loss function and optimizer\n",
    "model.compile(loss='sparse_categorical_crossentropy', \n",
    "              optimizer='adam', \n",
    "              metrics=['accuracy'])\n",
    "\n",
    "model.summary()"
   ]
  },
  {
   "cell_type": "code",
   "execution_count": 33,
   "metadata": {
    "colab": {
     "base_uri": "https://localhost:8080/"
    },
    "id": "vjud8R_6dKg_",
    "outputId": "f78e2615-9f24-4f72-c850-3add98d7f9f9"
   },
   "outputs": [
    {
     "name": "stdout",
     "output_type": "stream",
     "text": [
      "Epoch 1/60\n",
      "72/72 [==============================] - 2s 24ms/step - loss: 2.0046 - accuracy: 0.1935 - val_loss: 1.9231 - val_accuracy: 0.2583\n",
      "Epoch 2/60\n",
      "72/72 [==============================] - 2s 21ms/step - loss: 1.9126 - accuracy: 0.2333 - val_loss: 1.8600 - val_accuracy: 0.2694\n",
      "Epoch 3/60\n",
      "72/72 [==============================] - 2s 21ms/step - loss: 1.8628 - accuracy: 0.2704 - val_loss: 1.8197 - val_accuracy: 0.3278\n",
      "Epoch 4/60\n",
      "72/72 [==============================] - 2s 21ms/step - loss: 1.8172 - accuracy: 0.2926 - val_loss: 1.7842 - val_accuracy: 0.3500\n",
      "Epoch 5/60\n",
      "72/72 [==============================] - 2s 21ms/step - loss: 1.7585 - accuracy: 0.3176 - val_loss: 1.7603 - val_accuracy: 0.3250\n",
      "Epoch 6/60\n",
      "72/72 [==============================] - 1s 21ms/step - loss: 1.7095 - accuracy: 0.3481 - val_loss: 1.7219 - val_accuracy: 0.3722\n",
      "Epoch 7/60\n",
      "72/72 [==============================] - 2s 21ms/step - loss: 1.6504 - accuracy: 0.3713 - val_loss: 1.6529 - val_accuracy: 0.4083\n",
      "Epoch 8/60\n",
      "72/72 [==============================] - 2s 21ms/step - loss: 1.5869 - accuracy: 0.4093 - val_loss: 1.5361 - val_accuracy: 0.4611\n",
      "Epoch 9/60\n",
      "72/72 [==============================] - 2s 21ms/step - loss: 1.5029 - accuracy: 0.4435 - val_loss: 1.4898 - val_accuracy: 0.4778\n",
      "Epoch 10/60\n",
      "72/72 [==============================] - 2s 21ms/step - loss: 1.4184 - accuracy: 0.4565 - val_loss: 1.4591 - val_accuracy: 0.4778\n",
      "Epoch 11/60\n",
      "72/72 [==============================] - 2s 21ms/step - loss: 1.3707 - accuracy: 0.4722 - val_loss: 1.4118 - val_accuracy: 0.5139\n",
      "Epoch 12/60\n",
      "72/72 [==============================] - 2s 21ms/step - loss: 1.2952 - accuracy: 0.5130 - val_loss: 1.4004 - val_accuracy: 0.5167\n",
      "Epoch 13/60\n",
      "72/72 [==============================] - 2s 21ms/step - loss: 1.2242 - accuracy: 0.5417 - val_loss: 1.3790 - val_accuracy: 0.5250\n",
      "Epoch 14/60\n",
      "72/72 [==============================] - 2s 21ms/step - loss: 1.1556 - accuracy: 0.5685 - val_loss: 1.2885 - val_accuracy: 0.5611\n",
      "Epoch 15/60\n",
      "72/72 [==============================] - 2s 21ms/step - loss: 1.0757 - accuracy: 0.6028 - val_loss: 1.3485 - val_accuracy: 0.5306\n",
      "Epoch 16/60\n",
      "72/72 [==============================] - 2s 21ms/step - loss: 1.0453 - accuracy: 0.6306 - val_loss: 1.2765 - val_accuracy: 0.5778\n",
      "Epoch 17/60\n",
      "72/72 [==============================] - 2s 21ms/step - loss: 0.9328 - accuracy: 0.6593 - val_loss: 1.2382 - val_accuracy: 0.5806\n",
      "Epoch 18/60\n",
      "72/72 [==============================] - 2s 21ms/step - loss: 0.8908 - accuracy: 0.6648 - val_loss: 1.2494 - val_accuracy: 0.5861\n",
      "Epoch 19/60\n",
      "72/72 [==============================] - 2s 21ms/step - loss: 0.7986 - accuracy: 0.7231 - val_loss: 1.2247 - val_accuracy: 0.6139\n",
      "Epoch 20/60\n",
      "72/72 [==============================] - 2s 21ms/step - loss: 0.7445 - accuracy: 0.7231 - val_loss: 1.2431 - val_accuracy: 0.6167\n",
      "Epoch 21/60\n",
      "72/72 [==============================] - 2s 21ms/step - loss: 0.7257 - accuracy: 0.7352 - val_loss: 1.2120 - val_accuracy: 0.6028\n",
      "Epoch 22/60\n",
      "72/72 [==============================] - 2s 21ms/step - loss: 0.6561 - accuracy: 0.7593 - val_loss: 1.2200 - val_accuracy: 0.6139\n",
      "Epoch 23/60\n",
      "72/72 [==============================] - 2s 21ms/step - loss: 0.5836 - accuracy: 0.8019 - val_loss: 1.1876 - val_accuracy: 0.6361\n",
      "Epoch 24/60\n",
      "72/72 [==============================] - 2s 21ms/step - loss: 0.5359 - accuracy: 0.7972 - val_loss: 1.2204 - val_accuracy: 0.6111\n",
      "Epoch 25/60\n",
      "72/72 [==============================] - 2s 21ms/step - loss: 0.5072 - accuracy: 0.8204 - val_loss: 1.1583 - val_accuracy: 0.6333\n",
      "Epoch 26/60\n",
      "72/72 [==============================] - 2s 21ms/step - loss: 0.4700 - accuracy: 0.8556 - val_loss: 1.2810 - val_accuracy: 0.5944\n",
      "Epoch 27/60\n",
      "72/72 [==============================] - 2s 22ms/step - loss: 0.4265 - accuracy: 0.8537 - val_loss: 1.2513 - val_accuracy: 0.6333\n",
      "Epoch 28/60\n",
      "72/72 [==============================] - 2s 21ms/step - loss: 0.4121 - accuracy: 0.8657 - val_loss: 1.2490 - val_accuracy: 0.6417\n",
      "Epoch 29/60\n",
      "72/72 [==============================] - 2s 21ms/step - loss: 0.3654 - accuracy: 0.8694 - val_loss: 1.2155 - val_accuracy: 0.6611\n",
      "Epoch 30/60\n",
      "72/72 [==============================] - 2s 21ms/step - loss: 0.3001 - accuracy: 0.8991 - val_loss: 1.2536 - val_accuracy: 0.6306\n",
      "Epoch 31/60\n",
      "72/72 [==============================] - 2s 22ms/step - loss: 0.2786 - accuracy: 0.9102 - val_loss: 1.2658 - val_accuracy: 0.6500\n",
      "Epoch 32/60\n",
      "72/72 [==============================] - 2s 21ms/step - loss: 0.3207 - accuracy: 0.8926 - val_loss: 1.3084 - val_accuracy: 0.6194\n",
      "Epoch 33/60\n",
      "72/72 [==============================] - 2s 22ms/step - loss: 0.3153 - accuracy: 0.8806 - val_loss: 1.3717 - val_accuracy: 0.6111\n",
      "Epoch 34/60\n",
      "72/72 [==============================] - 2s 21ms/step - loss: 0.2155 - accuracy: 0.9343 - val_loss: 1.3842 - val_accuracy: 0.6167\n",
      "Epoch 35/60\n",
      "72/72 [==============================] - 2s 21ms/step - loss: 0.2268 - accuracy: 0.9259 - val_loss: 1.3550 - val_accuracy: 0.6111\n",
      "Epoch 36/60\n",
      "72/72 [==============================] - 2s 21ms/step - loss: 0.2164 - accuracy: 0.9278 - val_loss: 1.3424 - val_accuracy: 0.6528\n",
      "Epoch 37/60\n",
      "72/72 [==============================] - 2s 21ms/step - loss: 0.1684 - accuracy: 0.9528 - val_loss: 1.4291 - val_accuracy: 0.6472\n",
      "Epoch 38/60\n",
      "72/72 [==============================] - 2s 21ms/step - loss: 0.1872 - accuracy: 0.9398 - val_loss: 1.2910 - val_accuracy: 0.6694\n",
      "Epoch 39/60\n",
      "72/72 [==============================] - 2s 21ms/step - loss: 0.1701 - accuracy: 0.9519 - val_loss: 1.3943 - val_accuracy: 0.6306\n",
      "Epoch 40/60\n",
      "72/72 [==============================] - 2s 21ms/step - loss: 0.2238 - accuracy: 0.9167 - val_loss: 1.3399 - val_accuracy: 0.6500\n",
      "Epoch 41/60\n",
      "72/72 [==============================] - 2s 21ms/step - loss: 0.1620 - accuracy: 0.9519 - val_loss: 1.3538 - val_accuracy: 0.6611\n",
      "Epoch 42/60\n",
      "72/72 [==============================] - 2s 21ms/step - loss: 0.1225 - accuracy: 0.9639 - val_loss: 1.4058 - val_accuracy: 0.6722\n",
      "Epoch 43/60\n",
      "72/72 [==============================] - 2s 21ms/step - loss: 0.1391 - accuracy: 0.9528 - val_loss: 1.4528 - val_accuracy: 0.6472\n",
      "Epoch 44/60\n",
      "72/72 [==============================] - 2s 21ms/step - loss: 0.1489 - accuracy: 0.9463 - val_loss: 1.5515 - val_accuracy: 0.6444\n",
      "Epoch 45/60\n",
      "72/72 [==============================] - 2s 21ms/step - loss: 0.1884 - accuracy: 0.9407 - val_loss: 1.5301 - val_accuracy: 0.6278\n",
      "Epoch 46/60\n",
      "72/72 [==============================] - 2s 21ms/step - loss: 0.1318 - accuracy: 0.9519 - val_loss: 1.5318 - val_accuracy: 0.6472\n",
      "Epoch 47/60\n",
      "72/72 [==============================] - 2s 22ms/step - loss: 0.0981 - accuracy: 0.9750 - val_loss: 1.4551 - val_accuracy: 0.6528\n",
      "Epoch 48/60\n",
      "72/72 [==============================] - 2s 21ms/step - loss: 0.1050 - accuracy: 0.9694 - val_loss: 1.5437 - val_accuracy: 0.6417\n",
      "Epoch 49/60\n",
      "72/72 [==============================] - 2s 21ms/step - loss: 0.1126 - accuracy: 0.9639 - val_loss: 1.5567 - val_accuracy: 0.6583\n",
      "Epoch 50/60\n",
      "72/72 [==============================] - 2s 22ms/step - loss: 0.1095 - accuracy: 0.9611 - val_loss: 1.5490 - val_accuracy: 0.6500\n",
      "Epoch 51/60\n",
      "72/72 [==============================] - 2s 21ms/step - loss: 0.1646 - accuracy: 0.9537 - val_loss: 1.5047 - val_accuracy: 0.6361\n",
      "Epoch 52/60\n",
      "72/72 [==============================] - 2s 22ms/step - loss: 0.1268 - accuracy: 0.9574 - val_loss: 1.5820 - val_accuracy: 0.6361\n",
      "Epoch 53/60\n",
      "72/72 [==============================] - 2s 22ms/step - loss: 0.1217 - accuracy: 0.9602 - val_loss: 1.5780 - val_accuracy: 0.6139\n",
      "Epoch 54/60\n",
      "72/72 [==============================] - 2s 21ms/step - loss: 0.1079 - accuracy: 0.9676 - val_loss: 1.5374 - val_accuracy: 0.6389\n",
      "Epoch 55/60\n",
      "72/72 [==============================] - 2s 22ms/step - loss: 0.1063 - accuracy: 0.9620 - val_loss: 1.6480 - val_accuracy: 0.6500\n",
      "Epoch 56/60\n",
      "72/72 [==============================] - 2s 21ms/step - loss: 0.1220 - accuracy: 0.9620 - val_loss: 1.6020 - val_accuracy: 0.6167\n",
      "Epoch 57/60\n",
      "72/72 [==============================] - 2s 21ms/step - loss: 0.0666 - accuracy: 0.9796 - val_loss: 1.4953 - val_accuracy: 0.6750\n",
      "Epoch 58/60\n",
      "72/72 [==============================] - 2s 21ms/step - loss: 0.0645 - accuracy: 0.9852 - val_loss: 1.5805 - val_accuracy: 0.6722\n",
      "Epoch 59/60\n",
      "72/72 [==============================] - 2s 21ms/step - loss: 0.0794 - accuracy: 0.9750 - val_loss: 1.6240 - val_accuracy: 0.6750\n",
      "Epoch 60/60\n",
      "72/72 [==============================] - 2s 22ms/step - loss: 0.0782 - accuracy: 0.9759 - val_loss: 1.7207 - val_accuracy: 0.6389\n"
     ]
    }
   ],
   "source": [
    "#fit and train model\n",
    "history = model.fit(\n",
    "    X_train_sc_1,\n",
    "    y_train,\n",
    "    epochs=60,\n",
    "    batch_size=15,\n",
    "    validation_data=(X_test_sc_1, y_test)\n",
    "  )\n"
   ]
  },
  {
   "cell_type": "code",
   "execution_count": 34,
   "metadata": {
    "colab": {
     "base_uri": "https://localhost:8080/",
     "height": 472
    },
    "id": "MqTSVY4KRlAu",
    "outputId": "4a3b1b92-19ac-4cdb-84ac-f126e29cb65e"
   },
   "outputs": [
    {
     "name": "stdout",
     "output_type": "stream",
     "text": [
      "34/34 [==============================] - 0s 6ms/step - loss: 0.0342 - accuracy: 0.9889\n",
      "Train Accuracy :  98.88888597488403 %\n",
      "12/12 [==============================] - 0s 6ms/step - loss: 1.7207 - accuracy: 0.6389\n",
      "Test Accuracy :  63.88888955116272 %\n"
     ]
    },
    {
     "data": {
      "image/png": "[encoded data removed]",
      "text/plain": [
       "<Figure size 1440x432 with 2 Axes>"
      ]
     },
     "metadata": {
      "needs_background": "light"
     },
     "output_type": "display_data"
    }
   ],
   "source": [
    "#Show nueral net performance\n",
    "print(\"Train Accuracy : \" , model.evaluate(X_train_sc_1,y_train)[1]*100 , \"%\")\n",
    "print(\"Test Accuracy : \" , model.evaluate(X_test_sc_1,y_test)[1]*100 , \"%\")\n",
    "\n",
    "epochs = [i for i in range(60)]\n",
    "fig , ax = plt.subplots(1,2)\n",
    "train_acc = history.history['accuracy']\n",
    "train_loss = history.history['loss']\n",
    "test_acc = history.history['val_accuracy']\n",
    "test_loss = history.history['val_loss']\n",
    "\n",
    "fig.set_size_inches(20,6)\n",
    "ax[0].plot(epochs , train_loss , label = 'Training Loss')\n",
    "ax[0].plot(epochs , test_loss , label = 'Testing Loss')\n",
    "ax[0].set_title('Training & Testing Loss')\n",
    "ax[0].legend()\n",
    "ax[0].set_xlabel(\"Epochs\")\n",
    "\n",
    "ax[1].plot(epochs , train_acc , label = 'Training Accuracy')\n",
    "ax[1].plot(epochs , test_acc , label = 'Testing Accuracy')\n",
    "ax[1].set_title('Training & Testing Accuracy')\n",
    "ax[1].legend()\n",
    "ax[1].set_xlabel(\"Epochs\")\n",
    "plt.show()"
   ]
  },
  {
   "cell_type": "code",
   "execution_count": 35,
   "metadata": {
    "colab": {
     "base_uri": "https://localhost:8080/"
    },
    "id": "_sokCk7NRlDP",
    "outputId": "16104183-f014-45ff-9199-2e3e24d99737"
   },
   "outputs": [
    {
     "name": "stdout",
     "output_type": "stream",
     "text": [
      "              precision    recall  f1-score   support\n",
      "\n",
      "       Angry       0.85      0.48      0.61        48\n",
      "        Calm       0.71      0.90      0.79        51\n",
      "     Disgust       0.58      0.52      0.55        48\n",
      "     Fearful       0.68      0.68      0.68        47\n",
      "       Happy       0.50      0.67      0.57        49\n",
      "     Neutral       0.59      0.38      0.47        26\n",
      "         Sad       0.52      0.66      0.58        41\n",
      "    Suprised       0.79      0.68      0.73        50\n",
      "\n",
      "    accuracy                           0.64       360\n",
      "   macro avg       0.65      0.62      0.62       360\n",
      "weighted avg       0.66      0.64      0.64       360\n",
      "\n"
     ]
    }
   ],
   "source": [
    "#Predict on test data\n",
    "y_predictions = model.predict(X_test_sc_1).argmax(axis=1)\n",
    "\n",
    "#Print classification report\n",
    "print(classification_report(y_test,y_predictions, target_names=levels))\n"
   ]
  },
  {
   "cell_type": "code",
   "execution_count": 36,
   "metadata": {
    "colab": {
     "base_uri": "https://localhost:8080/",
     "height": 621
    },
    "id": "TirnP3iWGwzs",
    "outputId": "e4ea4c2c-eebb-4649-fcf4-f9da403e5102"
   },
   "outputs": [
    {
     "data": {
      "image/png": "[encoded data removed]",
      "text/plain": [
       "<Figure size 1080x720 with 2 Axes>"
      ]
     },
     "metadata": {
      "needs_background": "light"
     },
     "output_type": "display_data"
    }
   ],
   "source": [
    "#Plot confusion matrix\n",
    "cf_matrix(y_predictions,y_test)"
   ]
  },
  {
   "cell_type": "code",
   "execution_count": 37,
   "metadata": {
    "id": "FxjDvwhARlFQ"
   },
   "outputs": [],
   "source": [
    "#Save Model\n",
    "\n",
    "save_format='h5'\n",
    "model.save(\"Chosen_Model.h5\")"
   ]
  }
 ],
 "metadata": {
  "colab": {
   "collapsed_sections": [],
   "name": "Modeling on MFCC.ipynb",
   "provenance": []
  },
  "kernelspec": {
   "display_name": "Python 3",
   "language": "python",
   "name": "python3"
  },
  "language_info": {
   "codemirror_mode": {
    "name": "ipython",
    "version": 3
   },
   "file_extension": ".py",
   "mimetype": "text/x-python",
   "name": "python",
   "nbconvert_exporter": "python",
   "pygments_lexer": "ipython3",
   "version": "3.8.8"
  }
 },
 "nbformat": 4,
 "nbformat_minor": 4
}
